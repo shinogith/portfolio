{
  "cells": [
    {
      "cell_type": "markdown",
      "metadata": {
        "id": "amdAZ0q7ffx_"
      },
      "source": [
        "# 教師データファイルの解凍"
      ]
    },
    {
      "cell_type": "code",
      "execution_count": 30,
      "metadata": {
        "id": "Oct3IJLPxrxL",
        "colab": {
          "base_uri": "https://localhost:8080/"
        },
        "outputId": "1861d5ca-3daf-4c5f-cf97-bfc6e4add094"
      },
      "outputs": [
        {
          "output_type": "stream",
          "name": "stdout",
          "text": [
            "\n",
            "7-Zip [64] 16.02 : Copyright (c) 1999-2016 Igor Pavlov : 2016-05-21\n",
            "p7zip Version 16.02 (locale=en_US.UTF-8,Utf16=on,HugeFiles=on,64 bits,2 CPUs Intel(R) Xeon(R) CPU @ 2.30GHz (306F0),ASM,AES-NI)\n",
            "\n",
            "Scanning the drive for archives:\n",
            "1 file, 2406017 bytes (2350 KiB)\n",
            "\n",
            "Extracting archive: data14.zip\n",
            "--\n",
            "Path = data14.zip\n",
            "Type = zip\n",
            "Physical Size = 2406017\n",
            "\n",
            "Everything is Ok\n",
            "\n",
            "Folders: 3\n",
            "Files: 492\n",
            "Size:       2394245\n",
            "Compressed: 2406017\n"
          ]
        }
      ],
      "source": [
        "%%bash\n",
        "\n",
        "7z x -tzip -y data14.zip"
      ]
    },
    {
      "cell_type": "markdown",
      "metadata": {
        "id": "UPsrR2jihEWO"
      },
      "source": [
        "# モジュールのインポート"
      ]
    },
    {
      "cell_type": "code",
      "execution_count": 31,
      "metadata": {
        "id": "1wMBJj41i5UP",
        "colab": {
          "base_uri": "https://localhost:8080/"
        },
        "outputId": "b6d60829-66dd-4772-8923-b49c37e96b4a"
      },
      "outputs": [
        {
          "output_type": "stream",
          "name": "stdout",
          "text": [
            "Requirement already satisfied: japanize_matplotlib in /usr/local/lib/python3.10/dist-packages (1.1.3)\n",
            "Requirement already satisfied: matplotlib in /usr/local/lib/python3.10/dist-packages (from japanize_matplotlib) (3.7.1)\n",
            "Requirement already satisfied: contourpy>=1.0.1 in /usr/local/lib/python3.10/dist-packages (from matplotlib->japanize_matplotlib) (1.1.0)\n",
            "Requirement already satisfied: cycler>=0.10 in /usr/local/lib/python3.10/dist-packages (from matplotlib->japanize_matplotlib) (0.11.0)\n",
            "Requirement already satisfied: fonttools>=4.22.0 in /usr/local/lib/python3.10/dist-packages (from matplotlib->japanize_matplotlib) (4.41.1)\n",
            "Requirement already satisfied: kiwisolver>=1.0.1 in /usr/local/lib/python3.10/dist-packages (from matplotlib->japanize_matplotlib) (1.4.4)\n",
            "Requirement already satisfied: numpy>=1.20 in /usr/local/lib/python3.10/dist-packages (from matplotlib->japanize_matplotlib) (1.22.4)\n",
            "Requirement already satisfied: packaging>=20.0 in /usr/local/lib/python3.10/dist-packages (from matplotlib->japanize_matplotlib) (23.1)\n",
            "Requirement already satisfied: pillow>=6.2.0 in /usr/local/lib/python3.10/dist-packages (from matplotlib->japanize_matplotlib) (9.4.0)\n",
            "Requirement already satisfied: pyparsing>=2.3.1 in /usr/local/lib/python3.10/dist-packages (from matplotlib->japanize_matplotlib) (3.1.0)\n",
            "Requirement already satisfied: python-dateutil>=2.7 in /usr/local/lib/python3.10/dist-packages (from matplotlib->japanize_matplotlib) (2.8.2)\n",
            "Requirement already satisfied: six>=1.5 in /usr/local/lib/python3.10/dist-packages (from python-dateutil>=2.7->matplotlib->japanize_matplotlib) (1.16.0)\n"
          ]
        }
      ],
      "source": [
        "!pip install japanize_matplotlib\n",
        "\n",
        "import numpy as np\n",
        "import tensorflow as tf\n",
        "from tensorflow.keras.utils import Sequence\n",
        "from tensorflow.keras.models import Model\n",
        "from tensorflow.keras.layers import Input, Dense, Conv2D, Conv2DTranspose, BatchNormalization\n",
        "from tensorflow.keras.layers import ReLU, Activation, Dropout, LeakyReLU, Flatten, Concatenate\n",
        "from tensorflow.keras.layers import RandomFlip\n",
        "import matplotlib.pyplot as plt\n",
        "import japanize_matplotlib\n",
        "import PIL.Image\n",
        "# tf.config.run_functions_eagerly(True)"
      ]
    },
    {
      "cell_type": "markdown",
      "metadata": {
        "id": "N8zRxz19kgfE"
      },
      "source": [
        "# 関数 save_fig：図の保存"
      ]
    },
    {
      "cell_type": "code",
      "execution_count": 32,
      "metadata": {
        "id": "G7Kt38SEAFAs"
      },
      "outputs": [],
      "source": [
        "import os\n",
        "import numpy as np\n",
        "import matplotlib.pyplot as plt\n",
        "\n",
        "def save_fig(plt, file_prefix):\n",
        "    if file_prefix == '':\n",
        "        return\n",
        "\n",
        "    parent = os.path.dirname(os.path.abspath(file_prefix))\n",
        "    os.makedirs(parent, exist_ok=True)\n",
        "    plt.savefig(f'{file_prefix}.pdf', transparent=True, bbox_inches='tight', pad_inches=0.2)\n",
        "    plt.savefig(f'{file_prefix}.png', transparent=True, dpi=300, bbox_inches='tight', pad_inches=0.2)"
      ]
    },
    {
      "cell_type": "markdown",
      "metadata": {
        "id": "5RQftlPrkOCt"
      },
      "source": [
        "# 関数 generate_images：学習過程の生成画像を保存"
      ]
    },
    {
      "cell_type": "code",
      "execution_count": 33,
      "metadata": {
        "id": "Qgl2N3WF2mZV"
      },
      "outputs": [],
      "source": [
        "import os\n",
        "ODIR = 'results'\n",
        "os.makedirs(ODIR, exist_ok=True)\n",
        "\n",
        "def generate_images(model, epoch, test_z):\n",
        "    rows = 4\n",
        "    cols = 4\n",
        "\n",
        "    samples = model(test_z, training=False)\n",
        "    output = []\n",
        "    for i in range(rows):\n",
        "        buff = np.concatenate(samples[i * cols:(i+1)*cols], axis=1)\n",
        "        output.append(buff)\n",
        "\n",
        "    output = (np.concatenate(output, axis=0) * 127.5 + 127.5).astype('uint8')\n",
        "    output_image = PIL.Image.fromarray(output)\n",
        "    output_image.save(os.path.join(ODIR, f'image_at_epoch_{epoch:04d}.png'))"
      ]
    },
    {
      "cell_type": "markdown",
      "metadata": {
        "id": "IA8dJlBZlW-N"
      },
      "source": [
        "# 実習14.1：Pythonのクラスと```__call__```関数"
      ]
    },
    {
      "cell_type": "code",
      "execution_count": 34,
      "metadata": {
        "id": "t3qOxn7clZ5R",
        "colab": {
          "base_uri": "https://localhost:8080/"
        },
        "outputId": "ef24e9fa-f0d7-44ea-b3a4-2aa3e53d0714"
      },
      "outputs": [
        {
          "output_type": "stream",
          "name": "stdout",
          "text": [
            "こんにちは情報太郎さん\n",
            "おはよう北海道子さん\n"
          ]
        }
      ],
      "source": [
        "class Student:\n",
        "    def __init__(self, name):\n",
        "        \"\"\"初期化メソッド。\n",
        "        Args:\n",
        "            name (str): 名前\n",
        "        \"\"\"\n",
        "        self.name=name # インスタンス変数に代入\n",
        "    def __call__(self, message):\n",
        "        \"\"\"初期化メソッド。\n",
        "        Args:\n",
        "            message (str): 名前\n",
        "        \"\"\"\n",
        "        print(message+self.name+'さん')\n",
        "\n",
        "s1=Student('情報太郎') # 1個目のStudentクラスインスタンスを生成\n",
        "s1('こんにちは') # インスタンスs1の__call__メソッドを利用\n",
        "\n",
        "s2=Student('北海道子') # 2個目のStudentクラスインスタンスを生成\n",
        "s2('おはよう') # インスタンスs2の__call__メソッドを利用"
      ]
    },
    {
      "cell_type": "markdown",
      "metadata": {
        "id": "EPE-4J-i82fp"
      },
      "source": [
        "# 実習14.2：画像ファイルリスト作成と定数定義"
      ]
    },
    {
      "cell_type": "code",
      "execution_count": 35,
      "metadata": {
        "id": "lrAp-Vj4yQ7P",
        "colab": {
          "base_uri": "https://localhost:8080/"
        },
        "outputId": "1f24c955-ddb5-408e-acfb-56f512692aae"
      },
      "outputs": [
        {
          "output_type": "stream",
          "name": "stdout",
          "text": [
            "画像枚数: 492\n"
          ]
        }
      ],
      "source": [
        "import glob\n",
        "\n",
        "# 解凍した教師データのフォルダ以下にあるjpgファイル一覧を取得\n",
        "file_list=glob.glob('data14/Training/Apple Red 2/**/*.jpg',recursive=True)\n",
        "print('画像枚数:',len(file_list))\n",
        "\n",
        "# バッチサイズ\n",
        "batch_size=16\n",
        "\n",
        "#エポック数\n",
        "num_epochs=400\n",
        "\n",
        "# 潜在ベクトル次元数\n",
        "zdim=128"
      ]
    },
    {
      "cell_type": "markdown",
      "metadata": {
        "id": "Rz5Qyq9Lgf27"
      },
      "source": [
        "# 実習14.3：画像データセットクラスの定義とインスタンス生成"
      ]
    },
    {
      "cell_type": "code",
      "execution_count": 36,
      "metadata": {
        "id": "aKg6hhuSyauL",
        "colab": {
          "base_uri": "https://localhost:8080/",
          "height": 468
        },
        "outputId": "5bc80428-7e85-4cb9-c622-172626d397d4"
      },
      "outputs": [
        {
          "output_type": "stream",
          "name": "stdout",
          "text": [
            "ステップ数: 30\n",
            "教師データの形状: (16, 96, 96, 3)\n"
          ]
        },
        {
          "output_type": "display_data",
          "data": {
            "text/plain": [
              "<Figure size 640x480 with 1 Axes>"
            ],
            "image/png": "[encoded data removed]"
          },
          "metadata": {}
        }
      ],
      "source": [
        "class ImageDataset(Sequence):\n",
        "    def __init__(self, file_list,batch_size):\n",
        "        self.file_list=file_list # jpgファイルのパスを格納したリスト\n",
        "        self.batch_size=batch_size # バッチサイズ\n",
        "\n",
        "    def __len__(self):\n",
        "        \"\"\"1エポック分のステップ数を取得する。\n",
        "        Returns:\n",
        "            1エポック分のステップ数\n",
        "        \"\"\"\n",
        "        return len(self.file_list) // self.batch_size\n",
        "    def __getitem__(self,index):\n",
        "        \"\"\"バッチサイズ分の画像を取得する。\n",
        "        Args:\n",
        "            index (int): ステップ番号\n",
        "        Returns:\n",
        "            指定されたステップ番号で使用する画像\n",
        "        \"\"\"\n",
        "        # 指定されたステップ番号で読み込むファイルのパス\n",
        "        files=self.file_list[self.batch_size * index : self.batch_size * (index+1)]\n",
        "        images=[] # 画像を格納するリスト\n",
        "        for f in files:\n",
        "            image=PIL.Image.open(f) # 画像の読み込み\n",
        "            image=image.resize((96,96)) # 96x96にリサイズ\n",
        "            image=image.convert('RGB') # 色形式をRGBに変換\n",
        "            image=np.array(image) # NumPy配列へ変換\n",
        "            # 画素値の範囲を[0,255]から[-1,1]への変換処理\n",
        "            image=image-127.5 # [0,255]から[-127.5,127.5]への変換\n",
        "            image=image/127.5 # [-127.5,127.5]から[-1,1]への変換\n",
        "            # (画像番号、高さ、幅、チャネル)の4次元配列へ変換\n",
        "            image=image.reshape((1,96,96,3))\n",
        "            images.append(image) # リストへ画像を追加\n",
        "        # （バッチサイズ、96、96、3）の形状の配列へ変換後に返却\n",
        "        return np.concatenate(images,axis=0).astype('float32')\n",
        "# クラス定義の外。ImageDatasetクラスのインスタンスの生成\n",
        "dataset=ImageDataset(file_list,batch_size)\n",
        "\n",
        "print('ステップ数:',len(dataset))\n",
        "images=dataset[0] # ステップ番号0の画像を取り出す\n",
        "print(\"教師データの形状:\",images.shape)\n",
        "\n",
        "# 最初の画像を表示。画素値の範囲を表示のため[-1,1]から[0,1]へ変換\n",
        "plt.imshow((images[0]+1)*0.5)\n",
        "plt.show()"
      ]
    },
    {
      "cell_type": "markdown",
      "metadata": {
        "id": "ZOhD0OcFkdUT"
      },
      "source": [
        "# 実習14.4：生成器の定義と生成"
      ]
    },
    {
      "cell_type": "code",
      "execution_count": 37,
      "metadata": {
        "id": "FTNQy0yDmKhr",
        "colab": {
          "base_uri": "https://localhost:8080/"
        },
        "outputId": "02ebbc8d-733c-4847-ccec-c2363ca1d565"
      },
      "outputs": [
        {
          "output_type": "stream",
          "name": "stdout",
          "text": [
            "Model: \"model_2\"\n",
            "_________________________________________________________________\n",
            " Layer (type)                Output Shape              Param #   \n",
            "=================================================================\n",
            " input_4 (InputLayer)        [(None, 1, 1, 128)]       0         \n",
            "                                                                 \n",
            " conv2d_transpose_5 (Conv2DT  (None, 4, 4, 256)        524288    \n",
            " ranspose)                                                       \n",
            "                                                                 \n",
            " batch_normalization_10 (Bat  (None, 4, 4, 256)        1024      \n",
            " chNormalization)                                                \n",
            "                                                                 \n",
            " leaky_re_lu_12 (LeakyReLU)  (None, 4, 4, 256)         0         \n",
            "                                                                 \n",
            " conv2d_transpose_6 (Conv2DT  (None, 10, 10, 128)      524288    \n",
            " ranspose)                                                       \n",
            "                                                                 \n",
            " batch_normalization_11 (Bat  (None, 10, 10, 128)      512       \n",
            " chNormalization)                                                \n",
            "                                                                 \n",
            " leaky_re_lu_13 (LeakyReLU)  (None, 10, 10, 128)       0         \n",
            "                                                                 \n",
            " conv2d_transpose_7 (Conv2DT  (None, 22, 22, 64)       131072    \n",
            " ranspose)                                                       \n",
            "                                                                 \n",
            " batch_normalization_12 (Bat  (None, 22, 22, 64)       256       \n",
            " chNormalization)                                                \n",
            "                                                                 \n",
            " leaky_re_lu_14 (LeakyReLU)  (None, 22, 22, 64)        0         \n",
            "                                                                 \n",
            " conv2d_transpose_8 (Conv2DT  (None, 47, 47, 32)       51200     \n",
            " ranspose)                                                       \n",
            "                                                                 \n",
            " batch_normalization_13 (Bat  (None, 47, 47, 32)       128       \n",
            " chNormalization)                                                \n",
            "                                                                 \n",
            " leaky_re_lu_15 (LeakyReLU)  (None, 47, 47, 32)        0         \n",
            "                                                                 \n",
            " conv2d_transpose_9 (Conv2DT  (None, 96, 96, 3)        1536      \n",
            " ranspose)                                                       \n",
            "                                                                 \n",
            " activation_2 (Activation)   (None, 96, 96, 3)         0         \n",
            "                                                                 \n",
            "=================================================================\n",
            "Total params: 1,234,304\n",
            "Trainable params: 1,233,344\n",
            "Non-trainable params: 960\n",
            "_________________________________________________________________\n"
          ]
        }
      ],
      "source": [
        "def make_Gblock(x,filters,kernel_size,strides):\n",
        "    \"\"\"同じ構造を持つ層のあつまり（ブロック）への入力を処理する。\n",
        "    Args:\n",
        "        x: ブロックへの入力\n",
        "        filters: 転置畳み込み層のフィルタ数\n",
        "        kernel_size: 転置畳み込みのカーネルサイズ\n",
        "        strides: 転置畳み込みのストライド\n",
        "    Returns:\n",
        "        ブロックからの出力\n",
        "    \"\"\"\n",
        "    # 転置畳み込み。バイアスは使用（学習）しない\n",
        "    x=Conv2DTranspose(filters=filters,kernel_size=kernel_size,strides=strides,use_bias=False)(x)\n",
        "    x=BatchNormalization()(x)\n",
        "    x=LeakyReLU(0.2)(x)\n",
        "    return x\n",
        "def make_G(zdim):\n",
        "    \"\"\"生成器を定義する。\n",
        "    Args:\n",
        "        zdim: 潜在ベクトルの次元数\n",
        "    Returns:\n",
        "        生成器\n",
        "    \"\"\"\n",
        "    # 1個の潜在ベクトルを高さ1、幅1、チャネル数zdimの画像として生成器に入力する。\n",
        "    # 生成器への入力サイズを入力層に教える。\n",
        "    inputs=Input(shape=(1,1,zdim))\n",
        "    x=make_Gblock(inputs,256,4,1)\n",
        "    x=make_Gblock(x,128,4,2)\n",
        "    x=make_Gblock(x,64,4,2)\n",
        "    x=make_Gblock(x,32,5,2)\n",
        "\n",
        "    x=Conv2DTranspose(filters=3,kernel_size=4,strides=2,use_bias=False)(x)\n",
        "    outputs=Activation('tanh')(x) # 出力層の活性化関数\n",
        "    model=Model(inputs=inputs,outputs=outputs)\n",
        "    return model\n",
        "\n",
        "# 関数の外。生成器の生成\n",
        "G=make_G(zdim)\n",
        "G.summary()"
      ]
    },
    {
      "cell_type": "markdown",
      "metadata": {
        "id": "WU6XPJAhnVLu"
      },
      "source": [
        "# 実習14.5：識別器の定義と生成"
      ]
    },
    {
      "cell_type": "code",
      "execution_count": 38,
      "metadata": {
        "id": "p5osGu_0nlxX",
        "colab": {
          "base_uri": "https://localhost:8080/"
        },
        "outputId": "476884c5-b276-457a-ec92-e9570464870d"
      },
      "outputs": [
        {
          "output_type": "stream",
          "name": "stdout",
          "text": [
            "Model: \"model_3\"\n",
            "_________________________________________________________________\n",
            " Layer (type)                Output Shape              Param #   \n",
            "=================================================================\n",
            " input_5 (InputLayer)        [(None, 96, 96, 3)]       0         \n",
            "                                                                 \n",
            " random_flip_2 (RandomFlip)  (None, 96, 96, 3)         0         \n",
            "                                                                 \n",
            " conv2d_10 (Conv2D)          (None, 47, 47, 32)        1568      \n",
            "                                                                 \n",
            " leaky_re_lu_16 (LeakyReLU)  (None, 47, 47, 32)        0         \n",
            "                                                                 \n",
            " dropout_8 (Dropout)         (None, 47, 47, 32)        0         \n",
            "                                                                 \n",
            " conv2d_11 (Conv2D)          (None, 22, 22, 64)        32832     \n",
            "                                                                 \n",
            " batch_normalization_14 (Bat  (None, 22, 22, 64)       256       \n",
            " chNormalization)                                                \n",
            "                                                                 \n",
            " leaky_re_lu_17 (LeakyReLU)  (None, 22, 22, 64)        0         \n",
            "                                                                 \n",
            " dropout_9 (Dropout)         (None, 22, 22, 64)        0         \n",
            "                                                                 \n",
            " conv2d_12 (Conv2D)          (None, 10, 10, 128)       131200    \n",
            "                                                                 \n",
            " batch_normalization_15 (Bat  (None, 10, 10, 128)      512       \n",
            " chNormalization)                                                \n",
            "                                                                 \n",
            " leaky_re_lu_18 (LeakyReLU)  (None, 10, 10, 128)       0         \n",
            "                                                                 \n",
            " dropout_10 (Dropout)        (None, 10, 10, 128)       0         \n",
            "                                                                 \n",
            " conv2d_13 (Conv2D)          (None, 4, 4, 256)         524544    \n",
            "                                                                 \n",
            " batch_normalization_16 (Bat  (None, 4, 4, 256)        1024      \n",
            " chNormalization)                                                \n",
            "                                                                 \n",
            " leaky_re_lu_19 (LeakyReLU)  (None, 4, 4, 256)         0         \n",
            "                                                                 \n",
            " dropout_11 (Dropout)        (None, 4, 4, 256)         0         \n",
            "                                                                 \n",
            " conv2d_14 (Conv2D)          (None, 1, 1, 256)         1048832   \n",
            "                                                                 \n",
            " dense_1 (Dense)             (None, 1, 1, 1)           257       \n",
            "                                                                 \n",
            " activation_3 (Activation)   (None, 1, 1, 1)           0         \n",
            "                                                                 \n",
            "=================================================================\n",
            "Total params: 1,741,025\n",
            "Trainable params: 1,740,129\n",
            "Non-trainable params: 896\n",
            "_________________________________________________________________\n"
          ]
        }
      ],
      "source": [
        "def make_Dblock(x,filters,kernel_size,strides,use_bn=True):\n",
        "    \"\"\"同じ構造を持つ層のあつまり（ブロック）への入力を処理する。\n",
        "    Args:\n",
        "        x: ブロックへの入力\n",
        "        filters: 転置畳み込み層のフィルタ数\n",
        "        kernel_size: 転置畳み込みのカーネルサイズ\n",
        "        strides: 転置畳み込みのストライド\n",
        "        use_bn: バッチ正規化を使うか否か\n",
        "    Returns:\n",
        "        ブロックからの出力\n",
        "    \"\"\"\n",
        "    x=Conv2D(filters=filters,kernel_size=kernel_size,strides=strides)(x)\n",
        "    if use_bn:\n",
        "        x=BatchNormalization()(x)\n",
        "    x=LeakyReLU(0.1)(x)\n",
        "    x=Dropout(rate=0.2)(x)\n",
        "    return x\n",
        "def make_D(zdim):\n",
        "    \"\"\"識別器を定義する。\n",
        "    Args:\n",
        "        zdim: 潜在ベクトルの次元数\n",
        "    Returns:\n",
        "        生成器\n",
        "    \"\"\"\n",
        "    # 1個の画像のサイズは高さ96、幅96、チャネル数3。\n",
        "    # 識別器への入力サイズ（1枚の画像サイズ）を入力層に教える。\n",
        "    inputs=Input(shape=(96,96,3))\n",
        "    x=RandomFlip(mode='horizontal')(inputs) # データ拡張。左右反転\n",
        "    x=make_Dblock(x,32,4,2,False)\n",
        "    x=make_Dblock(x,64,4,2)\n",
        "    x=make_Dblock(x,128,4,2)\n",
        "    x=make_Dblock(x,256,4,2)\n",
        "    x=Conv2D(filters=256,kernel_size=4,strides=1)(x)\n",
        "    x=Dense(units=1)(x)\n",
        "    outputs=Activation('sigmoid')(x) # 出力層の活性化関数\n",
        "    model=Model(inputs=inputs,outputs=outputs)\n",
        "    return model\n",
        "\n",
        "# 関数の外。生成器の生成\n",
        "D=make_D(zdim)\n",
        "D.summary()"
      ]
    },
    {
      "cell_type": "markdown",
      "metadata": {
        "id": "i03e8vNZixzH"
      },
      "source": [
        "# 実習14.6：生成器用の損失関数\n"
      ]
    },
    {
      "cell_type": "code",
      "execution_count": 39,
      "metadata": {
        "id": "kfw-Hn2v2Veu",
        "colab": {
          "base_uri": "https://localhost:8080/"
        },
        "outputId": "4c9486d9-d425-49e2-b9b2-4e8115a102b8"
      },
      "outputs": [
        {
          "output_type": "stream",
          "name": "stdout",
          "text": [
            "すべて偽物と判定された場合\n",
            "fake_pred: tf.Tensor(\n",
            "[[0.]\n",
            " [0.]\n",
            " [0.]\n",
            " [0.]\n",
            " [0.]\n",
            " [0.]\n",
            " [0.]\n",
            " [0.]\n",
            " [0.]\n",
            " [0.]\n",
            " [0.]\n",
            " [0.]\n",
            " [0.]\n",
            " [0.]\n",
            " [0.]\n",
            " [0.]], shape=(16, 1), dtype=float32)\n",
            "損失: tf.Tensor(15.424949, shape=(), dtype=float32)\n",
            "すべて本物と判定された場合\n",
            "tf.Tensor(\n",
            "[[1.]\n",
            " [1.]\n",
            " [1.]\n",
            " [1.]\n",
            " [1.]\n",
            " [1.]\n",
            " [1.]\n",
            " [1.]\n",
            " [1.]\n",
            " [1.]\n",
            " [1.]\n",
            " [1.]\n",
            " [1.]\n",
            " [1.]\n",
            " [1.]\n",
            " [1.]], shape=(16, 1), dtype=float32)\n",
            "損失: tf.Tensor(-0.0, shape=(), dtype=float32)\n"
          ]
        }
      ],
      "source": [
        "from tensorflow.keras.losses import BinaryCrossentropy\n",
        "cross_entropy=BinaryCrossentropy() # 2クラス分類用交差エントロピー誤差\n",
        "\n",
        "def G_loss_func(fake_pred):\n",
        "    \"\"\"生成器用の損失関数\n",
        "    Args:\n",
        "        fake_pred: 識別器が生成画像(fake)を本物と予測した確率\n",
        "    Returns:\n",
        "        損失\n",
        "    \"\"\"\n",
        "    # 本物であることを示すクラスラベル\n",
        "    real_labels=tf.ones_like(fake_pred)\n",
        "    # 生成器にとっては自分が生成した画像を、識別器に本物だと騙せると損失は小さくなる。\n",
        "    return cross_entropy(real_labels,fake_pred)\n",
        "# 関数の外。G_loss_funcのテスト\n",
        "# 識別器が生成画像(fake)を本物と予測した確率が0、識別器に生成画像が偽物と見破られた場合\n",
        "print('すべて偽物と判定された場合')\n",
        "fake_pred=tf.zeros((batch_size,1),dtype='float32')\n",
        "print('fake_pred:',fake_pred)\n",
        "value=G_loss_func(fake_pred)\n",
        "print('損失:',value)\n",
        "\n",
        "# 識別器が生成画像(fake)を本物と予測した確率がすべて1、識別器に生成画像が本物だと騙せた場合\n",
        "print('すべて本物と判定された場合')\n",
        "fake_pred=tf.ones((batch_size,1),dtype='float32')\n",
        "print(fake_pred)\n",
        "value=G_loss_func(fake_pred)\n",
        "print('損失:',value)"
      ]
    },
    {
      "cell_type": "markdown",
      "metadata": {
        "id": "Udb5b0KdhJk-"
      },
      "source": [
        "# 実習14.7：識別器用の損失関数"
      ]
    },
    {
      "cell_type": "code",
      "execution_count": 40,
      "metadata": {
        "id": "NfME6ryFr46g",
        "colab": {
          "base_uri": "https://localhost:8080/"
        },
        "outputId": "71ba3091-55a6-466e-cfb6-120ea40fa6f4"
      },
      "outputs": [
        {
          "output_type": "stream",
          "name": "stdout",
          "text": [
            "実画像を本物、生成画像を偽物と正しく判定できた場合\n",
            "損失: tf.Tensor(-0.0, shape=(), dtype=float32)\n",
            "実画像を偽物、生成画像を本物と誤って判定した場合\n",
            "損失: tf.Tensor(30.758186, shape=(), dtype=float32)\n"
          ]
        }
      ],
      "source": [
        "def D_loss_func(real_pred,fake_pred):\n",
        "    \"\"\"識別器用の損失関数\n",
        "    Args:\n",
        "        real_pred: 識別器が生成画像(real)を本物と予測した確率\n",
        "        fake_pred: 識別器が生成画像(fake)を偽物と予測した確率\n",
        "    Returns:\n",
        "        損失\n",
        "    \"\"\"\n",
        "    real_labels=tf.ones_like(real_pred) # 本物であることを示すクラスラベル\n",
        "    fake_labels=tf.zeros_like(real_pred) # 偽物であることを示すクラスラベル\n",
        "\n",
        "    # ケース1:実画像に対して、本物であると判定できたか\n",
        "    real_loss=cross_entropy(real_labels,real_pred)\n",
        "\n",
        "    # ケース2:生成画像に対して、偽物であると判定できたか\n",
        "    fake_loss=cross_entropy(fake_labels,fake_pred)\n",
        "    total_loss=real_loss+fake_loss # ケース1と2の損失を合計\n",
        "    return total_loss\n",
        "# 関数の外。\n",
        "print('実画像を本物、生成画像を偽物と正しく判定できた場合')\n",
        "real_pred=tf.ones((batch_size,1),dtype='float32')\n",
        "fake_pred=tf.zeros((batch_size,1),dtype='float32')\n",
        "value=D_loss_func(real_pred,fake_pred)\n",
        "print('損失:',value)\n",
        "\n",
        "print('実画像を偽物、生成画像を本物と誤って判定した場合')\n",
        "value=D_loss_func(fake_pred,real_pred)\n",
        "print('損失:',value)"
      ]
    },
    {
      "cell_type": "markdown",
      "metadata": {
        "id": "DsYBWMU-j6is"
      },
      "source": [
        "# 実習14.8：最適化手法の設定とステップ単位の学習を行う関数"
      ]
    },
    {
      "cell_type": "code",
      "execution_count": 41,
      "metadata": {
        "id": "Wy7_sann2fGM",
        "colab": {
          "base_uri": "https://localhost:8080/"
        },
        "outputId": "c0e3e954-f888-4791-d012-afacfbde1176"
      },
      "outputs": [
        {
          "output_type": "stream",
          "name": "stdout",
          "text": [
            "G_step_loss: tf.Tensor(1.8857481, shape=(), dtype=float32)\n",
            "D_step_loss: tf.Tensor(1.5781649, shape=(), dtype=float32)\n"
          ]
        }
      ],
      "source": [
        "G_optimizer=tf.keras.optimizers.Adam(1e-4) # 生成器用最適化手法。学習率1e-4\n",
        "D_optimizer=tf.keras.optimizers.Adam(1e-4) # 識別器用最適化手法。学習率1e-4\n",
        "\n",
        "@tf.function\n",
        "def train_step(real_images,z):\n",
        "    \"\"\"ステップ単位の学習\n",
        "    Args:\n",
        "        real_images: 実画像\n",
        "        z: 潜在ベクトル\n",
        "    Returns:\n",
        "        生成器と識別器の損失\n",
        "    \"\"\"\n",
        "    # 各層での計算をG_tapeとD_tapeに記録する（計算グラフの作成）\n",
        "    with tf.GradientTape() as G_tape, tf.GradientTape() as D_tape:\n",
        "        fake_images=G(z,training=True) # 潜在ベクトルから画像を生成\n",
        "        real_pred=D(real_images, training=True) # 実画像に対する真贋判定\n",
        "        fake_pred=D(fake_images, training=True) # 生成画像に対する真贋判定\n",
        "        G_step_loss=G_loss_func(fake_pred) # 生成器の損失計算\n",
        "        D_step_loss=D_loss_func(real_pred,fake_pred) # 識別器の損失計算\n",
        "\n",
        "    # 生成器について、訓練可能なパラメータ（trainable_variables）について、損失の勾配を計算\n",
        "    G_gradient=G_tape.gradient(G_step_loss, G.trainable_variables)\n",
        "    # 識別器について、訓練可能なパラメータ（trainable_variables）について、損失の勾配を計算\n",
        "    D_gradient=D_tape.gradient(D_step_loss, D.trainable_variables)\n",
        "\n",
        "    # 生成器の最適化手法で、生成器のパラメータを更新\n",
        "    G_optimizer.apply_gradients(zip(G_gradient,G.trainable_variables))\n",
        "    # 識別器の最適化手法で、生成器のパラメータを更新\n",
        "    D_optimizer.apply_gradients(zip(D_gradient,D.trainable_variables))\n",
        "    return G_step_loss, D_step_loss\n",
        "\n",
        "# 関数の外。train_stepのテスト\n",
        "test_images=tf.ones((batch_size,96,96,3),dtype='float32')\n",
        "z=tf.random.normal((batch_size,1,1,zdim),stddev=0.1)\n",
        "G_step_loss,D_step_loss=train_step(test_images,z)\n",
        "print('G_step_loss:',G_step_loss)\n",
        "print('D_step_loss:',D_step_loss)"
      ]
    },
    {
      "cell_type": "markdown",
      "metadata": {
        "id": "0iI65gEckykb"
      },
      "source": [
        "# 実習14.9：学習"
      ]
    },
    {
      "cell_type": "code",
      "execution_count": 42,
      "metadata": {
        "id": "9675K9VT29jZ",
        "colab": {
          "base_uri": "https://localhost:8080/"
        },
        "outputId": "73a6f62e-2233-4c0f-83e0-e0920a8f5d69"
      },
      "outputs": [
        {
          "output_type": "stream",
          "name": "stdout",
          "text": [
            "(16, 1, 1, 128)\n",
            "Epoch 1,G_loss: 111.4481, D_loss: 7.5126\n",
            "Epoch 2,G_loss: 139.1698, D_loss: 1.0373\n",
            "Epoch 3,G_loss: 161.8161, D_loss: 0.6509\n",
            "Epoch 4,G_loss: 172.0921, D_loss: 0.3834\n",
            "Epoch 5,G_loss: 185.6812, D_loss: 0.3024\n",
            "Epoch 6,G_loss: 193.3086, D_loss: 0.2578\n",
            "Epoch 7,G_loss: 189.8393, D_loss: 0.3143\n",
            "Epoch 8,G_loss: 178.0308, D_loss: 0.6246\n",
            "Epoch 9,G_loss: 176.9778, D_loss: 0.8096\n",
            "Epoch 10,G_loss: 186.4619, D_loss: 0.8276\n",
            "Epoch 11,G_loss: 190.9130, D_loss: 1.0059\n",
            "Epoch 12,G_loss: 205.7599, D_loss: 1.4982\n",
            "Epoch 13,G_loss: 214.6736, D_loss: 1.5821\n",
            "Epoch 14,G_loss: 215.9911, D_loss: 1.7280\n",
            "Epoch 15,G_loss: 225.4928, D_loss: 2.2452\n",
            "Epoch 16,G_loss: 211.9710, D_loss: 2.6015\n",
            "Epoch 17,G_loss: 249.0762, D_loss: 1.8449\n",
            "Epoch 18,G_loss: 221.7185, D_loss: 2.8669\n",
            "Epoch 19,G_loss: 224.7071, D_loss: 3.8080\n",
            "Epoch 20,G_loss: 229.9839, D_loss: 3.1358\n",
            "Epoch 21,G_loss: 260.4287, D_loss: 3.7729\n",
            "Epoch 22,G_loss: 267.1234, D_loss: 3.7483\n",
            "Epoch 23,G_loss: 242.3451, D_loss: 4.4566\n",
            "Epoch 24,G_loss: 251.4485, D_loss: 3.5283\n",
            "Epoch 25,G_loss: 277.0746, D_loss: 2.7826\n",
            "Epoch 26,G_loss: 258.7703, D_loss: 5.5281\n",
            "Epoch 27,G_loss: 285.8516, D_loss: 8.6193\n",
            "Epoch 28,G_loss: 289.4731, D_loss: 5.7687\n",
            "Epoch 29,G_loss: 262.4807, D_loss: 5.7501\n",
            "Epoch 30,G_loss: 281.7803, D_loss: 7.9503\n",
            "Epoch 31,G_loss: 272.0345, D_loss: 6.5477\n",
            "Epoch 32,G_loss: 260.9083, D_loss: 8.9120\n",
            "Epoch 33,G_loss: 298.9242, D_loss: 7.6006\n",
            "Epoch 34,G_loss: 265.8252, D_loss: 9.6081\n",
            "Epoch 35,G_loss: 270.4155, D_loss: 9.2653\n",
            "Epoch 36,G_loss: 248.8167, D_loss: 9.1950\n",
            "Epoch 37,G_loss: 263.7471, D_loss: 8.2273\n",
            "Epoch 38,G_loss: 253.5004, D_loss: 5.6673\n",
            "Epoch 39,G_loss: 255.2677, D_loss: 6.9385\n",
            "Epoch 40,G_loss: 225.3865, D_loss: 9.6420\n",
            "Epoch 41,G_loss: 228.0225, D_loss: 7.9731\n",
            "Epoch 42,G_loss: 234.8656, D_loss: 7.9175\n",
            "Epoch 43,G_loss: 254.0723, D_loss: 6.6956\n",
            "Epoch 44,G_loss: 255.1423, D_loss: 4.3148\n",
            "Epoch 45,G_loss: 261.3026, D_loss: 5.3531\n",
            "Epoch 46,G_loss: 283.8885, D_loss: 11.7801\n",
            "Epoch 47,G_loss: 363.9758, D_loss: 17.2703\n",
            "Epoch 48,G_loss: 206.0787, D_loss: 11.8177\n",
            "Epoch 49,G_loss: 226.4124, D_loss: 7.2624\n",
            "Epoch 50,G_loss: 236.4995, D_loss: 7.6297\n",
            "Epoch 51,G_loss: 245.1835, D_loss: 8.1854\n",
            "Epoch 52,G_loss: 267.4518, D_loss: 5.9622\n",
            "Epoch 53,G_loss: 258.1946, D_loss: 14.0307\n",
            "Epoch 54,G_loss: 246.8247, D_loss: 7.9935\n",
            "Epoch 55,G_loss: 226.2345, D_loss: 7.7418\n",
            "Epoch 56,G_loss: 230.7406, D_loss: 6.5976\n",
            "Epoch 57,G_loss: 298.9473, D_loss: 4.8570\n",
            "Epoch 58,G_loss: 243.6660, D_loss: 11.1185\n",
            "Epoch 59,G_loss: 259.8497, D_loss: 3.6668\n",
            "Epoch 60,G_loss: 265.6680, D_loss: 5.4084\n",
            "Epoch 61,G_loss: 241.3714, D_loss: 2.6640\n",
            "Epoch 62,G_loss: 255.6950, D_loss: 5.5011\n",
            "Epoch 63,G_loss: 222.3312, D_loss: 6.2675\n",
            "Epoch 64,G_loss: 298.4036, D_loss: 7.0939\n",
            "Epoch 65,G_loss: 250.9627, D_loss: 3.7423\n",
            "Epoch 66,G_loss: 332.9586, D_loss: 5.8290\n",
            "Epoch 67,G_loss: 236.3225, D_loss: 5.5308\n",
            "Epoch 68,G_loss: 250.3708, D_loss: 3.9988\n",
            "Epoch 69,G_loss: 365.2844, D_loss: 6.8101\n",
            "Epoch 70,G_loss: 240.8949, D_loss: 4.1457\n",
            "Epoch 71,G_loss: 228.8031, D_loss: 5.3075\n",
            "Epoch 72,G_loss: 224.9446, D_loss: 3.4716\n",
            "Epoch 73,G_loss: 255.0287, D_loss: 4.1747\n",
            "Epoch 74,G_loss: 263.5571, D_loss: 4.3164\n",
            "Epoch 75,G_loss: 227.7429, D_loss: 5.4961\n",
            "Epoch 76,G_loss: 327.2122, D_loss: 5.7779\n",
            "Epoch 77,G_loss: 251.9637, D_loss: 4.1786\n",
            "Epoch 78,G_loss: 254.8705, D_loss: 2.8244\n",
            "Epoch 79,G_loss: 241.6141, D_loss: 4.7515\n",
            "Epoch 80,G_loss: 305.0993, D_loss: 6.6732\n",
            "Epoch 81,G_loss: 234.2096, D_loss: 4.1092\n",
            "Epoch 82,G_loss: 251.4928, D_loss: 7.9512\n",
            "Epoch 83,G_loss: 280.8717, D_loss: 7.7924\n",
            "Epoch 84,G_loss: 232.3664, D_loss: 6.6465\n",
            "Epoch 85,G_loss: 226.5303, D_loss: 4.2254\n",
            "Epoch 86,G_loss: 226.1601, D_loss: 5.0423\n",
            "Epoch 87,G_loss: 243.2104, D_loss: 3.4827\n",
            "Epoch 88,G_loss: 201.6884, D_loss: 7.3433\n",
            "Epoch 89,G_loss: 215.6920, D_loss: 6.0143\n",
            "Epoch 90,G_loss: 220.6839, D_loss: 7.4552\n",
            "Epoch 91,G_loss: 248.9010, D_loss: 4.7563\n",
            "Epoch 92,G_loss: 221.7121, D_loss: 8.6672\n",
            "Epoch 93,G_loss: 245.3632, D_loss: 6.7591\n",
            "Epoch 94,G_loss: 190.3623, D_loss: 8.4490\n",
            "Epoch 95,G_loss: 210.5597, D_loss: 8.4604\n",
            "Epoch 96,G_loss: 188.0251, D_loss: 8.6920\n",
            "Epoch 97,G_loss: 224.6295, D_loss: 7.7582\n",
            "Epoch 98,G_loss: 233.5027, D_loss: 6.3129\n",
            "Epoch 99,G_loss: 238.6796, D_loss: 4.7337\n",
            "Epoch 100,G_loss: 198.3351, D_loss: 8.1763\n",
            "Epoch 101,G_loss: 200.8132, D_loss: 7.3587\n",
            "Epoch 102,G_loss: 198.1129, D_loss: 6.1268\n",
            "Epoch 103,G_loss: 203.0134, D_loss: 7.5190\n",
            "Epoch 104,G_loss: 246.4435, D_loss: 8.0221\n",
            "Epoch 105,G_loss: 201.1367, D_loss: 6.8279\n",
            "Epoch 106,G_loss: 198.0849, D_loss: 7.8718\n",
            "Epoch 107,G_loss: 222.1037, D_loss: 6.0640\n",
            "Epoch 108,G_loss: 192.7486, D_loss: 11.8349\n",
            "Epoch 109,G_loss: 241.4625, D_loss: 12.7902\n",
            "Epoch 110,G_loss: 176.6223, D_loss: 9.5730\n",
            "Epoch 111,G_loss: 203.5734, D_loss: 5.1277\n",
            "Epoch 112,G_loss: 241.6855, D_loss: 3.6443\n",
            "Epoch 113,G_loss: 228.8840, D_loss: 4.5033\n",
            "Epoch 114,G_loss: 183.9862, D_loss: 7.6241\n",
            "Epoch 115,G_loss: 171.1618, D_loss: 11.9006\n",
            "Epoch 116,G_loss: 203.9649, D_loss: 13.2735\n",
            "Epoch 117,G_loss: 185.5435, D_loss: 10.6035\n",
            "Epoch 118,G_loss: 194.5917, D_loss: 11.2962\n",
            "Epoch 119,G_loss: 197.4568, D_loss: 7.0863\n",
            "Epoch 120,G_loss: 192.2579, D_loss: 17.3759\n",
            "Epoch 121,G_loss: 200.2102, D_loss: 7.1740\n",
            "Epoch 122,G_loss: 162.5300, D_loss: 10.6572\n",
            "Epoch 123,G_loss: 180.7732, D_loss: 9.1986\n",
            "Epoch 124,G_loss: 188.3963, D_loss: 9.4859\n",
            "Epoch 125,G_loss: 172.8391, D_loss: 7.6417\n",
            "Epoch 126,G_loss: 186.7529, D_loss: 7.9271\n",
            "Epoch 127,G_loss: 172.3089, D_loss: 11.1562\n",
            "Epoch 128,G_loss: 171.5804, D_loss: 10.3839\n",
            "Epoch 129,G_loss: 176.9160, D_loss: 8.5782\n",
            "Epoch 130,G_loss: 185.6575, D_loss: 10.0330\n",
            "Epoch 131,G_loss: 167.2761, D_loss: 9.2503\n",
            "Epoch 132,G_loss: 192.7929, D_loss: 9.3485\n",
            "Epoch 133,G_loss: 167.0076, D_loss: 7.0772\n",
            "Epoch 134,G_loss: 165.3960, D_loss: 7.8693\n",
            "Epoch 135,G_loss: 158.7103, D_loss: 8.8900\n",
            "Epoch 136,G_loss: 170.8586, D_loss: 7.5058\n",
            "Epoch 137,G_loss: 172.4893, D_loss: 7.2630\n",
            "Epoch 138,G_loss: 173.1031, D_loss: 4.9652\n",
            "Epoch 139,G_loss: 179.4430, D_loss: 6.7278\n",
            "Epoch 140,G_loss: 178.5921, D_loss: 9.7526\n",
            "Epoch 141,G_loss: 188.2648, D_loss: 6.1749\n",
            "Epoch 142,G_loss: 160.6002, D_loss: 11.1643\n",
            "Epoch 143,G_loss: 181.9988, D_loss: 9.1473\n",
            "Epoch 144,G_loss: 179.2824, D_loss: 8.3653\n",
            "Epoch 145,G_loss: 187.7592, D_loss: 7.6503\n",
            "Epoch 146,G_loss: 184.4845, D_loss: 6.1220\n",
            "Epoch 147,G_loss: 172.7214, D_loss: 6.3427\n",
            "Epoch 148,G_loss: 176.2238, D_loss: 7.7380\n",
            "Epoch 149,G_loss: 189.8992, D_loss: 9.2239\n",
            "Epoch 150,G_loss: 181.3259, D_loss: 7.4997\n",
            "Epoch 151,G_loss: 185.5529, D_loss: 7.5239\n",
            "Epoch 152,G_loss: 186.1849, D_loss: 7.3754\n",
            "Epoch 153,G_loss: 174.4806, D_loss: 7.3300\n",
            "Epoch 154,G_loss: 180.2415, D_loss: 11.5819\n",
            "Epoch 155,G_loss: 169.7682, D_loss: 11.1278\n",
            "Epoch 156,G_loss: 188.2172, D_loss: 7.3518\n",
            "Epoch 157,G_loss: 177.5454, D_loss: 11.7536\n",
            "Epoch 158,G_loss: 173.5556, D_loss: 8.5898\n",
            "Epoch 159,G_loss: 172.8801, D_loss: 7.3764\n",
            "Epoch 160,G_loss: 195.8905, D_loss: 5.3590\n",
            "Epoch 161,G_loss: 157.2196, D_loss: 8.9312\n",
            "Epoch 162,G_loss: 165.8501, D_loss: 9.2555\n",
            "Epoch 163,G_loss: 173.8854, D_loss: 11.2889\n",
            "Epoch 164,G_loss: 161.1850, D_loss: 7.0757\n",
            "Epoch 165,G_loss: 164.0122, D_loss: 9.3877\n",
            "Epoch 166,G_loss: 189.9123, D_loss: 7.8325\n",
            "Epoch 167,G_loss: 161.0232, D_loss: 9.4432\n",
            "Epoch 168,G_loss: 176.8818, D_loss: 9.4109\n",
            "Epoch 169,G_loss: 166.7583, D_loss: 10.8952\n",
            "Epoch 170,G_loss: 165.0214, D_loss: 8.9117\n",
            "Epoch 171,G_loss: 173.9252, D_loss: 9.7426\n",
            "Epoch 172,G_loss: 181.2497, D_loss: 9.2074\n",
            "Epoch 173,G_loss: 159.2120, D_loss: 8.6376\n",
            "Epoch 174,G_loss: 161.5298, D_loss: 8.5177\n",
            "Epoch 175,G_loss: 167.9704, D_loss: 8.7700\n",
            "Epoch 176,G_loss: 159.1424, D_loss: 10.2125\n",
            "Epoch 177,G_loss: 182.7204, D_loss: 9.2206\n",
            "Epoch 178,G_loss: 171.5627, D_loss: 6.2154\n",
            "Epoch 179,G_loss: 158.6015, D_loss: 7.3300\n",
            "Epoch 180,G_loss: 158.4330, D_loss: 7.7165\n",
            "Epoch 181,G_loss: 158.2278, D_loss: 10.5405\n",
            "Epoch 182,G_loss: 152.1373, D_loss: 9.0214\n",
            "Epoch 183,G_loss: 167.6021, D_loss: 9.2728\n",
            "Epoch 184,G_loss: 157.0094, D_loss: 9.3198\n",
            "Epoch 185,G_loss: 172.0372, D_loss: 8.3855\n",
            "Epoch 186,G_loss: 168.9121, D_loss: 7.7307\n",
            "Epoch 187,G_loss: 153.2425, D_loss: 9.5807\n",
            "Epoch 188,G_loss: 164.3146, D_loss: 7.4020\n",
            "Epoch 189,G_loss: 169.3477, D_loss: 6.9465\n",
            "Epoch 190,G_loss: 187.7960, D_loss: 5.8321\n",
            "Epoch 191,G_loss: 164.9032, D_loss: 7.2324\n",
            "Epoch 192,G_loss: 159.5056, D_loss: 10.2415\n",
            "Epoch 193,G_loss: 158.3275, D_loss: 8.3160\n",
            "Epoch 194,G_loss: 158.2426, D_loss: 8.9685\n",
            "Epoch 195,G_loss: 167.6217, D_loss: 8.8859\n",
            "Epoch 196,G_loss: 159.3093, D_loss: 10.0065\n",
            "Epoch 197,G_loss: 180.5897, D_loss: 10.1450\n",
            "Epoch 198,G_loss: 170.3909, D_loss: 10.9613\n",
            "Epoch 199,G_loss: 164.4749, D_loss: 12.5880\n",
            "Epoch 200,G_loss: 177.0152, D_loss: 11.8265\n",
            "Epoch 201,G_loss: 170.5656, D_loss: 9.7335\n",
            "Epoch 202,G_loss: 166.9598, D_loss: 7.9577\n",
            "Epoch 203,G_loss: 163.1144, D_loss: 8.8139\n",
            "Epoch 204,G_loss: 169.9386, D_loss: 6.2988\n",
            "Epoch 205,G_loss: 162.1451, D_loss: 10.5882\n",
            "Epoch 206,G_loss: 176.5268, D_loss: 7.7199\n",
            "Epoch 207,G_loss: 155.4583, D_loss: 9.4934\n",
            "Epoch 208,G_loss: 166.6541, D_loss: 10.4846\n",
            "Epoch 209,G_loss: 161.5968, D_loss: 6.9270\n",
            "Epoch 210,G_loss: 182.7444, D_loss: 6.1912\n",
            "Epoch 211,G_loss: 158.2972, D_loss: 9.6506\n",
            "Epoch 212,G_loss: 180.2131, D_loss: 7.6236\n",
            "Epoch 213,G_loss: 161.9056, D_loss: 8.5950\n",
            "Epoch 214,G_loss: 169.6965, D_loss: 8.2939\n",
            "Epoch 215,G_loss: 154.6522, D_loss: 8.7710\n",
            "Epoch 216,G_loss: 151.5279, D_loss: 9.6327\n",
            "Epoch 217,G_loss: 168.3099, D_loss: 9.6729\n",
            "Epoch 218,G_loss: 159.5863, D_loss: 8.1244\n",
            "Epoch 219,G_loss: 164.7804, D_loss: 12.3486\n",
            "Epoch 220,G_loss: 171.0191, D_loss: 10.1060\n",
            "Epoch 221,G_loss: 154.2534, D_loss: 13.4790\n",
            "Epoch 222,G_loss: 158.7211, D_loss: 8.7459\n",
            "Epoch 223,G_loss: 160.0277, D_loss: 9.4949\n",
            "Epoch 224,G_loss: 164.1544, D_loss: 7.7595\n",
            "Epoch 225,G_loss: 158.0186, D_loss: 11.2764\n",
            "Epoch 226,G_loss: 155.4411, D_loss: 10.4980\n",
            "Epoch 227,G_loss: 157.6382, D_loss: 9.5300\n",
            "Epoch 228,G_loss: 160.2518, D_loss: 7.9896\n",
            "Epoch 229,G_loss: 159.1485, D_loss: 7.5408\n",
            "Epoch 230,G_loss: 161.5277, D_loss: 9.6600\n",
            "Epoch 231,G_loss: 170.4766, D_loss: 7.4175\n",
            "Epoch 232,G_loss: 160.1656, D_loss: 8.3791\n",
            "Epoch 233,G_loss: 160.8360, D_loss: 8.6751\n",
            "Epoch 234,G_loss: 153.7427, D_loss: 6.3954\n",
            "Epoch 235,G_loss: 150.0346, D_loss: 7.6900\n",
            "Epoch 236,G_loss: 171.1020, D_loss: 8.5012\n",
            "Epoch 237,G_loss: 163.5565, D_loss: 8.5015\n",
            "Epoch 238,G_loss: 159.7845, D_loss: 8.2985\n",
            "Epoch 239,G_loss: 159.8326, D_loss: 8.7358\n",
            "Epoch 240,G_loss: 171.5005, D_loss: 9.8155\n",
            "Epoch 241,G_loss: 164.3279, D_loss: 9.5966\n",
            "Epoch 242,G_loss: 152.2892, D_loss: 7.8454\n",
            "Epoch 243,G_loss: 178.1958, D_loss: 7.2043\n",
            "Epoch 244,G_loss: 174.6782, D_loss: 6.8305\n",
            "Epoch 245,G_loss: 181.6062, D_loss: 7.5438\n",
            "Epoch 246,G_loss: 181.7245, D_loss: 7.3924\n",
            "Epoch 247,G_loss: 172.3903, D_loss: 10.0486\n",
            "Epoch 248,G_loss: 166.9104, D_loss: 8.4138\n",
            "Epoch 249,G_loss: 166.5769, D_loss: 9.6808\n",
            "Epoch 250,G_loss: 183.4192, D_loss: 12.4369\n",
            "Epoch 251,G_loss: 169.2343, D_loss: 14.3344\n",
            "Epoch 252,G_loss: 165.0502, D_loss: 7.9712\n",
            "Epoch 253,G_loss: 167.9618, D_loss: 9.4596\n",
            "Epoch 254,G_loss: 159.0531, D_loss: 8.0981\n",
            "Epoch 255,G_loss: 159.2829, D_loss: 8.9256\n",
            "Epoch 256,G_loss: 166.0970, D_loss: 7.1964\n",
            "Epoch 257,G_loss: 164.2387, D_loss: 8.3215\n",
            "Epoch 258,G_loss: 184.1272, D_loss: 7.9542\n",
            "Epoch 259,G_loss: 160.7657, D_loss: 9.4820\n",
            "Epoch 260,G_loss: 176.3045, D_loss: 7.6322\n",
            "Epoch 261,G_loss: 170.6967, D_loss: 7.6235\n",
            "Epoch 262,G_loss: 160.2947, D_loss: 6.9955\n",
            "Epoch 263,G_loss: 172.6607, D_loss: 7.8634\n",
            "Epoch 264,G_loss: 165.2053, D_loss: 8.6783\n",
            "Epoch 265,G_loss: 171.5704, D_loss: 6.2570\n",
            "Epoch 266,G_loss: 173.9917, D_loss: 7.6749\n",
            "Epoch 267,G_loss: 181.5966, D_loss: 10.2674\n",
            "Epoch 268,G_loss: 169.8539, D_loss: 6.4037\n",
            "Epoch 269,G_loss: 177.4979, D_loss: 6.2433\n",
            "Epoch 270,G_loss: 170.7806, D_loss: 7.9788\n",
            "Epoch 271,G_loss: 164.7182, D_loss: 6.3921\n",
            "Epoch 272,G_loss: 181.7966, D_loss: 7.1558\n",
            "Epoch 273,G_loss: 184.8033, D_loss: 10.0472\n",
            "Epoch 274,G_loss: 173.7206, D_loss: 6.9108\n",
            "Epoch 275,G_loss: 168.1187, D_loss: 6.0398\n",
            "Epoch 276,G_loss: 172.3049, D_loss: 5.3977\n",
            "Epoch 277,G_loss: 173.6463, D_loss: 7.0868\n",
            "Epoch 278,G_loss: 170.1699, D_loss: 8.0223\n",
            "Epoch 279,G_loss: 173.4789, D_loss: 6.5114\n",
            "Epoch 280,G_loss: 172.5280, D_loss: 7.2098\n",
            "Epoch 281,G_loss: 180.0707, D_loss: 7.3542\n",
            "Epoch 282,G_loss: 169.5108, D_loss: 7.4559\n",
            "Epoch 283,G_loss: 179.4255, D_loss: 7.8048\n",
            "Epoch 284,G_loss: 183.7442, D_loss: 8.4657\n",
            "Epoch 285,G_loss: 169.3438, D_loss: 7.5752\n",
            "Epoch 286,G_loss: 181.6866, D_loss: 7.9286\n",
            "Epoch 287,G_loss: 168.7631, D_loss: 6.6781\n",
            "Epoch 288,G_loss: 176.6102, D_loss: 6.8785\n",
            "Epoch 289,G_loss: 185.4643, D_loss: 7.4478\n",
            "Epoch 290,G_loss: 172.1754, D_loss: 12.7929\n",
            "Epoch 291,G_loss: 184.1185, D_loss: 7.7046\n",
            "Epoch 292,G_loss: 168.6644, D_loss: 6.6719\n",
            "Epoch 293,G_loss: 173.2026, D_loss: 6.0767\n",
            "Epoch 294,G_loss: 172.2085, D_loss: 6.9527\n",
            "Epoch 295,G_loss: 178.5293, D_loss: 6.1816\n",
            "Epoch 296,G_loss: 180.0886, D_loss: 6.3789\n",
            "Epoch 297,G_loss: 176.0400, D_loss: 7.1262\n",
            "Epoch 298,G_loss: 164.7165, D_loss: 5.6987\n",
            "Epoch 299,G_loss: 191.9153, D_loss: 6.7022\n",
            "Epoch 300,G_loss: 181.8459, D_loss: 7.6535\n",
            "Epoch 301,G_loss: 189.1301, D_loss: 7.1796\n",
            "Epoch 302,G_loss: 175.4744, D_loss: 6.6911\n",
            "Epoch 303,G_loss: 178.6077, D_loss: 6.3713\n",
            "Epoch 304,G_loss: 182.7333, D_loss: 7.0163\n",
            "Epoch 305,G_loss: 195.3219, D_loss: 8.0717\n",
            "Epoch 306,G_loss: 182.9593, D_loss: 7.4777\n",
            "Epoch 307,G_loss: 188.4526, D_loss: 6.9098\n",
            "Epoch 308,G_loss: 184.6109, D_loss: 5.3312\n",
            "Epoch 309,G_loss: 187.8941, D_loss: 7.1312\n",
            "Epoch 310,G_loss: 200.8245, D_loss: 7.5015\n",
            "Epoch 311,G_loss: 186.7280, D_loss: 4.8739\n",
            "Epoch 312,G_loss: 187.0378, D_loss: 6.1269\n",
            "Epoch 313,G_loss: 189.5325, D_loss: 7.6739\n",
            "Epoch 314,G_loss: 190.3636, D_loss: 6.9992\n",
            "Epoch 315,G_loss: 182.9720, D_loss: 5.1670\n",
            "Epoch 316,G_loss: 191.7762, D_loss: 8.6589\n",
            "Epoch 317,G_loss: 171.5055, D_loss: 9.7981\n",
            "Epoch 318,G_loss: 177.3980, D_loss: 9.5330\n",
            "Epoch 319,G_loss: 195.4310, D_loss: 4.6858\n",
            "Epoch 320,G_loss: 171.6701, D_loss: 6.8787\n",
            "Epoch 321,G_loss: 195.2439, D_loss: 5.2052\n",
            "Epoch 322,G_loss: 186.8651, D_loss: 5.9123\n",
            "Epoch 323,G_loss: 199.7783, D_loss: 5.3227\n",
            "Epoch 324,G_loss: 190.4176, D_loss: 5.6607\n",
            "Epoch 325,G_loss: 195.2054, D_loss: 5.4924\n",
            "Epoch 326,G_loss: 190.8561, D_loss: 5.7902\n",
            "Epoch 327,G_loss: 188.7432, D_loss: 5.3951\n",
            "Epoch 328,G_loss: 189.1518, D_loss: 7.3167\n",
            "Epoch 329,G_loss: 191.5345, D_loss: 6.6330\n",
            "Epoch 330,G_loss: 201.9287, D_loss: 4.8815\n",
            "Epoch 331,G_loss: 198.8520, D_loss: 5.6793\n",
            "Epoch 332,G_loss: 188.5672, D_loss: 7.4215\n",
            "Epoch 333,G_loss: 211.9013, D_loss: 9.6803\n",
            "Epoch 334,G_loss: 198.4945, D_loss: 5.6504\n",
            "Epoch 335,G_loss: 199.8021, D_loss: 5.1023\n",
            "Epoch 336,G_loss: 190.6204, D_loss: 5.7183\n",
            "Epoch 337,G_loss: 188.5503, D_loss: 7.5514\n",
            "Epoch 338,G_loss: 206.6756, D_loss: 6.0888\n",
            "Epoch 339,G_loss: 196.4787, D_loss: 5.9092\n",
            "Epoch 340,G_loss: 191.0891, D_loss: 8.7016\n",
            "Epoch 341,G_loss: 191.7348, D_loss: 7.2577\n",
            "Epoch 342,G_loss: 198.9656, D_loss: 6.3530\n",
            "Epoch 343,G_loss: 187.0709, D_loss: 6.9797\n",
            "Epoch 344,G_loss: 199.3558, D_loss: 7.2704\n",
            "Epoch 345,G_loss: 206.8619, D_loss: 5.2256\n",
            "Epoch 346,G_loss: 202.4870, D_loss: 7.1399\n",
            "Epoch 347,G_loss: 200.6307, D_loss: 7.3603\n",
            "Epoch 348,G_loss: 183.0593, D_loss: 8.8763\n",
            "Epoch 349,G_loss: 192.5671, D_loss: 6.7493\n",
            "Epoch 350,G_loss: 183.6077, D_loss: 6.2755\n",
            "Epoch 351,G_loss: 210.4220, D_loss: 8.4495\n",
            "Epoch 352,G_loss: 187.2502, D_loss: 5.8832\n",
            "Epoch 353,G_loss: 184.3008, D_loss: 7.1300\n",
            "Epoch 354,G_loss: 193.1812, D_loss: 5.2873\n",
            "Epoch 355,G_loss: 194.4045, D_loss: 4.8788\n",
            "Epoch 356,G_loss: 205.7218, D_loss: 4.2164\n",
            "Epoch 357,G_loss: 195.0773, D_loss: 5.9372\n",
            "Epoch 358,G_loss: 197.0840, D_loss: 5.3088\n",
            "Epoch 359,G_loss: 194.8516, D_loss: 8.2462\n",
            "Epoch 360,G_loss: 182.5177, D_loss: 5.3056\n",
            "Epoch 361,G_loss: 195.0443, D_loss: 5.2731\n",
            "Epoch 362,G_loss: 201.0956, D_loss: 5.5874\n",
            "Epoch 363,G_loss: 199.9247, D_loss: 5.9920\n",
            "Epoch 364,G_loss: 214.8601, D_loss: 4.6059\n",
            "Epoch 365,G_loss: 203.3257, D_loss: 7.9475\n",
            "Epoch 366,G_loss: 199.5903, D_loss: 6.1623\n",
            "Epoch 367,G_loss: 198.9944, D_loss: 5.5931\n",
            "Epoch 368,G_loss: 196.6519, D_loss: 7.2639\n",
            "Epoch 369,G_loss: 200.4476, D_loss: 11.6593\n",
            "Epoch 370,G_loss: 196.4117, D_loss: 5.6040\n",
            "Epoch 371,G_loss: 214.5128, D_loss: 5.8303\n",
            "Epoch 372,G_loss: 198.2004, D_loss: 4.9162\n",
            "Epoch 373,G_loss: 213.8754, D_loss: 4.8382\n",
            "Epoch 374,G_loss: 208.7198, D_loss: 4.9769\n",
            "Epoch 375,G_loss: 198.5228, D_loss: 6.2298\n",
            "Epoch 376,G_loss: 194.6779, D_loss: 4.6557\n",
            "Epoch 377,G_loss: 216.5033, D_loss: 5.1892\n",
            "Epoch 378,G_loss: 202.7043, D_loss: 6.0730\n",
            "Epoch 379,G_loss: 193.3708, D_loss: 10.7887\n",
            "Epoch 380,G_loss: 198.3174, D_loss: 5.4991\n",
            "Epoch 381,G_loss: 213.3915, D_loss: 3.7033\n",
            "Epoch 382,G_loss: 202.9379, D_loss: 5.8796\n",
            "Epoch 383,G_loss: 218.5076, D_loss: 7.7535\n",
            "Epoch 384,G_loss: 186.0668, D_loss: 6.2040\n",
            "Epoch 385,G_loss: 211.2432, D_loss: 5.3562\n",
            "Epoch 386,G_loss: 212.5357, D_loss: 6.0055\n",
            "Epoch 387,G_loss: 211.8487, D_loss: 5.0011\n",
            "Epoch 388,G_loss: 197.0749, D_loss: 6.6349\n",
            "Epoch 389,G_loss: 196.0801, D_loss: 4.0196\n",
            "Epoch 390,G_loss: 205.1135, D_loss: 5.4891\n",
            "Epoch 391,G_loss: 206.1805, D_loss: 5.3507\n",
            "Epoch 392,G_loss: 209.6111, D_loss: 4.9690\n",
            "Epoch 393,G_loss: 198.3459, D_loss: 4.9887\n",
            "Epoch 394,G_loss: 208.3897, D_loss: 4.8579\n",
            "Epoch 395,G_loss: 206.5485, D_loss: 6.1576\n",
            "Epoch 396,G_loss: 190.3813, D_loss: 10.2079\n",
            "Epoch 397,G_loss: 217.7438, D_loss: 5.1942\n",
            "Epoch 398,G_loss: 210.2467, D_loss: 5.0633\n",
            "Epoch 399,G_loss: 202.0641, D_loss: 5.6620\n",
            "Epoch 400,G_loss: 203.2644, D_loss: 5.5768\n"
          ]
        }
      ],
      "source": [
        "num_samples=16 # 学習過程の各エポックで生成する画像枚数\n",
        "# 学習過程の生成画像用潜在ベクトル\n",
        "test_z=tf.random.normal((num_samples,1,1,zdim),stddev=0.1)\n",
        "print(test_z.shape)\n",
        "G_loss_history=[] # 各エポックの生成器の損失を格納するリスト\n",
        "D_loss_history=[] # 各エポックの識別器の損失を格納するリスト\n",
        "\n",
        "for epoch in range(num_epochs):\n",
        "    G_epoch_loss=0 # エポックでの生成器の損失\n",
        "    D_epoch_loss=0 # エポックでの識別器の損失\n",
        "    for image_batch in dataset: # データセットから1バッチ分の画像を取り出す\n",
        "        # 潜在ベクトル：形状(batch_size,1,1,zdim)、平均0、標準偏差0.1の正規分布に従う乱数を生成\n",
        "        z=tf.random.normal((batch_size,1,1,zdim),stddev=0.1)\n",
        "        G_step_loss,D_step_loss=train_step(image_batch,z)\n",
        "        G_epoch_loss+=G_step_loss\n",
        "        D_epoch_loss+=D_step_loss\n",
        "\n",
        "    # 定義済の関数を利用して、学習過程での画像を生成・保存する\n",
        "    generate_images(G,epoch+1,test_z)\n",
        "    G_loss_history.append(G_epoch_loss) # 現エポックの生成器の損失をリストに追加\n",
        "    D_loss_history.append(D_epoch_loss) # 現エポックの識別器の損失をリストに追加\n",
        "\n",
        "    print(f'Epoch {epoch+1},G_loss: {G_epoch_loss:.4f}, D_loss: {D_epoch_loss:.4F}')"
      ]
    },
    {
      "cell_type": "markdown",
      "metadata": {
        "id": "HPrZU9lgk3R-"
      },
      "source": [
        "# おまけ：損失の推移を可視化"
      ]
    },
    {
      "cell_type": "code",
      "execution_count": 43,
      "metadata": {
        "id": "NkWlI310_oEu",
        "colab": {
          "base_uri": "https://localhost:8080/",
          "height": 607
        },
        "outputId": "3c5f8f80-61b6-401e-ad6f-885a8de982de"
      },
      "outputs": [
        {
          "output_type": "display_data",
          "data": {
            "text/plain": [
              "<Figure size 800x600 with 1 Axes>"
            ],
            "image/png": "[encoded data removed]"
          },
          "metadata": {}
        }
      ],
      "source": [
        "plt.figure(figsize=(8, 6))\n",
        "plt.plot(G_loss_history, label='生成器')\n",
        "plt.plot(D_loss_history, label='識別器')\n",
        "plt.legend()\n",
        "plt.grid()\n",
        "plt.title('学習の推移(損失)')\n",
        "plt.xlabel('エポック')\n",
        "plt.ylabel('損失')\n",
        "plt.tight_layout()\n",
        "save_fig(plt, 'loss')\n",
        "plt.show()"
      ]
    }
  ],
  "metadata": {
    "colab": {
      "provenance": [],
      "gpuType": "T4"
    },
    "kernelspec": {
      "display_name": "Python 3",
      "name": "python3"
    },
    "language_info": {
      "codemirror_mode": {
        "name": "ipython",
        "version": 3
      },
      "file_extension": ".py",
      "mimetype": "text/x-python",
      "name": "python",
      "nbconvert_exporter": "python",
      "pygments_lexer": "ipython3",
      "version": "3.8.0"
    },
    "toc": {
      "base_numbering": 1,
      "nav_menu": {},
      "number_sections": false,
      "sideBar": true,
      "skip_h1_title": false,
      "title_cell": "Table of Contents",
      "title_sidebar": "Contents",
      "toc_cell": false,
      "toc_position": {},
      "toc_section_display": true,
      "toc_window_display": false
    },
    "varInspector": {
      "cols": {
        "lenName": 16,
        "lenType": 16,
        "lenVar": 40
      },
      "kernels_config": {
        "python": {
          "delete_cmd_postfix": "",
          "delete_cmd_prefix": "del ",
          "library": "var_list.py",
          "varRefreshCmd": "print(var_dic_list())"
        },
        "r": {
          "delete_cmd_postfix": ") ",
          "delete_cmd_prefix": "rm(",
          "library": "var_list.r",
          "varRefreshCmd": "cat(var_dic_list()) "
        }
      },
      "types_to_exclude": [
        "module",
        "function",
        "builtin_function_or_method",
        "instance",
        "_Feature"
      ],
      "window_display": false
    },
    "accelerator": "GPU"
  },
  "nbformat": 4,
  "nbformat_minor": 0
}