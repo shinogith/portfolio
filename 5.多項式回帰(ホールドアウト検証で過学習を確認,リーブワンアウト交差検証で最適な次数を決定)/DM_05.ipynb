{
  "cells": [
    {
      "cell_type": "markdown",
      "metadata": {
        "id": "07XQqQ4b9FWg"
      },
      "source": [
        "# グラフの文字で英語以外を使えるようにする"
      ]
    },
    {
      "cell_type": "code",
      "execution_count": 1,
      "metadata": {
        "colab": {
          "base_uri": "https://localhost:8080/"
        },
        "id": "C3NAV-cg9FWh",
        "outputId": "78da794e-a73b-405f-b26d-a6b0f3cecc78"
      },
      "outputs": [
        {
          "output_type": "stream",
          "name": "stdout",
          "text": [
            "Collecting japanize-matplotlib\n",
            "  Downloading japanize-matplotlib-1.1.3.tar.gz (4.1 MB)\n",
            "\u001b[2K     \u001b[90m━━━━━━━━━━━━━━━━━━━━━━━━━━━━━━━━━━━━━━━━\u001b[0m \u001b[32m4.1/4.1 MB\u001b[0m \u001b[31m22.9 MB/s\u001b[0m eta \u001b[36m0:00:00\u001b[0m\n",
            "\u001b[?25h  Preparing metadata (setup.py) ... \u001b[?25l\u001b[?25hdone\n",
            "Requirement already satisfied: matplotlib in /usr/local/lib/python3.10/dist-packages (from japanize-matplotlib) (3.7.1)\n",
            "Requirement already satisfied: contourpy>=1.0.1 in /usr/local/lib/python3.10/dist-packages (from matplotlib->japanize-matplotlib) (1.2.0)\n",
            "Requirement already satisfied: cycler>=0.10 in /usr/local/lib/python3.10/dist-packages (from matplotlib->japanize-matplotlib) (0.12.1)\n",
            "Requirement already satisfied: fonttools>=4.22.0 in /usr/local/lib/python3.10/dist-packages (from matplotlib->japanize-matplotlib) (4.44.0)\n",
            "Requirement already satisfied: kiwisolver>=1.0.1 in /usr/local/lib/python3.10/dist-packages (from matplotlib->japanize-matplotlib) (1.4.5)\n",
            "Requirement already satisfied: numpy>=1.20 in /usr/local/lib/python3.10/dist-packages (from matplotlib->japanize-matplotlib) (1.23.5)\n",
            "Requirement already satisfied: packaging>=20.0 in /usr/local/lib/python3.10/dist-packages (from matplotlib->japanize-matplotlib) (23.2)\n",
            "Requirement already satisfied: pillow>=6.2.0 in /usr/local/lib/python3.10/dist-packages (from matplotlib->japanize-matplotlib) (9.4.0)\n",
            "Requirement already satisfied: pyparsing>=2.3.1 in /usr/local/lib/python3.10/dist-packages (from matplotlib->japanize-matplotlib) (3.1.1)\n",
            "Requirement already satisfied: python-dateutil>=2.7 in /usr/local/lib/python3.10/dist-packages (from matplotlib->japanize-matplotlib) (2.8.2)\n",
            "Requirement already satisfied: six>=1.5 in /usr/local/lib/python3.10/dist-packages (from python-dateutil>=2.7->matplotlib->japanize-matplotlib) (1.16.0)\n",
            "Building wheels for collected packages: japanize-matplotlib\n",
            "  Building wheel for japanize-matplotlib (setup.py) ... \u001b[?25l\u001b[?25hdone\n",
            "  Created wheel for japanize-matplotlib: filename=japanize_matplotlib-1.1.3-py3-none-any.whl size=4120257 sha256=ca8fa67e4c555a231f8cfddd369f08f9083a8c7438e346ce68675d90a62ad0a4\n",
            "  Stored in directory: /root/.cache/pip/wheels/61/7a/6b/df1f79be9c59862525070e157e62b08eab8ece27c1b68fbb94\n",
            "Successfully built japanize-matplotlib\n",
            "Installing collected packages: japanize-matplotlib\n",
            "Successfully installed japanize-matplotlib-1.1.3\n"
          ]
        }
      ],
      "source": [
        "!pip install japanize-matplotlib"
      ]
    },
    {
      "cell_type": "markdown",
      "metadata": {
        "id": "z0v8atGd9FWi"
      },
      "source": [
        "# 関数 save_fig：図の保存"
      ]
    },
    {
      "cell_type": "code",
      "execution_count": 2,
      "metadata": {
        "id": "kMl2AntX9FWi"
      },
      "outputs": [],
      "source": [
        "import os\n",
        "import matplotlib.pyplot as plt\n",
        "import japanize_matplotlib\n",
        "\n",
        "def save_fig(plt, file_prefix, bbox_inches='tight'):\n",
        "    if file_prefix == '':\n",
        "        return\n",
        "\n",
        "    parent = os.path.dirname(os.path.abspath(file_prefix))\n",
        "    os.makedirs(parent, exist_ok=True)\n",
        "    plt.savefig(f'{file_prefix}.pdf', transparent=True, bbox_inches=bbox_inches, pad_inches = 0.2)\n",
        "    plt.savefig(f'{file_prefix}.png', transparent=True, dpi=300, bbox_inches=bbox_inches, pad_inches = 0.2)"
      ]
    },
    {
      "cell_type": "markdown",
      "metadata": {
        "id": "S3VQWaC792sg"
      },
      "source": [
        "# 実習5.1：ホールドアウト検証の練習"
      ]
    },
    {
      "cell_type": "code",
      "execution_count": 3,
      "metadata": {
        "colab": {
          "base_uri": "https://localhost:8080/"
        },
        "id": "0J3leksK97So",
        "outputId": "ffedb99f-d789-471f-9816-f56e94cc47a1"
      },
      "outputs": [
        {
          "output_type": "stream",
          "name": "stdout",
          "text": [
            "alpha: ['a' 'b' 'c' 'd' 'e' 'f']\n",
            "num: [0 1 2 3 4 5]\n",
            "訓練データ数: 3\n",
            "d 3\n",
            "a 0\n",
            "e 4\n",
            "テストデータ数: 3\n",
            "f 5\n",
            "c 2\n",
            "b 1\n"
          ]
        }
      ],
      "source": [
        "import random\n",
        "import numpy as np\n",
        "from sklearn.model_selection import train_test_split\n",
        "\n",
        "# 乱数シードを固定\n",
        "random.seed(0)\n",
        "np.random.seed(0)\n",
        "\n",
        "# 説明変数の値\n",
        "alpha = np.array(['a', 'b', 'c', 'd', 'e', 'f'])\n",
        "\n",
        "\n",
        "# 目的変数の値: 0から5までの整数を要素に持つリスト\n",
        "num = np.arange(len(alpha))\n",
        "\n",
        "print('alpha:', alpha)\n",
        "print('num:', num)\n",
        "\n",
        "# x_train: 訓練データの説明変数、x_test: テストデータの説明変数\n",
        "# y_train: 訓練データの目的変数、y_test: テストデータの目的変数\n",
        "# train_size: 全データから訓練データに割り当てる割合\n",
        "x_train, x_test, y_train, y_test=train_test_split(alpha, # 説明変数\n",
        "                                                           num,   # 目的変数\n",
        "                                                           train_size=0.5,\n",
        "                                                           random_state=0) # 乱数シードを固定\n",
        "\n",
        "print('訓練データ数:', len(x_train))\n",
        "for i in range(len(x_train)):\n",
        "    print(x_train[i], y_train[i])\n",
        "\n",
        "print('テストデータ数:', len(x_test))\n",
        "for i in range(len(x_test)):\n",
        "    print(x_test[i], y_test[i])"
      ]
    },
    {
      "cell_type": "markdown",
      "metadata": {
        "id": "kj75aotT9FWj"
      },
      "source": [
        "# 実習5.2：K分割交差検証の練習"
      ]
    },
    {
      "cell_type": "code",
      "execution_count": 4,
      "metadata": {
        "colab": {
          "base_uri": "https://localhost:8080/"
        },
        "id": "arX0Ov329FWj",
        "outputId": "bd40f764-f5df-47c9-c522-d78195d175ed"
      },
      "outputs": [
        {
          "output_type": "stream",
          "name": "stdout",
          "text": [
            "alpha: ['a' 'b' 'c' 'd' 'e' 'f']\n",
            "num: [0 1 2 3 4 5]\n",
            "\n",
            "反復 1 ********************\n",
            "訓練データ\n",
            "割り当てる個数 = 3\n",
            "割り当てるインデックス = [3 4 5]\n",
            "説明変数 = ['d' 'e' 'f']\n",
            "目的変数 = [3 4 5]\n",
            "テストデータ\n",
            "割り当てる個数 = 3\n",
            "割り当てるインデックス = [0 1 2]\n",
            "説明変数 = ['a' 'b' 'c']\n",
            "目的変数 = [0 1 2]\n",
            "\n",
            "反復 2 ********************\n",
            "訓練データ\n",
            "割り当てる個数 = 3\n",
            "割り当てるインデックス = [0 1 2]\n",
            "説明変数 = ['a' 'b' 'c']\n",
            "目的変数 = [0 1 2]\n",
            "テストデータ\n",
            "割り当てる個数 = 3\n",
            "割り当てるインデックス = [3 4 5]\n",
            "説明変数 = ['d' 'e' 'f']\n",
            "目的変数 = [3 4 5]\n"
          ]
        }
      ],
      "source": [
        "import random\n",
        "import numpy as np\n",
        "from sklearn.model_selection import KFold\n",
        "\n",
        "# 乱数シードを固定\n",
        "random.seed(0)\n",
        "np.random.seed(0)\n",
        "\n",
        "# 説明変数の値\n",
        "alpha = np.array(['a', 'b', 'c', 'd', 'e', 'f'])\n",
        "\n",
        "\n",
        "# 目的変数の値: 0から5までの整数を要素に持つリスト\n",
        "num = np.arange(len(alpha))\n",
        "\n",
        "print('alpha:', alpha)\n",
        "print('num:', num)\n",
        "\n",
        "# 分割数 n_splits を2に設定\n",
        "kf = KFold(n_splits=2)\n",
        "\n",
        "i=1 # 反復\n",
        "\n",
        "# 分割して、訓練データのインデックスをtrain_indexに\n",
        "# テストデータのインデックスをtest_indexに取り出す。\n",
        "for train_index, test_index in kf.split(alpha):\n",
        "    print('\\n反復', i, '*'*20)\n",
        "    print('訓練データ')\n",
        "    print('割り当てる個数 =', len(train_index))\n",
        "    print('割り当てるインデックス =', train_index)\n",
        "    # インデックスを使い、教師データから訓練データを取り出す\n",
        "    x_train = alpha[train_index] # 説明変数の値\n",
        "    t_train = num[train_index] # 目的変数の値\n",
        "    print('説明変数 =', x_train)\n",
        "    print('目的変数 =', t_train)\n",
        "\n",
        "    print('テストデータ')\n",
        "    print('割り当てる個数 =', len(test_index))\n",
        "    print('割り当てるインデックス =', test_index)\n",
        "    # インデックスを使い、教師データから訓練データを取り出す\n",
        "    x_test = alpha[test_index] # 説明変数の値\n",
        "    t_test = num[test_index] # 目的変数の値\n",
        "    print('説明変数 =', x_test)\n",
        "    print('目的変数 =', t_test)\n",
        "    i+=1"
      ]
    },
    {
      "cell_type": "markdown",
      "metadata": {
        "id": "ye8G3wqP9FWm"
      },
      "source": [
        "# 実習5.3：年齢-身長データの読み込み"
      ]
    },
    {
      "cell_type": "code",
      "execution_count": 5,
      "metadata": {
        "colab": {
          "base_uri": "https://localhost:8080/",
          "height": 833
        },
        "id": "WwpgyRAH9FWm",
        "outputId": "446f968d-be8f-4384-dd00-f8cf784a2d79"
      },
      "outputs": [
        {
          "output_type": "execute_result",
          "data": {
            "text/plain": [
              "    年齢   男性身長  男性体重   女性身長  女性体重\n",
              "0    1   79.7  10.4   77.2  10.2\n",
              "1    2   88.6  12.6   87.5  12.3\n",
              "2    3   96.0  14.2   96.1  14.6\n",
              "3    4  101.2  15.4  102.3  15.9\n",
              "4    5  110.0  18.2  109.3  18.1\n",
              "5    6  115.6  20.4  114.8  20.3\n",
              "6    7  122.0  24.2  119.6  22.3\n",
              "7    8  127.8  26.6  125.7  26.0\n",
              "8    9  131.8  29.1  134.4  29.7\n",
              "9   10  138.4  33.8  140.6  33.7\n",
              "10  11  145.7  38.8  146.6  37.1\n",
              "11  12  153.1  43.4  150.1  41.9\n",
              "12  13  160.3  50.4  154.6  47.2\n",
              "13  14  165.2  51.0  154.9  48.7\n",
              "14  15  168.0  57.9  158.2  49.5\n",
              "15  16  173.9  62.6  156.6  49.9\n",
              "16  17  169.2  57.3  154.8  47.2\n",
              "17  18  170.0  61.1  157.4  50.1\n",
              "18  19  174.0  64.3  156.6  51.2\n",
              "19  20  169.1  61.4  157.0  50.7\n",
              "20  21  172.5  65.1  157.1  52.2\n",
              "21  22  172.6  64.0  158.8  52.3\n",
              "22  23  169.4  62.8  159.3  54.6\n",
              "23  24  171.5  63.9  157.5  50.9\n",
              "24  25  173.5  70.3  160.1  53.3"
            ],
            "text/html": [
              "\n",
              "  <div id=\"df-d76e70ed-81b8-4eb1-999c-c5c759775c71\" class=\"colab-df-container\">\n",
              "    <div>\n",
              "<style scoped>\n",
              "    .dataframe tbody tr th:only-of-type {\n",
              "        vertical-align: middle;\n",
              "    }\n",
              "\n",
              "    .dataframe tbody tr th {\n",
              "        vertical-align: top;\n",
              "    }\n",
              "\n",
              "    .dataframe thead th {\n",
              "        text-align: right;\n",
              "    }\n",
              "</style>\n",
              "<table border=\"1\" class=\"dataframe\">\n",
              "  <thead>\n",
              "    <tr style=\"text-align: right;\">\n",
              "      <th></th>\n",
              "      <th>年齢</th>\n",
              "      <th>男性身長</th>\n",
              "      <th>男性体重</th>\n",
              "      <th>女性身長</th>\n",
              "      <th>女性体重</th>\n",
              "    </tr>\n",
              "  </thead>\n",
              "  <tbody>\n",
              "    <tr>\n",
              "      <th>0</th>\n",
              "      <td>1</td>\n",
              "      <td>79.7</td>\n",
              "      <td>10.4</td>\n",
              "      <td>77.2</td>\n",
              "      <td>10.2</td>\n",
              "    </tr>\n",
              "    <tr>\n",
              "      <th>1</th>\n",
              "      <td>2</td>\n",
              "      <td>88.6</td>\n",
              "      <td>12.6</td>\n",
              "      <td>87.5</td>\n",
              "      <td>12.3</td>\n",
              "    </tr>\n",
              "    <tr>\n",
              "      <th>2</th>\n",
              "      <td>3</td>\n",
              "      <td>96.0</td>\n",
              "      <td>14.2</td>\n",
              "      <td>96.1</td>\n",
              "      <td>14.6</td>\n",
              "    </tr>\n",
              "    <tr>\n",
              "      <th>3</th>\n",
              "      <td>4</td>\n",
              "      <td>101.2</td>\n",
              "      <td>15.4</td>\n",
              "      <td>102.3</td>\n",
              "      <td>15.9</td>\n",
              "    </tr>\n",
              "    <tr>\n",
              "      <th>4</th>\n",
              "      <td>5</td>\n",
              "      <td>110.0</td>\n",
              "      <td>18.2</td>\n",
              "      <td>109.3</td>\n",
              "      <td>18.1</td>\n",
              "    </tr>\n",
              "    <tr>\n",
              "      <th>5</th>\n",
              "      <td>6</td>\n",
              "      <td>115.6</td>\n",
              "      <td>20.4</td>\n",
              "      <td>114.8</td>\n",
              "      <td>20.3</td>\n",
              "    </tr>\n",
              "    <tr>\n",
              "      <th>6</th>\n",
              "      <td>7</td>\n",
              "      <td>122.0</td>\n",
              "      <td>24.2</td>\n",
              "      <td>119.6</td>\n",
              "      <td>22.3</td>\n",
              "    </tr>\n",
              "    <tr>\n",
              "      <th>7</th>\n",
              "      <td>8</td>\n",
              "      <td>127.8</td>\n",
              "      <td>26.6</td>\n",
              "      <td>125.7</td>\n",
              "      <td>26.0</td>\n",
              "    </tr>\n",
              "    <tr>\n",
              "      <th>8</th>\n",
              "      <td>9</td>\n",
              "      <td>131.8</td>\n",
              "      <td>29.1</td>\n",
              "      <td>134.4</td>\n",
              "      <td>29.7</td>\n",
              "    </tr>\n",
              "    <tr>\n",
              "      <th>9</th>\n",
              "      <td>10</td>\n",
              "      <td>138.4</td>\n",
              "      <td>33.8</td>\n",
              "      <td>140.6</td>\n",
              "      <td>33.7</td>\n",
              "    </tr>\n",
              "    <tr>\n",
              "      <th>10</th>\n",
              "      <td>11</td>\n",
              "      <td>145.7</td>\n",
              "      <td>38.8</td>\n",
              "      <td>146.6</td>\n",
              "      <td>37.1</td>\n",
              "    </tr>\n",
              "    <tr>\n",
              "      <th>11</th>\n",
              "      <td>12</td>\n",
              "      <td>153.1</td>\n",
              "      <td>43.4</td>\n",
              "      <td>150.1</td>\n",
              "      <td>41.9</td>\n",
              "    </tr>\n",
              "    <tr>\n",
              "      <th>12</th>\n",
              "      <td>13</td>\n",
              "      <td>160.3</td>\n",
              "      <td>50.4</td>\n",
              "      <td>154.6</td>\n",
              "      <td>47.2</td>\n",
              "    </tr>\n",
              "    <tr>\n",
              "      <th>13</th>\n",
              "      <td>14</td>\n",
              "      <td>165.2</td>\n",
              "      <td>51.0</td>\n",
              "      <td>154.9</td>\n",
              "      <td>48.7</td>\n",
              "    </tr>\n",
              "    <tr>\n",
              "      <th>14</th>\n",
              "      <td>15</td>\n",
              "      <td>168.0</td>\n",
              "      <td>57.9</td>\n",
              "      <td>158.2</td>\n",
              "      <td>49.5</td>\n",
              "    </tr>\n",
              "    <tr>\n",
              "      <th>15</th>\n",
              "      <td>16</td>\n",
              "      <td>173.9</td>\n",
              "      <td>62.6</td>\n",
              "      <td>156.6</td>\n",
              "      <td>49.9</td>\n",
              "    </tr>\n",
              "    <tr>\n",
              "      <th>16</th>\n",
              "      <td>17</td>\n",
              "      <td>169.2</td>\n",
              "      <td>57.3</td>\n",
              "      <td>154.8</td>\n",
              "      <td>47.2</td>\n",
              "    </tr>\n",
              "    <tr>\n",
              "      <th>17</th>\n",
              "      <td>18</td>\n",
              "      <td>170.0</td>\n",
              "      <td>61.1</td>\n",
              "      <td>157.4</td>\n",
              "      <td>50.1</td>\n",
              "    </tr>\n",
              "    <tr>\n",
              "      <th>18</th>\n",
              "      <td>19</td>\n",
              "      <td>174.0</td>\n",
              "      <td>64.3</td>\n",
              "      <td>156.6</td>\n",
              "      <td>51.2</td>\n",
              "    </tr>\n",
              "    <tr>\n",
              "      <th>19</th>\n",
              "      <td>20</td>\n",
              "      <td>169.1</td>\n",
              "      <td>61.4</td>\n",
              "      <td>157.0</td>\n",
              "      <td>50.7</td>\n",
              "    </tr>\n",
              "    <tr>\n",
              "      <th>20</th>\n",
              "      <td>21</td>\n",
              "      <td>172.5</td>\n",
              "      <td>65.1</td>\n",
              "      <td>157.1</td>\n",
              "      <td>52.2</td>\n",
              "    </tr>\n",
              "    <tr>\n",
              "      <th>21</th>\n",
              "      <td>22</td>\n",
              "      <td>172.6</td>\n",
              "      <td>64.0</td>\n",
              "      <td>158.8</td>\n",
              "      <td>52.3</td>\n",
              "    </tr>\n",
              "    <tr>\n",
              "      <th>22</th>\n",
              "      <td>23</td>\n",
              "      <td>169.4</td>\n",
              "      <td>62.8</td>\n",
              "      <td>159.3</td>\n",
              "      <td>54.6</td>\n",
              "    </tr>\n",
              "    <tr>\n",
              "      <th>23</th>\n",
              "      <td>24</td>\n",
              "      <td>171.5</td>\n",
              "      <td>63.9</td>\n",
              "      <td>157.5</td>\n",
              "      <td>50.9</td>\n",
              "    </tr>\n",
              "    <tr>\n",
              "      <th>24</th>\n",
              "      <td>25</td>\n",
              "      <td>173.5</td>\n",
              "      <td>70.3</td>\n",
              "      <td>160.1</td>\n",
              "      <td>53.3</td>\n",
              "    </tr>\n",
              "  </tbody>\n",
              "</table>\n",
              "</div>\n",
              "    <div class=\"colab-df-buttons\">\n",
              "\n",
              "  <div class=\"colab-df-container\">\n",
              "    <button class=\"colab-df-convert\" onclick=\"convertToInteractive('df-d76e70ed-81b8-4eb1-999c-c5c759775c71')\"\n",
              "            title=\"Convert this dataframe to an interactive table.\"\n",
              "            style=\"display:none;\">\n",
              "\n",
              "  <svg xmlns=\"http://www.w3.org/2000/svg\" height=\"24px\" viewBox=\"0 -960 960 960\">\n",
              "    <path d=\"M120-120v-720h720v720H120Zm60-500h600v-160H180v160Zm220 220h160v-160H400v160Zm0 220h160v-160H400v160ZM180-400h160v-160H180v160Zm440 0h160v-160H620v160ZM180-180h160v-160H180v160Zm440 0h160v-160H620v160Z\"/>\n",
              "  </svg>\n",
              "    </button>\n",
              "\n",
              "  <style>\n",
              "    .colab-df-container {\n",
              "      display:flex;\n",
              "      gap: 12px;\n",
              "    }\n",
              "\n",
              "    .colab-df-convert {\n",
              "      background-color: #E8F0FE;\n",
              "      border: none;\n",
              "      border-radius: 50%;\n",
              "      cursor: pointer;\n",
              "      display: none;\n",
              "      fill: #1967D2;\n",
              "      height: 32px;\n",
              "      padding: 0 0 0 0;\n",
              "      width: 32px;\n",
              "    }\n",
              "\n",
              "    .colab-df-convert:hover {\n",
              "      background-color: #E2EBFA;\n",
              "      box-shadow: 0px 1px 2px rgba(60, 64, 67, 0.3), 0px 1px 3px 1px rgba(60, 64, 67, 0.15);\n",
              "      fill: #174EA6;\n",
              "    }\n",
              "\n",
              "    .colab-df-buttons div {\n",
              "      margin-bottom: 4px;\n",
              "    }\n",
              "\n",
              "    [theme=dark] .colab-df-convert {\n",
              "      background-color: #3B4455;\n",
              "      fill: #D2E3FC;\n",
              "    }\n",
              "\n",
              "    [theme=dark] .colab-df-convert:hover {\n",
              "      background-color: #434B5C;\n",
              "      box-shadow: 0px 1px 3px 1px rgba(0, 0, 0, 0.15);\n",
              "      filter: drop-shadow(0px 1px 2px rgba(0, 0, 0, 0.3));\n",
              "      fill: #FFFFFF;\n",
              "    }\n",
              "  </style>\n",
              "\n",
              "    <script>\n",
              "      const buttonEl =\n",
              "        document.querySelector('#df-d76e70ed-81b8-4eb1-999c-c5c759775c71 button.colab-df-convert');\n",
              "      buttonEl.style.display =\n",
              "        google.colab.kernel.accessAllowed ? 'block' : 'none';\n",
              "\n",
              "      async function convertToInteractive(key) {\n",
              "        const element = document.querySelector('#df-d76e70ed-81b8-4eb1-999c-c5c759775c71');\n",
              "        const dataTable =\n",
              "          await google.colab.kernel.invokeFunction('convertToInteractive',\n",
              "                                                    [key], {});\n",
              "        if (!dataTable) return;\n",
              "\n",
              "        const docLinkHtml = 'Like what you see? Visit the ' +\n",
              "          '<a target=\"_blank\" href=https://colab.research.google.com/notebooks/data_table.ipynb>data table notebook</a>'\n",
              "          + ' to learn more about interactive tables.';\n",
              "        element.innerHTML = '';\n",
              "        dataTable['output_type'] = 'display_data';\n",
              "        await google.colab.output.renderOutput(dataTable, element);\n",
              "        const docLink = document.createElement('div');\n",
              "        docLink.innerHTML = docLinkHtml;\n",
              "        element.appendChild(docLink);\n",
              "      }\n",
              "    </script>\n",
              "  </div>\n",
              "\n",
              "\n",
              "<div id=\"df-e0b07f89-b0f8-4dad-9d71-e234c15b7863\">\n",
              "  <button class=\"colab-df-quickchart\" onclick=\"quickchart('df-e0b07f89-b0f8-4dad-9d71-e234c15b7863')\"\n",
              "            title=\"Suggest charts\"\n",
              "            style=\"display:none;\">\n",
              "\n",
              "<svg xmlns=\"http://www.w3.org/2000/svg\" height=\"24px\"viewBox=\"0 0 24 24\"\n",
              "     width=\"24px\">\n",
              "    <g>\n",
              "        <path d=\"M19 3H5c-1.1 0-2 .9-2 2v14c0 1.1.9 2 2 2h14c1.1 0 2-.9 2-2V5c0-1.1-.9-2-2-2zM9 17H7v-7h2v7zm4 0h-2V7h2v10zm4 0h-2v-4h2v4z\"/>\n",
              "    </g>\n",
              "</svg>\n",
              "  </button>\n",
              "\n",
              "<style>\n",
              "  .colab-df-quickchart {\n",
              "      --bg-color: #E8F0FE;\n",
              "      --fill-color: #1967D2;\n",
              "      --hover-bg-color: #E2EBFA;\n",
              "      --hover-fill-color: #174EA6;\n",
              "      --disabled-fill-color: #AAA;\n",
              "      --disabled-bg-color: #DDD;\n",
              "  }\n",
              "\n",
              "  [theme=dark] .colab-df-quickchart {\n",
              "      --bg-color: #3B4455;\n",
              "      --fill-color: #D2E3FC;\n",
              "      --hover-bg-color: #434B5C;\n",
              "      --hover-fill-color: #FFFFFF;\n",
              "      --disabled-bg-color: #3B4455;\n",
              "      --disabled-fill-color: #666;\n",
              "  }\n",
              "\n",
              "  .colab-df-quickchart {\n",
              "    background-color: var(--bg-color);\n",
              "    border: none;\n",
              "    border-radius: 50%;\n",
              "    cursor: pointer;\n",
              "    display: none;\n",
              "    fill: var(--fill-color);\n",
              "    height: 32px;\n",
              "    padding: 0;\n",
              "    width: 32px;\n",
              "  }\n",
              "\n",
              "  .colab-df-quickchart:hover {\n",
              "    background-color: var(--hover-bg-color);\n",
              "    box-shadow: 0 1px 2px rgba(60, 64, 67, 0.3), 0 1px 3px 1px rgba(60, 64, 67, 0.15);\n",
              "    fill: var(--button-hover-fill-color);\n",
              "  }\n",
              "\n",
              "  .colab-df-quickchart-complete:disabled,\n",
              "  .colab-df-quickchart-complete:disabled:hover {\n",
              "    background-color: var(--disabled-bg-color);\n",
              "    fill: var(--disabled-fill-color);\n",
              "    box-shadow: none;\n",
              "  }\n",
              "\n",
              "  .colab-df-spinner {\n",
              "    border: 2px solid var(--fill-color);\n",
              "    border-color: transparent;\n",
              "    border-bottom-color: var(--fill-color);\n",
              "    animation:\n",
              "      spin 1s steps(1) infinite;\n",
              "  }\n",
              "\n",
              "  @keyframes spin {\n",
              "    0% {\n",
              "      border-color: transparent;\n",
              "      border-bottom-color: var(--fill-color);\n",
              "      border-left-color: var(--fill-color);\n",
              "    }\n",
              "    20% {\n",
              "      border-color: transparent;\n",
              "      border-left-color: var(--fill-color);\n",
              "      border-top-color: var(--fill-color);\n",
              "    }\n",
              "    30% {\n",
              "      border-color: transparent;\n",
              "      border-left-color: var(--fill-color);\n",
              "      border-top-color: var(--fill-color);\n",
              "      border-right-color: var(--fill-color);\n",
              "    }\n",
              "    40% {\n",
              "      border-color: transparent;\n",
              "      border-right-color: var(--fill-color);\n",
              "      border-top-color: var(--fill-color);\n",
              "    }\n",
              "    60% {\n",
              "      border-color: transparent;\n",
              "      border-right-color: var(--fill-color);\n",
              "    }\n",
              "    80% {\n",
              "      border-color: transparent;\n",
              "      border-right-color: var(--fill-color);\n",
              "      border-bottom-color: var(--fill-color);\n",
              "    }\n",
              "    90% {\n",
              "      border-color: transparent;\n",
              "      border-bottom-color: var(--fill-color);\n",
              "    }\n",
              "  }\n",
              "</style>\n",
              "\n",
              "  <script>\n",
              "    async function quickchart(key) {\n",
              "      const quickchartButtonEl =\n",
              "        document.querySelector('#' + key + ' button');\n",
              "      quickchartButtonEl.disabled = true;  // To prevent multiple clicks.\n",
              "      quickchartButtonEl.classList.add('colab-df-spinner');\n",
              "      try {\n",
              "        const charts = await google.colab.kernel.invokeFunction(\n",
              "            'suggestCharts', [key], {});\n",
              "      } catch (error) {\n",
              "        console.error('Error during call to suggestCharts:', error);\n",
              "      }\n",
              "      quickchartButtonEl.classList.remove('colab-df-spinner');\n",
              "      quickchartButtonEl.classList.add('colab-df-quickchart-complete');\n",
              "    }\n",
              "    (() => {\n",
              "      let quickchartButtonEl =\n",
              "        document.querySelector('#df-e0b07f89-b0f8-4dad-9d71-e234c15b7863 button');\n",
              "      quickchartButtonEl.style.display =\n",
              "        google.colab.kernel.accessAllowed ? 'block' : 'none';\n",
              "    })();\n",
              "  </script>\n",
              "</div>\n",
              "    </div>\n",
              "  </div>\n"
            ]
          },
          "metadata": {},
          "execution_count": 5
        }
      ],
      "source": [
        "import pandas as pd\n",
        "\n",
        "df = pd.read_csv('dm5-1.csv',\n",
        "                 encoding='utf-8')\n",
        "\n",
        "df"
      ]
    },
    {
      "cell_type": "markdown",
      "metadata": {
        "id": "NkTt-4XO_HCh"
      },
      "source": [
        "# 実習5.4： 多項式モデル用説明変数を準備する関数"
      ]
    },
    {
      "cell_type": "code",
      "execution_count": 6,
      "metadata": {
        "colab": {
          "base_uri": "https://localhost:8080/"
        },
        "id": "hyGB8UFqDkrV",
        "outputId": "b793d32c-6d72-4abd-c24d-f6dafe79dd6f"
      },
      "outputs": [
        {
          "output_type": "stream",
          "name": "stdout",
          "text": [
            "[0 1 2 3 4]\n",
            "[[ 0.  0.  0.]\n",
            " [ 1.  1.  1.]\n",
            " [ 2.  4.  8.]\n",
            " [ 3.  9. 27.]\n",
            " [ 4. 16. 64.]]\n"
          ]
        }
      ],
      "source": [
        "from sklearn.preprocessing import PolynomialFeatures\n",
        "\n",
        "def prepare_data(x, degree):\n",
        "    \"\"\"多項式モデル用説明変数を準備\n",
        "    Args:\n",
        "        x (ndarary): 1次元配列。Nはデータ数\n",
        "        degree (int): 多項式の次数\n",
        "\n",
        "    Returns:\n",
        "        x2 (ndarray): 2次元配列。形状(N, degree)。\n",
        "    \"\"\"\n",
        "    x2=x.reshape(-1,1) # PolynomialFeaturesで扱うため、2次元配列(N, 1)に変形\n",
        "    if degree >= 2: # 2次以上なら\n",
        "        pf = PolynomialFeatures(degree=degree, include_bias=False)\n",
        "        x2 = pf.fit_transform(x2)\n",
        "\n",
        "    return x2\n",
        "\n",
        "# テスト\n",
        "a = np.arange(5)\n",
        "print(a)\n",
        "b = prepare_data(a, degree=3)\n",
        "print(b)"
      ]
    },
    {
      "cell_type": "markdown",
      "metadata": {
        "id": "KcF-Q37q9B6C"
      },
      "source": [
        "# 実習5.5：年齢-男性身長データ ホールドアウト検証による汎化能力推定"
      ]
    },
    {
      "cell_type": "code",
      "execution_count": 7,
      "metadata": {
        "colab": {
          "base_uri": "https://localhost:8080/"
        },
        "id": "nSE25hld8JLk",
        "outputId": "cb0e6ade-a985-4105-aa68-7be6bfc84d8c"
      },
      "outputs": [
        {
          "output_type": "stream",
          "name": "stdout",
          "text": [
            "訓練データ数: 17\n",
            "テストデータ数: 8\n",
            "x_train2の形状: (17, 14)\n",
            "訓練データのMSE: 19.63364969182829\n",
            "テストデータのMSE: 258895.83525538963\n"
          ]
        }
      ],
      "source": [
        "from sklearn.linear_model import LinearRegression\n",
        "from sklearn.model_selection import train_test_split\n",
        "from sklearn.metrics import mean_squared_error\n",
        "\n",
        "# 乱数シードを固定\n",
        "random.seed(0)\n",
        "np.random.seed(0)\n",
        "\n",
        "x = df['年齢'].to_numpy().reshape(-1, 1)\n",
        "y = df['男性身長'].to_numpy()\n",
        "\n",
        "# x_train: 訓練データの説明変数、x_test: テストデータの説明変数\n",
        "# y_train: 訓練データの目的変数、y_test: テストデータの目的変数\n",
        "# train_size: 全データから訓練データに割り当てる割合\n",
        "x_train, x_test, y_train, y_test=train_test_split(x, # 説明変数\n",
        "                                                           y, # 目的変数\n",
        "                                                           train_size=0.7,\n",
        "                                                           random_state=0) # 乱数シードを固定\n",
        "\n",
        "print('訓練データ数:', len(x_train))\n",
        "print('テストデータ数:', len(x_test))\n",
        "\n",
        "# 14次の多項式回帰用に訓練データ説明変数の値を準備\n",
        "x_train2 = prepare_data(x_train, degree=14)\n",
        "print('x_train2の形状:', x_train2.shape)\n",
        "\n",
        "model = LinearRegression() # 回帰分析クラスのインスタンス生成\n",
        "model.fit(x_train2,y_train)\n",
        "y_train_pred = model.predict(x_train2)\n",
        "mse_train = mean_squared_error(y_train, y_train_pred) # MSE計算\n",
        "print('訓練データのMSE:', mse_train)\n",
        "\n",
        "# 汎化能力の推定\n",
        "# 14次の多項式回帰用にテストデータ説明変数の値を準備\n",
        "x_test2 = prepare_data(x_test, degree=14)\n",
        "y_test_pred = model.predict(x_test2)\n",
        "mse_test = mean_squared_error(y_test, y_test_pred) # MSE計算\n",
        "print('テストデータのMSE:', mse_test)"
      ]
    },
    {
      "cell_type": "markdown",
      "metadata": {
        "id": "gTttVpaj-04h"
      },
      "source": [
        "# 実習5.6：データと回帰曲線の可視化"
      ]
    },
    {
      "cell_type": "code",
      "execution_count": 8,
      "metadata": {
        "colab": {
          "base_uri": "https://localhost:8080/",
          "height": 486
        },
        "id": "BJOIIDfqSnzC",
        "outputId": "03bd9c71-94a4-4413-8f7c-67ff36f71f6e"
      },
      "outputs": [
        {
          "output_type": "display_data",
          "data": {
            "text/plain": [
              "<Figure size 1000x500 with 2 Axes>"
            ],
            "image/png": "[encoded data removed]"
          },
          "metadata": {}
        }
      ],
      "source": [
        "import matplotlib.pyplot as plt\n",
        "import japanize_matplotlib\n",
        "\n",
        "# 年齢xの最小値以上最大値以下の整数を説明変数として生成\n",
        "xs = np.arange(x.min(), x.max()+1)\n",
        "# 多項式回帰用に説明変数を準備\n",
        "xs2 = prepare_data(xs, degree=14)\n",
        "# 学習したモデル目的変数の値を予測\n",
        "pred=model.predict(xs2)\n",
        "\n",
        "# 横に並ぶ2つの図を作成\n",
        "plt.figure(figsize=(10, 5))\n",
        "# 訓練データについてのグラフ\n",
        "plt.subplot(1, 2, 1)\n",
        "plt.title('訓練データ')\n",
        "plt.scatter(x_train, y_train, label=\"真値\")\n",
        "plt.scatter(x_train, y_train_pred, label=\"予測値\")\n",
        "plt.plot(xs, pred, color='black', ls='dashed', label=\"回帰曲線\")\n",
        "plt.legend(fontsize=14)\n",
        "plt.ylim(70, 200)\n",
        "plt.xlim(0, 30)\n",
        "plt.xlabel('年齢', fontsize=14)\n",
        "plt.ylabel('身長(cm)', fontsize=14)\n",
        "\n",
        "# テストデータについてのグラフ\n",
        "plt.subplot(1, 2, 2)\n",
        "plt.title('テストデータ')\n",
        "plt.scatter(x_test, y_test, label=\"真値\")\n",
        "plt.scatter(x_test, y_test_pred, label=\"予測値\")\n",
        "plt.plot(xs, pred, color='black', ls='dashed', label=\"回帰曲線\")\n",
        "plt.legend(fontsize=14)\n",
        "plt.ylim(70, 200)\n",
        "plt.xlim(0, 30)\n",
        "plt.xlabel('年齢', fontsize=14)\n",
        "plt.ylabel('身長(cm)', fontsize=14)\n",
        "plt.show()"
      ]
    },
    {
      "cell_type": "markdown",
      "metadata": {
        "id": "5FFmLsBz9FWn"
      },
      "source": [
        "# 実習5.7：年齢-女性身長データ リーブワンアウト交差検証"
      ]
    },
    {
      "cell_type": "code",
      "execution_count": 9,
      "metadata": {
        "colab": {
          "base_uri": "https://localhost:8080/"
        },
        "id": "SRNX_1rcX1zj",
        "outputId": "8f4733d4-c835-4a0b-e54d-a1c3abe577ea"
      },
      "outputs": [
        {
          "output_type": "stream",
          "name": "stdout",
          "text": [
            "次数\t誤差\t誤差の標準偏差\n",
            "1\t12.31\t12.70\n",
            "2\t3.18\t3.67\n",
            "3\t2.99\t3.05\n",
            "4\t2.35\t2.97\n",
            "5\t2.77\t3.87\n",
            "6\t2.29\t4.11\n",
            "7\t2.92\t4.79\n",
            "8\t1.32\t1.75\n",
            "9\t2.46\t4.74\n",
            "10\t3.63\t7.52\n",
            "11\t1.34\t1.76\n",
            "12\t9.42\t19.93\n",
            "13\t36.49\t79.15\n",
            "14\t58.09\t126.81\n",
            "15\t94.72\t207.58\n",
            "16\t155.35\t340.77\n"
          ]
        }
      ],
      "source": [
        "import pandas as pd\n",
        "import numpy as np\n",
        "from sklearn.metrics import mean_squared_error\n",
        "from sklearn.model_selection import KFold\n",
        "\n",
        "x = df['年齢'].to_numpy() # 説明変数の値を取り出す。\n",
        "y = df['女性身長'].to_numpy() # 目的変数の値を取り出す。\n",
        "\n",
        "#  多項式の次数を1以上16以下で準備\n",
        "degrees=np.arange(1, 17)\n",
        "\n",
        "def train_and_predict(x, y, degree):\n",
        "    \"\"\"1つのモデルに対する訓練と予測を行う。\n",
        "    Args:\n",
        "        x (ndarray): 説明変数。1次元配列\n",
        "        y (ndarray): 目的変数。1次元配列\n",
        "        degree (int): 多項式の次数\n",
        "\n",
        "    Returns:\n",
        "        test_error_std (flost): 交差検証誤差の平均\n",
        "        test_error_std (flost): 交差検証誤差の標準偏差\n",
        "    \"\"\"\n",
        "    # 多項式回帰用に説明変数を準備\n",
        "    x2 = prepare_data(x, degree=degree)\n",
        "    # 分割数 n_splits を2に設定\n",
        "    kf = KFold(n_splits=len(x2))\n",
        "    # 各サブセットでテストデータに対する予測誤差を格納するリスト\n",
        "    test_mse_values = []\n",
        "\n",
        "    for train_index, test_index in kf.split(x2):\n",
        "        x_train = x2[train_index] # 訓練データ説明変数\n",
        "        y_train = y[train_index]  # 訓練データ目的変数\n",
        "        x_test = x2[test_index]   # テストデータ説明変数\n",
        "        y_test = y[test_index]    # テストデータ目的変数\n",
        "\n",
        "        model=LinearRegression()\n",
        "        # 訓練データに対する回帰\n",
        "        model.fit(x_train,y_train)\n",
        "\n",
        "        # テストデータに対する予測\n",
        "        y_test_pred = model.predict(x_test)\n",
        "        # テストデータのMSE計算\n",
        "        mse = mean_squared_error(y_test, y_test_pred)\n",
        "        test_mse_values.append(mse)\n",
        "\n",
        "    # 二乗誤差の平方根を取り、誤差の単位をcm二乗からcmへ戻す\n",
        "    test_error_mean = np.sqrt(np.mean(test_mse_values)) # 誤差の平均\n",
        "    test_error_std = np.sqrt(np.std(test_mse_values)) # 誤差の標準偏差\n",
        "    return test_error_mean, test_error_std\n",
        "\n",
        "# 関数の外\n",
        "test_error_mean = []\n",
        "test_error_std = []\n",
        "print('次数\\t誤差\\t誤差の標準偏差')\n",
        "for d in degrees:\n",
        "    m, s = train_and_predict(x, y, d)\n",
        "    test_error_mean.append(m)\n",
        "    test_error_std.append(s)\n",
        "    print(f'{d}\\t{m:.2f}\\t{s:.2f}')"
      ]
    },
    {
      "cell_type": "markdown",
      "metadata": {
        "id": "Hvh2axoY_sRu"
      },
      "source": [
        "# 実習5.8：年齢-女性身長データ 次数と交差検証誤差"
      ]
    },
    {
      "cell_type": "code",
      "execution_count": 10,
      "metadata": {
        "colab": {
          "base_uri": "https://localhost:8080/",
          "height": 465
        },
        "id": "7-E7KH923QGI",
        "outputId": "80301c07-cd9d-44e1-88e3-b74a2f0478bf"
      },
      "outputs": [
        {
          "output_type": "display_data",
          "data": {
            "text/plain": [
              "<Figure size 1200x600 with 2 Axes>"
            ],
            "image/png": "[encoded data removed]"
          },
          "metadata": {}
        }
      ],
      "source": [
        "import matplotlib.pyplot as plt\n",
        "import japanize_matplotlib\n",
        "\n",
        "plt.figure(figsize=(12, 6))\n",
        "\n",
        "labels = [str(d) for d in degrees]\n",
        "width = 0.5\n",
        "\n",
        "plt.subplot(1, 2, 1)\n",
        "plt.bar(labels, test_error_mean, width=width, align='center')\n",
        "plt.xlabel('多項式次数', fontsize=14)\n",
        "plt.ylabel('交差検証誤差(cm)', fontsize=14)\n",
        "\n",
        "plt.subplot(1, 2, 2)\n",
        "plt.bar(labels, test_error_std, width=width, align='center')\n",
        "plt.xlabel('多項式次数', fontsize=14)\n",
        "plt.ylabel('交差検証誤差のばらつき(cm)', fontsize=14)\n",
        "plt.show()"
      ]
    },
    {
      "cell_type": "markdown",
      "metadata": {
        "id": "ivmBsroeWJfb"
      },
      "source": [
        "# 実習5.9：年齢-女性身長データ 最適なモデルの回帰曲線"
      ]
    },
    {
      "cell_type": "code",
      "execution_count": 11,
      "metadata": {
        "colab": {
          "base_uri": "https://localhost:8080/",
          "height": 563
        },
        "id": "QMpWGnZBFgNN",
        "outputId": "54c79a2a-3cff-412d-909b-009d3ffc74d4"
      },
      "outputs": [
        {
          "output_type": "stream",
          "name": "stdout",
          "text": [
            "最適な次数: 8\n"
          ]
        },
        {
          "output_type": "display_data",
          "data": {
            "text/plain": [
              "<Figure size 800x600 with 1 Axes>"
            ],
            "image/png": "[encoded data removed]"
          },
          "metadata": {}
        }
      ],
      "source": [
        "# test_error_stdの要素の中で最小値であるインデックスを取得\n",
        "index = np.argmin(test_error_std)\n",
        "optimum_degree = degrees[index]\n",
        "print('最適な次数:', optimum_degree)\n",
        "\n",
        "# 最適な次数の多項式回帰用に、全説明変数を対象にデータを準備\n",
        "x2 = prepare_data(x, degree=optimum_degree)\n",
        "\n",
        "model=LinearRegression() # 回帰分析用クラスのインスタンス生成\n",
        "model.fit(x2,y) # モデルパラメータの推定\n",
        "\n",
        "xs = np.linspace(x.min(), x.max(), 100)\n",
        "xs2 = prepare_data(xs, degree=optimum_degree)\n",
        "ys = model.predict(xs2)\n",
        "\n",
        "plt.figure(figsize=(8, 6))\n",
        "plt.scatter(x, y, s=50, label=\"教師データ\")\n",
        "plt.plot(xs, ys, color='red', linestyle='dashed', label=\"回帰曲線\")\n",
        "plt.legend(fontsize=14)\n",
        "plt.xlabel('年齢', fontsize=14)\n",
        "plt.ylabel('身長(cm)', fontsize=14)\n",
        "plt.show()"
      ]
    }
  ],
  "metadata": {
    "colab": {
      "provenance": []
    },
    "kernelspec": {
      "display_name": "Python 3 (ipykernel)",
      "language": "python",
      "name": "python3"
    },
    "language_info": {
      "codemirror_mode": {
        "name": "ipython",
        "version": 3
      },
      "file_extension": ".py",
      "mimetype": "text/x-python",
      "name": "python",
      "nbconvert_exporter": "python",
      "pygments_lexer": "ipython3",
      "version": "3.7.11"
    },
    "latex_envs": {
      "LaTeX_envs_menu_present": true,
      "autoclose": false,
      "autocomplete": true,
      "bibliofile": "biblio.bib",
      "cite_by": "apalike",
      "current_citInitial": 1,
      "eqLabelWithNumbers": true,
      "eqNumInitial": 1,
      "hotkeys": {
        "equation": "Ctrl-E",
        "itemize": "Ctrl-I"
      },
      "labels_anchors": false,
      "latex_user_defs": false,
      "report_style_numbering": false,
      "user_envs_cfg": false
    },
    "toc": {
      "base_numbering": 1,
      "nav_menu": {},
      "number_sections": false,
      "sideBar": true,
      "skip_h1_title": false,
      "title_cell": "Table of Contents",
      "title_sidebar": "Contents",
      "toc_cell": false,
      "toc_position": {
        "height": "calc(100% - 180px)",
        "left": "10px",
        "top": "150px",
        "width": "265.275px"
      },
      "toc_section_display": true,
      "toc_window_display": true
    },
    "varInspector": {
      "cols": {
        "lenName": 16,
        "lenType": 16,
        "lenVar": 40
      },
      "kernels_config": {
        "python": {
          "delete_cmd_postfix": "",
          "delete_cmd_prefix": "del ",
          "library": "var_list.py",
          "varRefreshCmd": "print(var_dic_list())"
        },
        "r": {
          "delete_cmd_postfix": ") ",
          "delete_cmd_prefix": "rm(",
          "library": "var_list.r",
          "varRefreshCmd": "cat(var_dic_list()) "
        }
      },
      "types_to_exclude": [
        "module",
        "function",
        "builtin_function_or_method",
        "instance",
        "_Feature"
      ],
      "window_display": false
    }
  },
  "nbformat": 4,
  "nbformat_minor": 0
}