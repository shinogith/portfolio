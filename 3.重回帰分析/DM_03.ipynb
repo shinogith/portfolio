{
  "cells": [
    {
      "cell_type": "markdown",
      "id": "97d6b3ac",
      "metadata": {
        "id": "97d6b3ac"
      },
      "source": [
        "# グラフの文字で英語以外を使えるようにする"
      ]
    },
    {
      "cell_type": "code",
      "execution_count": 1,
      "id": "71fde747",
      "metadata": {
        "id": "71fde747",
        "colab": {
          "base_uri": "https://localhost:8080/"
        },
        "outputId": "1de52eff-1a35-415c-8063-8240ebc9e394"
      },
      "outputs": [
        {
          "output_type": "stream",
          "name": "stdout",
          "text": [
            "Collecting japanize-matplotlib\n",
            "  Downloading japanize-matplotlib-1.1.3.tar.gz (4.1 MB)\n",
            "\u001b[2K     \u001b[90m━━━━━━━━━━━━━━━━━━━━━━━━━━━━━━━━━━━━━━━━\u001b[0m \u001b[32m4.1/4.1 MB\u001b[0m \u001b[31m32.9 MB/s\u001b[0m eta \u001b[36m0:00:00\u001b[0m\n",
            "\u001b[?25h  Preparing metadata (setup.py) ... \u001b[?25l\u001b[?25hdone\n",
            "Requirement already satisfied: matplotlib in /usr/local/lib/python3.10/dist-packages (from japanize-matplotlib) (3.7.1)\n",
            "Requirement already satisfied: contourpy>=1.0.1 in /usr/local/lib/python3.10/dist-packages (from matplotlib->japanize-matplotlib) (1.1.1)\n",
            "Requirement already satisfied: cycler>=0.10 in /usr/local/lib/python3.10/dist-packages (from matplotlib->japanize-matplotlib) (0.12.0)\n",
            "Requirement already satisfied: fonttools>=4.22.0 in /usr/local/lib/python3.10/dist-packages (from matplotlib->japanize-matplotlib) (4.43.1)\n",
            "Requirement already satisfied: kiwisolver>=1.0.1 in /usr/local/lib/python3.10/dist-packages (from matplotlib->japanize-matplotlib) (1.4.5)\n",
            "Requirement already satisfied: numpy>=1.20 in /usr/local/lib/python3.10/dist-packages (from matplotlib->japanize-matplotlib) (1.23.5)\n",
            "Requirement already satisfied: packaging>=20.0 in /usr/local/lib/python3.10/dist-packages (from matplotlib->japanize-matplotlib) (23.2)\n",
            "Requirement already satisfied: pillow>=6.2.0 in /usr/local/lib/python3.10/dist-packages (from matplotlib->japanize-matplotlib) (9.4.0)\n",
            "Requirement already satisfied: pyparsing>=2.3.1 in /usr/local/lib/python3.10/dist-packages (from matplotlib->japanize-matplotlib) (3.1.1)\n",
            "Requirement already satisfied: python-dateutil>=2.7 in /usr/local/lib/python3.10/dist-packages (from matplotlib->japanize-matplotlib) (2.8.2)\n",
            "Requirement already satisfied: six>=1.5 in /usr/local/lib/python3.10/dist-packages (from python-dateutil>=2.7->matplotlib->japanize-matplotlib) (1.16.0)\n",
            "Building wheels for collected packages: japanize-matplotlib\n",
            "  Building wheel for japanize-matplotlib (setup.py) ... \u001b[?25l\u001b[?25hdone\n",
            "  Created wheel for japanize-matplotlib: filename=japanize_matplotlib-1.1.3-py3-none-any.whl size=4120257 sha256=3b25bd23b13be243f25334687a46cf082bd952272f03e7835cea8f6548e567fd\n",
            "  Stored in directory: /root/.cache/pip/wheels/61/7a/6b/df1f79be9c59862525070e157e62b08eab8ece27c1b68fbb94\n",
            "Successfully built japanize-matplotlib\n",
            "Installing collected packages: japanize-matplotlib\n",
            "Successfully installed japanize-matplotlib-1.1.3\n"
          ]
        }
      ],
      "source": [
        "!pip install japanize-matplotlib"
      ]
    },
    {
      "cell_type": "markdown",
      "id": "5bd8b5f7",
      "metadata": {
        "id": "5bd8b5f7"
      },
      "source": [
        "# 関数 save_fig：図の保存"
      ]
    },
    {
      "cell_type": "code",
      "execution_count": 2,
      "id": "7808dcd3",
      "metadata": {
        "id": "7808dcd3"
      },
      "outputs": [],
      "source": [
        "import os\n",
        "import numpy as np\n",
        "import matplotlib.pyplot as plt\n",
        "%matplotlib inline\n",
        "\n",
        "import japanize_matplotlib\n",
        "\n",
        "def save_fig(plt, file_prefix, bbox_inches='tight'):\n",
        "    if file_prefix == '':\n",
        "        return\n",
        "\n",
        "    parent = os.path.dirname(os.path.abspath(file_prefix))\n",
        "    os.makedirs(parent, exist_ok=True)\n",
        "    plt.savefig(f'{file_prefix}.pdf', transparent=True, bbox_inches=bbox_inches, pad_inches = 0)\n",
        "    plt.savefig(f'{file_prefix}.png', transparent=True, dpi=300, bbox_inches=bbox_inches, pad_inches = 0)"
      ]
    },
    {
      "cell_type": "markdown",
      "id": "2495a8d4",
      "metadata": {
        "id": "2495a8d4"
      },
      "source": [
        "# 実習3.1：正規化と標準化の練習用データ生成"
      ]
    },
    {
      "cell_type": "code",
      "execution_count": 3,
      "id": "19247929",
      "metadata": {
        "id": "19247929",
        "colab": {
          "base_uri": "https://localhost:8080/"
        },
        "outputId": "ab5baacb-a838-4032-bfde-f645317783a0"
      },
      "outputs": [
        {
          "output_type": "stream",
          "name": "stdout",
          "text": [
            "[0 1 3 8 6 4]\n",
            "[[0 1]\n",
            " [3 8]\n",
            " [6 4]]\n"
          ]
        }
      ],
      "source": [
        "import numpy as np\n",
        "\n",
        "x=np.array([0, 1, 3, 8, 6, 4])\n",
        "\n",
        "print(x)\n",
        "\n",
        "# 1次元を行数3、列数2の2次元配列へ変形\n",
        "x=x.reshape((3, 2))\n",
        "print(x)"
      ]
    },
    {
      "cell_type": "markdown",
      "id": "5dec0585",
      "metadata": {
        "id": "5dec0585"
      },
      "source": [
        "# 実習3.2：正規化の練習"
      ]
    },
    {
      "cell_type": "code",
      "execution_count": 4,
      "id": "d80bf5fd",
      "metadata": {
        "id": "d80bf5fd",
        "colab": {
          "base_uri": "https://localhost:8080/"
        },
        "outputId": "1b6fe616-85f4-4630-bcd6-139ead6f8188"
      },
      "outputs": [
        {
          "output_type": "stream",
          "name": "stdout",
          "text": [
            "[[0.         0.        ]\n",
            " [0.5        1.        ]\n",
            " [1.         0.42857143]]\n"
          ]
        }
      ],
      "source": [
        "from sklearn.preprocessing import MinMaxScaler\n",
        "\n",
        "# 正規化を行うクラスのインスタンスを生成\n",
        "scaler=MinMaxScaler()\n",
        "\n",
        "# 2次元配列xに対して、列ごとに正規化を実施\n",
        "x_norm=scaler.fit_transform(x)\n",
        "\n",
        "print(x_norm)"
      ]
    },
    {
      "cell_type": "markdown",
      "id": "cba19952",
      "metadata": {
        "id": "cba19952"
      },
      "source": [
        "# 実習3.3：標準化の練習"
      ]
    },
    {
      "cell_type": "code",
      "execution_count": 5,
      "id": "391bf387",
      "metadata": {
        "id": "391bf387",
        "colab": {
          "base_uri": "https://localhost:8080/"
        },
        "outputId": "351c326e-2aa4-4be5-8b56-cc6d176fffb5"
      },
      "outputs": [
        {
          "output_type": "stream",
          "name": "stdout",
          "text": [
            "[[-1.22474487 -1.16247639]\n",
            " [ 0.          1.27872403]\n",
            " [ 1.22474487 -0.11624764]]\n",
            "列インデックス0の平均: 0.0\n",
            "列インデックス0の標準偏差: 1.0\n",
            "列インデックス1の平均: 1.4340380734741606e-16\n",
            "列インデックス1の標準偏差: 1.0\n"
          ]
        }
      ],
      "source": [
        "from sklearn.preprocessing import StandardScaler\n",
        "\n",
        "# 標準化を行うクラスのインスタンスを生成\n",
        "scaler=StandardScaler()\n",
        "\n",
        "# 2次元配列xに対して、列ごとに正規化を実施\n",
        "x_std=scaler.fit_transform(x)\n",
        "\n",
        "print(x_std)\n",
        "\n",
        "# 各列の平均と標準偏差を計算\n",
        "print('列インデックス0の平均:', np.mean(x_std[:, 0]))\n",
        "print('列インデックス0の標準偏差:', np.std(x_std[:, 0]))\n",
        "print('列インデックス1の平均:', np.mean(x_std[:, 1]))\n",
        "print('列インデックス1の標準偏差:', np.std(x_std[:, 1]))"
      ]
    },
    {
      "cell_type": "markdown",
      "id": "267d5152",
      "metadata": {
        "id": "267d5152"
      },
      "source": [
        "# 実習3.4：データの読み込み"
      ]
    },
    {
      "cell_type": "code",
      "execution_count": 6,
      "id": "c0cf285d",
      "metadata": {
        "scrolled": true,
        "id": "c0cf285d",
        "colab": {
          "base_uri": "https://localhost:8080/",
          "height": 423
        },
        "outputId": "b214660f-75ff-4b15-b092-b4a73850635b"
      },
      "outputs": [
        {
          "output_type": "execute_result",
          "data": {
            "text/plain": [
              "        CRIM    ZN  INDUS  CHAS    NOX     RM   AGE     DIS  RAD  TAX  \\\n",
              "0    0.00632  18.0   2.31     0  0.538  6.575  65.2  4.0900    1  296   \n",
              "1    0.02731   0.0   7.07     0  0.469  6.421  78.9  4.9671    2  242   \n",
              "2    0.02729   0.0   7.07     0  0.469  7.185  61.1  4.9671    2  242   \n",
              "3    0.03237   0.0   2.18     0  0.458  6.998  45.8  6.0622    3  222   \n",
              "4    0.06905   0.0   2.18     0  0.458  7.147  54.2  6.0622    3  222   \n",
              "..       ...   ...    ...   ...    ...    ...   ...     ...  ...  ...   \n",
              "501  0.06263   0.0  11.93     0  0.573  6.593  69.1  2.4786    1  273   \n",
              "502  0.04527   0.0  11.93     0  0.573  6.120  76.7  2.2875    1  273   \n",
              "503  0.06076   0.0  11.93     0  0.573  6.976  91.0  2.1675    1  273   \n",
              "504  0.10959   0.0  11.93     0  0.573  6.794  89.3  2.3889    1  273   \n",
              "505  0.04741   0.0  11.93     0  0.573  6.030  80.8  2.5050    1  273   \n",
              "\n",
              "     PTRATIO  LSTAT  PRICE  \n",
              "0       15.3   4.98   24.0  \n",
              "1       17.8   9.14   21.6  \n",
              "2       17.8   4.03   34.7  \n",
              "3       18.7   2.94   33.4  \n",
              "4       18.7   5.33   36.2  \n",
              "..       ...    ...    ...  \n",
              "501     21.0   9.67   22.4  \n",
              "502     21.0   9.08   20.6  \n",
              "503     21.0   5.64   23.9  \n",
              "504     21.0   6.48   22.0  \n",
              "505     21.0   7.88   11.9  \n",
              "\n",
              "[506 rows x 13 columns]"
            ],
            "text/html": [
              "\n",
              "  <div id=\"df-c018a972-65f1-41b4-b114-8091aacf8071\" class=\"colab-df-container\">\n",
              "    <div>\n",
              "<style scoped>\n",
              "    .dataframe tbody tr th:only-of-type {\n",
              "        vertical-align: middle;\n",
              "    }\n",
              "\n",
              "    .dataframe tbody tr th {\n",
              "        vertical-align: top;\n",
              "    }\n",
              "\n",
              "    .dataframe thead th {\n",
              "        text-align: right;\n",
              "    }\n",
              "</style>\n",
              "<table border=\"1\" class=\"dataframe\">\n",
              "  <thead>\n",
              "    <tr style=\"text-align: right;\">\n",
              "      <th></th>\n",
              "      <th>CRIM</th>\n",
              "      <th>ZN</th>\n",
              "      <th>INDUS</th>\n",
              "      <th>CHAS</th>\n",
              "      <th>NOX</th>\n",
              "      <th>RM</th>\n",
              "      <th>AGE</th>\n",
              "      <th>DIS</th>\n",
              "      <th>RAD</th>\n",
              "      <th>TAX</th>\n",
              "      <th>PTRATIO</th>\n",
              "      <th>LSTAT</th>\n",
              "      <th>PRICE</th>\n",
              "    </tr>\n",
              "  </thead>\n",
              "  <tbody>\n",
              "    <tr>\n",
              "      <th>0</th>\n",
              "      <td>0.00632</td>\n",
              "      <td>18.0</td>\n",
              "      <td>2.31</td>\n",
              "      <td>0</td>\n",
              "      <td>0.538</td>\n",
              "      <td>6.575</td>\n",
              "      <td>65.2</td>\n",
              "      <td>4.0900</td>\n",
              "      <td>1</td>\n",
              "      <td>296</td>\n",
              "      <td>15.3</td>\n",
              "      <td>4.98</td>\n",
              "      <td>24.0</td>\n",
              "    </tr>\n",
              "    <tr>\n",
              "      <th>1</th>\n",
              "      <td>0.02731</td>\n",
              "      <td>0.0</td>\n",
              "      <td>7.07</td>\n",
              "      <td>0</td>\n",
              "      <td>0.469</td>\n",
              "      <td>6.421</td>\n",
              "      <td>78.9</td>\n",
              "      <td>4.9671</td>\n",
              "      <td>2</td>\n",
              "      <td>242</td>\n",
              "      <td>17.8</td>\n",
              "      <td>9.14</td>\n",
              "      <td>21.6</td>\n",
              "    </tr>\n",
              "    <tr>\n",
              "      <th>2</th>\n",
              "      <td>0.02729</td>\n",
              "      <td>0.0</td>\n",
              "      <td>7.07</td>\n",
              "      <td>0</td>\n",
              "      <td>0.469</td>\n",
              "      <td>7.185</td>\n",
              "      <td>61.1</td>\n",
              "      <td>4.9671</td>\n",
              "      <td>2</td>\n",
              "      <td>242</td>\n",
              "      <td>17.8</td>\n",
              "      <td>4.03</td>\n",
              "      <td>34.7</td>\n",
              "    </tr>\n",
              "    <tr>\n",
              "      <th>3</th>\n",
              "      <td>0.03237</td>\n",
              "      <td>0.0</td>\n",
              "      <td>2.18</td>\n",
              "      <td>0</td>\n",
              "      <td>0.458</td>\n",
              "      <td>6.998</td>\n",
              "      <td>45.8</td>\n",
              "      <td>6.0622</td>\n",
              "      <td>3</td>\n",
              "      <td>222</td>\n",
              "      <td>18.7</td>\n",
              "      <td>2.94</td>\n",
              "      <td>33.4</td>\n",
              "    </tr>\n",
              "    <tr>\n",
              "      <th>4</th>\n",
              "      <td>0.06905</td>\n",
              "      <td>0.0</td>\n",
              "      <td>2.18</td>\n",
              "      <td>0</td>\n",
              "      <td>0.458</td>\n",
              "      <td>7.147</td>\n",
              "      <td>54.2</td>\n",
              "      <td>6.0622</td>\n",
              "      <td>3</td>\n",
              "      <td>222</td>\n",
              "      <td>18.7</td>\n",
              "      <td>5.33</td>\n",
              "      <td>36.2</td>\n",
              "    </tr>\n",
              "    <tr>\n",
              "      <th>...</th>\n",
              "      <td>...</td>\n",
              "      <td>...</td>\n",
              "      <td>...</td>\n",
              "      <td>...</td>\n",
              "      <td>...</td>\n",
              "      <td>...</td>\n",
              "      <td>...</td>\n",
              "      <td>...</td>\n",
              "      <td>...</td>\n",
              "      <td>...</td>\n",
              "      <td>...</td>\n",
              "      <td>...</td>\n",
              "      <td>...</td>\n",
              "    </tr>\n",
              "    <tr>\n",
              "      <th>501</th>\n",
              "      <td>0.06263</td>\n",
              "      <td>0.0</td>\n",
              "      <td>11.93</td>\n",
              "      <td>0</td>\n",
              "      <td>0.573</td>\n",
              "      <td>6.593</td>\n",
              "      <td>69.1</td>\n",
              "      <td>2.4786</td>\n",
              "      <td>1</td>\n",
              "      <td>273</td>\n",
              "      <td>21.0</td>\n",
              "      <td>9.67</td>\n",
              "      <td>22.4</td>\n",
              "    </tr>\n",
              "    <tr>\n",
              "      <th>502</th>\n",
              "      <td>0.04527</td>\n",
              "      <td>0.0</td>\n",
              "      <td>11.93</td>\n",
              "      <td>0</td>\n",
              "      <td>0.573</td>\n",
              "      <td>6.120</td>\n",
              "      <td>76.7</td>\n",
              "      <td>2.2875</td>\n",
              "      <td>1</td>\n",
              "      <td>273</td>\n",
              "      <td>21.0</td>\n",
              "      <td>9.08</td>\n",
              "      <td>20.6</td>\n",
              "    </tr>\n",
              "    <tr>\n",
              "      <th>503</th>\n",
              "      <td>0.06076</td>\n",
              "      <td>0.0</td>\n",
              "      <td>11.93</td>\n",
              "      <td>0</td>\n",
              "      <td>0.573</td>\n",
              "      <td>6.976</td>\n",
              "      <td>91.0</td>\n",
              "      <td>2.1675</td>\n",
              "      <td>1</td>\n",
              "      <td>273</td>\n",
              "      <td>21.0</td>\n",
              "      <td>5.64</td>\n",
              "      <td>23.9</td>\n",
              "    </tr>\n",
              "    <tr>\n",
              "      <th>504</th>\n",
              "      <td>0.10959</td>\n",
              "      <td>0.0</td>\n",
              "      <td>11.93</td>\n",
              "      <td>0</td>\n",
              "      <td>0.573</td>\n",
              "      <td>6.794</td>\n",
              "      <td>89.3</td>\n",
              "      <td>2.3889</td>\n",
              "      <td>1</td>\n",
              "      <td>273</td>\n",
              "      <td>21.0</td>\n",
              "      <td>6.48</td>\n",
              "      <td>22.0</td>\n",
              "    </tr>\n",
              "    <tr>\n",
              "      <th>505</th>\n",
              "      <td>0.04741</td>\n",
              "      <td>0.0</td>\n",
              "      <td>11.93</td>\n",
              "      <td>0</td>\n",
              "      <td>0.573</td>\n",
              "      <td>6.030</td>\n",
              "      <td>80.8</td>\n",
              "      <td>2.5050</td>\n",
              "      <td>1</td>\n",
              "      <td>273</td>\n",
              "      <td>21.0</td>\n",
              "      <td>7.88</td>\n",
              "      <td>11.9</td>\n",
              "    </tr>\n",
              "  </tbody>\n",
              "</table>\n",
              "<p>506 rows × 13 columns</p>\n",
              "</div>\n",
              "    <div class=\"colab-df-buttons\">\n",
              "\n",
              "  <div class=\"colab-df-container\">\n",
              "    <button class=\"colab-df-convert\" onclick=\"convertToInteractive('df-c018a972-65f1-41b4-b114-8091aacf8071')\"\n",
              "            title=\"Convert this dataframe to an interactive table.\"\n",
              "            style=\"display:none;\">\n",
              "\n",
              "  <svg xmlns=\"http://www.w3.org/2000/svg\" height=\"24px\" viewBox=\"0 -960 960 960\">\n",
              "    <path d=\"M120-120v-720h720v720H120Zm60-500h600v-160H180v160Zm220 220h160v-160H400v160Zm0 220h160v-160H400v160ZM180-400h160v-160H180v160Zm440 0h160v-160H620v160ZM180-180h160v-160H180v160Zm440 0h160v-160H620v160Z\"/>\n",
              "  </svg>\n",
              "    </button>\n",
              "\n",
              "  <style>\n",
              "    .colab-df-container {\n",
              "      display:flex;\n",
              "      gap: 12px;\n",
              "    }\n",
              "\n",
              "    .colab-df-convert {\n",
              "      background-color: #E8F0FE;\n",
              "      border: none;\n",
              "      border-radius: 50%;\n",
              "      cursor: pointer;\n",
              "      display: none;\n",
              "      fill: #1967D2;\n",
              "      height: 32px;\n",
              "      padding: 0 0 0 0;\n",
              "      width: 32px;\n",
              "    }\n",
              "\n",
              "    .colab-df-convert:hover {\n",
              "      background-color: #E2EBFA;\n",
              "      box-shadow: 0px 1px 2px rgba(60, 64, 67, 0.3), 0px 1px 3px 1px rgba(60, 64, 67, 0.15);\n",
              "      fill: #174EA6;\n",
              "    }\n",
              "\n",
              "    .colab-df-buttons div {\n",
              "      margin-bottom: 4px;\n",
              "    }\n",
              "\n",
              "    [theme=dark] .colab-df-convert {\n",
              "      background-color: #3B4455;\n",
              "      fill: #D2E3FC;\n",
              "    }\n",
              "\n",
              "    [theme=dark] .colab-df-convert:hover {\n",
              "      background-color: #434B5C;\n",
              "      box-shadow: 0px 1px 3px 1px rgba(0, 0, 0, 0.15);\n",
              "      filter: drop-shadow(0px 1px 2px rgba(0, 0, 0, 0.3));\n",
              "      fill: #FFFFFF;\n",
              "    }\n",
              "  </style>\n",
              "\n",
              "    <script>\n",
              "      const buttonEl =\n",
              "        document.querySelector('#df-c018a972-65f1-41b4-b114-8091aacf8071 button.colab-df-convert');\n",
              "      buttonEl.style.display =\n",
              "        google.colab.kernel.accessAllowed ? 'block' : 'none';\n",
              "\n",
              "      async function convertToInteractive(key) {\n",
              "        const element = document.querySelector('#df-c018a972-65f1-41b4-b114-8091aacf8071');\n",
              "        const dataTable =\n",
              "          await google.colab.kernel.invokeFunction('convertToInteractive',\n",
              "                                                    [key], {});\n",
              "        if (!dataTable) return;\n",
              "\n",
              "        const docLinkHtml = 'Like what you see? Visit the ' +\n",
              "          '<a target=\"_blank\" href=https://colab.research.google.com/notebooks/data_table.ipynb>data table notebook</a>'\n",
              "          + ' to learn more about interactive tables.';\n",
              "        element.innerHTML = '';\n",
              "        dataTable['output_type'] = 'display_data';\n",
              "        await google.colab.output.renderOutput(dataTable, element);\n",
              "        const docLink = document.createElement('div');\n",
              "        docLink.innerHTML = docLinkHtml;\n",
              "        element.appendChild(docLink);\n",
              "      }\n",
              "    </script>\n",
              "  </div>\n",
              "\n",
              "\n",
              "<div id=\"df-906f8a23-8436-40bc-ae8a-31cbdd4dc3be\">\n",
              "  <button class=\"colab-df-quickchart\" onclick=\"quickchart('df-906f8a23-8436-40bc-ae8a-31cbdd4dc3be')\"\n",
              "            title=\"Suggest charts.\"\n",
              "            style=\"display:none;\">\n",
              "\n",
              "<svg xmlns=\"http://www.w3.org/2000/svg\" height=\"24px\"viewBox=\"0 0 24 24\"\n",
              "     width=\"24px\">\n",
              "    <g>\n",
              "        <path d=\"M19 3H5c-1.1 0-2 .9-2 2v14c0 1.1.9 2 2 2h14c1.1 0 2-.9 2-2V5c0-1.1-.9-2-2-2zM9 17H7v-7h2v7zm4 0h-2V7h2v10zm4 0h-2v-4h2v4z\"/>\n",
              "    </g>\n",
              "</svg>\n",
              "  </button>\n",
              "\n",
              "<style>\n",
              "  .colab-df-quickchart {\n",
              "      --bg-color: #E8F0FE;\n",
              "      --fill-color: #1967D2;\n",
              "      --hover-bg-color: #E2EBFA;\n",
              "      --hover-fill-color: #174EA6;\n",
              "      --disabled-fill-color: #AAA;\n",
              "      --disabled-bg-color: #DDD;\n",
              "  }\n",
              "\n",
              "  [theme=dark] .colab-df-quickchart {\n",
              "      --bg-color: #3B4455;\n",
              "      --fill-color: #D2E3FC;\n",
              "      --hover-bg-color: #434B5C;\n",
              "      --hover-fill-color: #FFFFFF;\n",
              "      --disabled-bg-color: #3B4455;\n",
              "      --disabled-fill-color: #666;\n",
              "  }\n",
              "\n",
              "  .colab-df-quickchart {\n",
              "    background-color: var(--bg-color);\n",
              "    border: none;\n",
              "    border-radius: 50%;\n",
              "    cursor: pointer;\n",
              "    display: none;\n",
              "    fill: var(--fill-color);\n",
              "    height: 32px;\n",
              "    padding: 0;\n",
              "    width: 32px;\n",
              "  }\n",
              "\n",
              "  .colab-df-quickchart:hover {\n",
              "    background-color: var(--hover-bg-color);\n",
              "    box-shadow: 0 1px 2px rgba(60, 64, 67, 0.3), 0 1px 3px 1px rgba(60, 64, 67, 0.15);\n",
              "    fill: var(--button-hover-fill-color);\n",
              "  }\n",
              "\n",
              "  .colab-df-quickchart-complete:disabled,\n",
              "  .colab-df-quickchart-complete:disabled:hover {\n",
              "    background-color: var(--disabled-bg-color);\n",
              "    fill: var(--disabled-fill-color);\n",
              "    box-shadow: none;\n",
              "  }\n",
              "\n",
              "  .colab-df-spinner {\n",
              "    border: 2px solid var(--fill-color);\n",
              "    border-color: transparent;\n",
              "    border-bottom-color: var(--fill-color);\n",
              "    animation:\n",
              "      spin 1s steps(1) infinite;\n",
              "  }\n",
              "\n",
              "  @keyframes spin {\n",
              "    0% {\n",
              "      border-color: transparent;\n",
              "      border-bottom-color: var(--fill-color);\n",
              "      border-left-color: var(--fill-color);\n",
              "    }\n",
              "    20% {\n",
              "      border-color: transparent;\n",
              "      border-left-color: var(--fill-color);\n",
              "      border-top-color: var(--fill-color);\n",
              "    }\n",
              "    30% {\n",
              "      border-color: transparent;\n",
              "      border-left-color: var(--fill-color);\n",
              "      border-top-color: var(--fill-color);\n",
              "      border-right-color: var(--fill-color);\n",
              "    }\n",
              "    40% {\n",
              "      border-color: transparent;\n",
              "      border-right-color: var(--fill-color);\n",
              "      border-top-color: var(--fill-color);\n",
              "    }\n",
              "    60% {\n",
              "      border-color: transparent;\n",
              "      border-right-color: var(--fill-color);\n",
              "    }\n",
              "    80% {\n",
              "      border-color: transparent;\n",
              "      border-right-color: var(--fill-color);\n",
              "      border-bottom-color: var(--fill-color);\n",
              "    }\n",
              "    90% {\n",
              "      border-color: transparent;\n",
              "      border-bottom-color: var(--fill-color);\n",
              "    }\n",
              "  }\n",
              "</style>\n",
              "\n",
              "  <script>\n",
              "    async function quickchart(key) {\n",
              "      const quickchartButtonEl =\n",
              "        document.querySelector('#' + key + ' button');\n",
              "      quickchartButtonEl.disabled = true;  // To prevent multiple clicks.\n",
              "      quickchartButtonEl.classList.add('colab-df-spinner');\n",
              "      try {\n",
              "        const charts = await google.colab.kernel.invokeFunction(\n",
              "            'suggestCharts', [key], {});\n",
              "      } catch (error) {\n",
              "        console.error('Error during call to suggestCharts:', error);\n",
              "      }\n",
              "      quickchartButtonEl.classList.remove('colab-df-spinner');\n",
              "      quickchartButtonEl.classList.add('colab-df-quickchart-complete');\n",
              "    }\n",
              "    (() => {\n",
              "      let quickchartButtonEl =\n",
              "        document.querySelector('#df-906f8a23-8436-40bc-ae8a-31cbdd4dc3be button');\n",
              "      quickchartButtonEl.style.display =\n",
              "        google.colab.kernel.accessAllowed ? 'block' : 'none';\n",
              "    })();\n",
              "  </script>\n",
              "</div>\n",
              "    </div>\n",
              "  </div>\n"
            ]
          },
          "metadata": {},
          "execution_count": 6
        }
      ],
      "source": [
        "import pandas as pd\n",
        "import numpy as np\n",
        "\n",
        "# ファイルdm3.csvをpandasデータフレームに読み込む\n",
        "df=pd.read_csv('dm3.csv')\n",
        "\n",
        "# データフレームの中身を表示\n",
        "df"
      ]
    },
    {
      "cell_type": "markdown",
      "id": "ebe1c43d",
      "metadata": {
        "id": "ebe1c43d"
      },
      "source": [
        "# 実習3.5：部屋数と築年数による重回帰分析（標準化なし）"
      ]
    },
    {
      "cell_type": "code",
      "execution_count": 7,
      "id": "10587bb0",
      "metadata": {
        "id": "10587bb0",
        "colab": {
          "base_uri": "https://localhost:8080/"
        },
        "outputId": "0d860cc6-6020-4599-836d-59964c2b3aaf"
      },
      "outputs": [
        {
          "output_type": "stream",
          "name": "stdout",
          "text": [
            "説明変数xの形状: (506, 2)\n",
            "目的変数y_trueの形状: (506,)\n",
            "切片: -25.277399052976993\n",
            "偏回帰係数\n",
            "RM: 8.401581224642797\n",
            "AGE: -0.07277678580843637\n"
          ]
        }
      ],
      "source": [
        "from sklearn.linear_model import LinearRegression\n",
        "\n",
        "# 説明変数\n",
        "# データフレームdfから、列名RMとAGEのデータを取り出す。\n",
        "# 列名を要素とするリストを使うことで複数の列を同時に取り出せる。\n",
        "col_names = ['RM', 'AGE']\n",
        "x = df[col_names]\n",
        "x = x.to_numpy() # NumPy配列へ変換\n",
        "print('説明変数xの形状:', x.shape)\n",
        "\n",
        "# 目的変数\n",
        "# データフレームdfから、列名PRICEのデータを取り出す。\n",
        "y_true = df['PRICE']\n",
        "y_true = y_true.to_numpy() # NumPy配列へ変換\n",
        "print('目的変数y_trueの形状:', y_true.shape)\n",
        "\n",
        "# 線形重回帰分析クラスのインスタンス生成\n",
        "model1 = LinearRegression()\n",
        "\n",
        "# 重回帰分析実行\n",
        "model1.fit(x, y_true)\n",
        "\n",
        "w0=model1.intercept_ # model1がもつ切片の値をw0に代入\n",
        "print('切片:', w0)\n",
        "\n",
        "w=model1.coef_      # model1がもつ偏回帰係数の値をwに代入\n",
        "print('偏回帰係数')\n",
        "for i in range(len(col_names)):\n",
        "    name = col_names[i]\n",
        "    print(name + ':', w[i])"
      ]
    },
    {
      "cell_type": "markdown",
      "id": "fbcd8739",
      "metadata": {
        "id": "fbcd8739"
      },
      "source": [
        "# 実習3.6：部屋数と築年数による重回帰分析（標準化あり）"
      ]
    },
    {
      "cell_type": "code",
      "execution_count": 8,
      "id": "83dca00c",
      "metadata": {
        "id": "83dca00c",
        "colab": {
          "base_uri": "https://localhost:8080/"
        },
        "outputId": "a0e25c12-01f1-42f4-f8f5-531916836e6c"
      },
      "outputs": [
        {
          "output_type": "stream",
          "name": "stdout",
          "text": [
            "切片: 22.532806324110677\n",
            "偏回帰係数\n",
            "RM: 5.89725901758738\n",
            "AGE: -2.0465583640761915\n"
          ]
        }
      ],
      "source": [
        "from sklearn.preprocessing import StandardScaler\n",
        "\n",
        "# 標準化を行うクラスのインスタンスを生成\n",
        "scaler=StandardScaler()\n",
        "\n",
        "# 各説明変数を標準化\n",
        "x_std=scaler.fit_transform(x)\n",
        "\n",
        "# 線形重回帰分析クラスのインスタンス生成\n",
        "model2 = LinearRegression()\n",
        "\n",
        "# 重回帰分析実行\n",
        "model2.fit(x_std, y_true)\n",
        "\n",
        "w0=model2.intercept_ # model2がもつ切片の値をw0に代入\n",
        "print('切片:', w0)\n",
        "\n",
        "w=model2.coef_      # model2がもつ偏回帰係数の値をwに代入\n",
        "print('偏回帰係数')\n",
        "for i in range(len(col_names)):\n",
        "    name = col_names[i]\n",
        "    print(name + ':', w[i])"
      ]
    },
    {
      "cell_type": "markdown",
      "id": "a6300540",
      "metadata": {
        "id": "a6300540"
      },
      "source": [
        "# 実習3.7：低所得者の割合と部屋数による重回帰分析（標準化なし）"
      ]
    },
    {
      "cell_type": "code",
      "execution_count": 9,
      "id": "e26ddaf2",
      "metadata": {
        "id": "e26ddaf2",
        "colab": {
          "base_uri": "https://localhost:8080/"
        },
        "outputId": "84fa22e6-df6c-493e-e0cb-56362471db2b"
      },
      "outputs": [
        {
          "output_type": "stream",
          "name": "stdout",
          "text": [
            "切片: -1.3582728118744676\n",
            "偏回帰係数\n",
            "LSTAT: -0.6423583342441289\n",
            "RM: 5.09478798433654\n"
          ]
        }
      ],
      "source": [
        "from sklearn.linear_model import LinearRegression\n",
        "\n",
        "# 説明変数\n",
        "# データフレームdfから、列名LSTATとRMのデータを取り出す。\n",
        "# 列名を要素とするリストを使うことで複数の列を同時に取り出せる。\n",
        "col_names = ['LSTAT', 'RM']\n",
        "x = df[col_names]\n",
        "x = x.to_numpy() # NumPy配列へ変換\n",
        "\n",
        "# 目的変数\n",
        "# データフレームdfから、列名PRICEのデータを取り出す。\n",
        "y_true = df['PRICE']\n",
        "y_true = y_true.to_numpy() # NumPy配列へ変換\n",
        "\n",
        "# 線形重回帰分析クラスのインスタンス生成\n",
        "model3 = LinearRegression()\n",
        "\n",
        "# 重回帰分析実行\n",
        "model3.fit(x, y_true)\n",
        "\n",
        "w0=model3.intercept_ # model3がもつ切片の値をw0に代入\n",
        "print('切片:', w0)\n",
        "\n",
        "w=model3.coef_      # model3がもつ偏回帰係数の値をwに代入\n",
        "print('偏回帰係数')\n",
        "for i in range(len(col_names)):\n",
        "    name = col_names[i]\n",
        "    print(name + ':', w[i])"
      ]
    },
    {
      "cell_type": "markdown",
      "id": "5e171666",
      "metadata": {
        "id": "5e171666"
      },
      "source": [
        "# 実習3.8：低所得者の割合と部屋数による重回帰分析（標準化あり）"
      ]
    },
    {
      "cell_type": "code",
      "execution_count": 10,
      "id": "b9e2e85b",
      "metadata": {
        "id": "b9e2e85b",
        "colab": {
          "base_uri": "https://localhost:8080/"
        },
        "outputId": "8481acb6-5ece-417d-c111-956e8cf141ca"
      },
      "outputs": [
        {
          "output_type": "stream",
          "name": "stdout",
          "text": [
            "切片: 22.532806324110677\n",
            "偏回帰係数\n",
            "LSTAT: -4.582585407813698\n",
            "RM: 3.5761463919670553\n"
          ]
        }
      ],
      "source": [
        "from sklearn.preprocessing import StandardScaler\n",
        "\n",
        "# 標準化を行うクラスのインスタンスを生成\n",
        "scaler=StandardScaler()\n",
        "\n",
        "# 各説明変数を標準化\n",
        "x_std=scaler.fit_transform(x)\n",
        "\n",
        "# 線形重回帰分析クラスのインスタンス生成\n",
        "model4 = LinearRegression()\n",
        "\n",
        "# 重回帰分析実行\n",
        "model4.fit(x_std, y_true)\n",
        "\n",
        "w0=model4.intercept_ # model4がもつ切片の値をw0に代入\n",
        "print('切片:', w0)\n",
        "\n",
        "w=model4.coef_      # model4がもつ偏回帰係数の値をwに代入\n",
        "print('偏回帰係数')\n",
        "for i in range(len(col_names)):\n",
        "    name = col_names[i]\n",
        "    print(name + ':', w[i])"
      ]
    },
    {
      "cell_type": "markdown",
      "id": "ac0b693d",
      "metadata": {
        "id": "ac0b693d"
      },
      "source": [
        "# 実習3.9：全説明変数による重回帰分析（標準化なし）"
      ]
    },
    {
      "cell_type": "code",
      "execution_count": 12,
      "id": "5d0c9dc9",
      "metadata": {
        "id": "5d0c9dc9",
        "colab": {
          "base_uri": "https://localhost:8080/",
          "height": 845
        },
        "outputId": "cdca5238-d477-4675-a189-518702a3e300"
      },
      "outputs": [
        {
          "output_type": "stream",
          "name": "stdout",
          "text": [
            "説明変数\n",
            "['CRIM', 'ZN', 'INDUS', 'CHAS', 'NOX', 'RM', 'AGE', 'DIS', 'RAD', 'TAX', 'PTRATIO', 'LSTAT']\n",
            "説明変数xの形状: (506, 12)\n",
            "目的変数y_trueの形状: (506,)\n",
            "切片: 41.61727017595453\n",
            "偏回帰係数\n",
            "CRIM: -0.1213886184228233\n",
            "ZN: 0.04696346329978175\n",
            "INDUS: 0.013467694669070208\n",
            "CHAS: 2.8399933827285877\n",
            "NOX: -18.758022005241497\n",
            "RM: 3.658119041779195\n",
            "AGE: 0.003610710547087258\n",
            "DIS: -1.4907536500796637\n",
            "RAD: 0.2894045206208754\n",
            "TAX: -0.012681981258356102\n",
            "PTRATIO: -0.9375328998398151\n",
            "LSTAT: -0.5520191011638853\n"
          ]
        },
        {
          "output_type": "display_data",
          "data": {
            "text/plain": [
              "<Figure size 1000x600 with 1 Axes>"
            ],
            "image/png": "[encoded data removed]"
          },
          "metadata": {}
        }
      ],
      "source": [
        "from sklearn.linear_model import LinearRegression\n",
        "import matplotlib.pyplot as plt\n",
        "import japanize_matplotlib\n",
        "\n",
        "# データフレームdfから列名を取り出して、リスト型変数にする\n",
        "col_names = list(df.columns)\n",
        "# 目的変数の列名PRICEを取り除く説明変数\n",
        "col_names.remove('PRICE')\n",
        "print('説明変数')\n",
        "print(col_names)\n",
        "\n",
        "x = df[col_names]\n",
        "x = x.to_numpy() # NumPy配列へ変換\n",
        "print('説明変数xの形状:', x.shape)\n",
        "\n",
        "# 目的変数\n",
        "# データフレームdfから、列名PRICEのデータを取り出す。\n",
        "y_true = df['PRICE']\n",
        "y_true = y_true.to_numpy() # NumPy配列へ変換\n",
        "print('目的変数y_trueの形状:', y_true.shape)\n",
        "\n",
        "# 線形重回帰分析クラスのインスタンス生成\n",
        "model5 = LinearRegression()\n",
        "\n",
        "# 重回帰分析実行\n",
        "model5.fit(x, y_true)\n",
        "\n",
        "w0=model5.intercept_ # model5がもつ切片の値をw0に代入\n",
        "print('切片:', w0)\n",
        "\n",
        "w=model5.coef_      # model5がもつ偏回帰係数の値をwに代入\n",
        "print('偏回帰係数')\n",
        "for i in range(len(col_names)):\n",
        "    name = col_names[i]\n",
        "    print(name + ':', w[i])\n",
        "\n",
        "# 偏回帰係数の大きさをグラフにする\n",
        "w_abs=np.abs(w) # NumPyの関数absを使い、偏回帰係数の絶対値を計算\n",
        "\n",
        "plt.figure(figsize=(10, 6))\n",
        "left=np.arange(len(w_abs)) # 横軸の数値\n",
        "# 横軸の数値、縦軸の値、横軸ラベルを指定して棒グラフを作成\n",
        "plt.bar(left,height=w_abs, tick_label=col_names)\n",
        "plt.ylabel('偏回帰係数の大きさ')\n",
        "plt.show()"
      ]
    },
    {
      "cell_type": "markdown",
      "id": "8a8172e4",
      "metadata": {
        "id": "8a8172e4"
      },
      "source": [
        "# 実習3.10：全説明変数による重回帰分析（標準化あり）"
      ]
    },
    {
      "cell_type": "code",
      "execution_count": 14,
      "id": "13de52cc",
      "metadata": {
        "id": "13de52cc",
        "colab": {
          "base_uri": "https://localhost:8080/",
          "height": 773
        },
        "outputId": "9c1f2115-796f-4822-f218-d4e711016a60"
      },
      "outputs": [
        {
          "output_type": "stream",
          "name": "stdout",
          "text": [
            "切片: 22.532806324110673\n",
            "偏回帰係数\n",
            "CRIM: -1.043097417683981\n",
            "ZN: 1.0942203146182583\n",
            "INDUS: 0.09230179601003752\n",
            "CHAS: 0.7206282562015145\n",
            "NOX: -2.1714870661915695\n",
            "RM: 2.5677161155408066\n",
            "AGE: 0.10153690889631872\n",
            "DIS: -3.135991650631596\n",
            "RAD: 2.5174289567924664\n",
            "TAX: -2.135271462549667\n",
            "PTRATIO: -2.0277010229588526\n",
            "LSTAT: -3.938105171165487\n"
          ]
        },
        {
          "output_type": "display_data",
          "data": {
            "text/plain": [
              "<Figure size 1000x600 with 1 Axes>"
            ],
            "image/png": "[encoded data removed]"
          },
          "metadata": {}
        }
      ],
      "source": [
        "from sklearn.linear_model import LinearRegression\n",
        "\n",
        "# 標準化を行うクラスのインスタンスを生成\n",
        "scaler=StandardScaler()\n",
        "\n",
        "# 各説明変数を標準化\n",
        "x_std=scaler.fit_transform(x)\n",
        "\n",
        "# 線形重回帰分析クラスのインスタンス生成\n",
        "model6 = LinearRegression()\n",
        "\n",
        "# 重回帰分析実行\n",
        "model6.fit(x_std, y_true)\n",
        "\n",
        "w0=model6.intercept_ # model6がもつ切片の値をw0に代入\n",
        "print('切片:', w0)\n",
        "\n",
        "w=model6.coef_      # model6がもつ偏回帰係数の値をwに代入\n",
        "print('偏回帰係数')\n",
        "for i in range(len(col_names)):\n",
        "    name = col_names[i]\n",
        "    print(name + ':', w[i])\n",
        "\n",
        "# 偏回帰係数の大きさをグラフにする\n",
        "w_abs=np.abs(w) # NumPyの関数absを使い、偏回帰係数の絶対値を計算\n",
        "\n",
        "plt.figure(figsize=(10, 6))\n",
        "left=np.arange(len(w_abs)) # 横軸の数値\n",
        "# 横軸の数値、縦軸の値、横軸ラベルを指定して棒グラフを作成\n",
        "plt.bar(left,height=w_abs, tick_label=col_names)\n",
        "plt.ylabel('偏回帰係数の大きさ')\n",
        "plt.show()"
      ]
    }
  ],
  "metadata": {
    "kernelspec": {
      "display_name": "Python 3 (ipykernel)",
      "language": "python",
      "name": "python3"
    },
    "language_info": {
      "codemirror_mode": {
        "name": "ipython",
        "version": 3
      },
      "file_extension": ".py",
      "mimetype": "text/x-python",
      "name": "python",
      "nbconvert_exporter": "python",
      "pygments_lexer": "ipython3",
      "version": "3.7.11"
    },
    "latex_envs": {
      "LaTeX_envs_menu_present": true,
      "autoclose": false,
      "autocomplete": false,
      "bibliofile": "biblio.bib",
      "cite_by": "apalike",
      "current_citInitial": 1,
      "eqLabelWithNumbers": true,
      "eqNumInitial": 1,
      "hotkeys": {
        "equation": "Ctrl-E",
        "itemize": "Ctrl-I"
      },
      "labels_anchors": false,
      "latex_user_defs": false,
      "report_style_numbering": false,
      "user_envs_cfg": false
    },
    "toc": {
      "base_numbering": 1,
      "nav_menu": {},
      "number_sections": false,
      "sideBar": true,
      "skip_h1_title": false,
      "title_cell": "Table of Contents",
      "title_sidebar": "Contents",
      "toc_cell": false,
      "toc_position": {},
      "toc_section_display": true,
      "toc_window_display": true
    },
    "varInspector": {
      "cols": {
        "lenName": 16,
        "lenType": 16,
        "lenVar": 40
      },
      "kernels_config": {
        "python": {
          "delete_cmd_postfix": "",
          "delete_cmd_prefix": "del ",
          "library": "var_list.py",
          "varRefreshCmd": "print(var_dic_list())"
        },
        "r": {
          "delete_cmd_postfix": ") ",
          "delete_cmd_prefix": "rm(",
          "library": "var_list.r",
          "varRefreshCmd": "cat(var_dic_list()) "
        }
      },
      "types_to_exclude": [
        "module",
        "function",
        "builtin_function_or_method",
        "instance",
        "_Feature"
      ],
      "window_display": false
    },
    "colab": {
      "provenance": []
    }
  },
  "nbformat": 4,
  "nbformat_minor": 5
}