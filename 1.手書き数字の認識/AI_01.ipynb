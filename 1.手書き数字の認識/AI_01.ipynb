{
  "cells": [
    {
      "cell_type": "markdown",
      "metadata": {
        "id": "VGWsPW0MgQbQ"
      },
      "source": [
        "# 関数 save_fig：図の保存用"
      ]
    },
    {
      "cell_type": "code",
      "execution_count": null,
      "metadata": {
        "id": "3LEoJqrngQbT"
      },
      "outputs": [],
      "source": [
        "import os\n",
        "import numpy as np\n",
        "import matplotlib.pyplot as plt\n",
        "\n",
        "def save_fig(plt, file_prefix):\n",
        "    if file_prefix == '':\n",
        "        return\n",
        "    \n",
        "    parent = os.path.dirname(os.path.abspath(file_prefix))\n",
        "    os.makedirs(parent, exist_ok=True)\n",
        "    plt.savefig(f'{file_prefix}.pdf', transparent=True, bbox_inches='tight', pad_inches = 0)\n",
        "    plt.savefig(f'{file_prefix}.png', transparent=True, dpi=300, bbox_inches='tight', pad_inches = 0)"
      ]
    },
    {
      "cell_type": "markdown",
      "metadata": {
        "id": "mEKwejhIgQbU"
      },
      "source": [
        "# 実習1.1：文字列を表示する"
      ]
    },
    {
      "cell_type": "code",
      "execution_count": 16,
      "metadata": {
        "colab": {
          "base_uri": "https://localhost:8080/"
        },
        "id": "BtcU8YdNgQbV",
        "outputId": "ad65dce4-978e-4a0e-c70a-be895b726f50"
      },
      "outputs": [
        {
          "output_type": "stream",
          "name": "stdout",
          "text": [
            "ColabでPythonを実行します\n"
          ]
        }
      ],
      "source": [
        "print('ColabでPythonを実行します')"
      ]
    },
    {
      "cell_type": "markdown",
      "metadata": {
        "id": "3oNVsqOGgQbV"
      },
      "source": [
        "# 実習1.2：変数を使って演算する"
      ]
    },
    {
      "cell_type": "code",
      "execution_count": 17,
      "metadata": {
        "colab": {
          "base_uri": "https://localhost:8080/"
        },
        "id": "0Hpmyed6gQbW",
        "outputId": "b6b125b7-f15d-4b6b-8fdf-59fada0f5a5b"
      },
      "outputs": [
        {
          "output_type": "stream",
          "name": "stdout",
          "text": [
            "12\n",
            "12.0\n"
          ]
        }
      ],
      "source": [
        "a=10 #整数型の変数aを値10で初期化\n",
        "b=2  #整数型の変数bを値2で初期化\n",
        "print(a+b)\n",
        "\n",
        "c=10.0 #浮動小数点型の変数cを値10.0で初期化\n",
        "d=2    #整数型の変数dを値2で初期化\n",
        "print(c+d)"
      ]
    },
    {
      "cell_type": "markdown",
      "metadata": {
        "id": "EKJiTSxRlsfo"
      },
      "source": [
        "# 実習1.3：変数を使って演算する 2"
      ]
    },
    {
      "cell_type": "code",
      "execution_count": 18,
      "metadata": {
        "colab": {
          "base_uri": "https://localhost:8080/"
        },
        "id": "Vj9Y5q0ulhrP",
        "outputId": "1f40fcb7-45f4-4e48-a33a-5349fd16f007"
      },
      "outputs": [
        {
          "output_type": "stream",
          "name": "stdout",
          "text": [
            "a / b = 5.0\n",
            "a // b = 5\n"
          ]
        }
      ],
      "source": [
        "a=10 #整数型の変数aを値10で初期化\n",
        "b=2  #整数型の変数bを値2で初期化\n",
        "\n",
        "print('a / b =',a/b)\n",
        "print('a // b =',a//b)"
      ]
    },
    {
      "cell_type": "markdown",
      "metadata": {
        "id": "u2CLw4LVgQbW"
      },
      "source": [
        "# 実習1.4：文字列と数値を結合して表示する"
      ]
    },
    {
      "cell_type": "code",
      "execution_count": 28,
      "metadata": {
        "colab": {
          "base_uri": "https://localhost:8080/"
        },
        "id": "0Zd0MorYgQbX",
        "outputId": "5a3d27b6-3417-40f5-a731-b1cf8b6f79fe"
      },
      "outputs": [
        {
          "output_type": "stream",
          "name": "stdout",
          "text": [
            "10 + 2 = 12\n",
            "10 + 2 = 12\n"
          ]
        }
      ],
      "source": [
        "a=10 #整数型の変数aを値10で初期化\n",
        "b=2  #整数型の変数bを値2で初期化\n",
        "\n",
        "print(str(a) + ' + ' + str(b) + ' = ' + str(a + b))\n",
        "print(f'{a} + {b} = {a + b}')"
      ]
    },
    {
      "cell_type": "markdown",
      "metadata": {
        "id": "AziHr2aTgQbX"
      },
      "source": [
        "# 実習1.5：リストを使う"
      ]
    },
    {
      "cell_type": "code",
      "execution_count": 29,
      "metadata": {
        "colab": {
          "base_uri": "https://localhost:8080/"
        },
        "id": "n2QlzvySgQbY",
        "outputId": "d476a05d-8623-4555-ce43-4c4ad2bd1c23"
      },
      "outputs": [
        {
          "output_type": "stream",
          "name": "stdout",
          "text": [
            "要素数　= 3\n",
            "りんご\n",
            "みかん\n",
            "バナナ\n"
          ]
        }
      ],
      "source": [
        "#文字列を要素にもつリストを作成\n",
        "names=['りんご','みかん','バナナ']\n",
        "\n",
        "print('要素数　=',len(names))\n",
        "print(names[0])\n",
        "print(names[1])\n",
        "print(names[2])"
      ]
    },
    {
      "cell_type": "markdown",
      "metadata": {
        "id": "vWO9fKiRgQbY"
      },
      "source": [
        "# 実習1.6：リストからNumPy配列を作る"
      ]
    },
    {
      "cell_type": "code",
      "execution_count": 30,
      "metadata": {
        "colab": {
          "base_uri": "https://localhost:8080/"
        },
        "id": "j4F3EOIAUxER",
        "outputId": "409bf1b5-efed-484d-8ba6-8263c05f60e2"
      },
      "outputs": [
        {
          "output_type": "stream",
          "name": "stdout",
          "text": [
            "要素数　= 6\n",
            "[1 2 3 9 5 4]\n",
            "1\n",
            "4\n"
          ]
        }
      ],
      "source": [
        "import numpy as np #numpyモジュールを別名npで読み込む\n",
        "\n",
        "#整数を要素にもつリストを作成\n",
        "num=[1,2,3,9,5,4]\n",
        "\n",
        "#numpyのarray関数にリストを渡して配列を生成\n",
        "a=np.array(num)\n",
        "\n",
        "print('要素数　=',len(a))\n",
        "print(a) #配列全体を表示\n",
        "print(a[0]) #インデックス0の値を参照\n",
        "print(a[5]) #インデックス5の値を参照"
      ]
    },
    {
      "cell_type": "markdown",
      "metadata": {
        "id": "SmH2SuaDgQbZ"
      },
      "source": [
        "# 実習1.7：NumPy配列から最大値とそのインデックスを取得する"
      ]
    },
    {
      "cell_type": "code",
      "execution_count": 15,
      "metadata": {
        "colab": {
          "base_uri": "https://localhost:8080/"
        },
        "id": "kr0_6WbugQbZ",
        "outputId": "9331ca3e-3456-4fd9-b7ac-dd71294fd3b0"
      },
      "outputs": [
        {
          "output_type": "stream",
          "name": "stdout",
          "text": [
            "最大数は9です。\n",
            "インデックスは3です。\n"
          ]
        }
      ],
      "source": [
        "num=[1,2,3,9,5,4]\n",
        "\n",
        "a=np.array(num)\n",
        "\n",
        "max_value=a.max() #最大値を取得\n",
        "max_index=a.argmax() #最大値のあるインデックスを取得\n",
        "\n",
        "print(f'最大数は{max_value}です。')\n",
        "print(f'インデックスは{max_index}です。')"
      ]
    },
    {
      "cell_type": "markdown",
      "metadata": {
        "id": "eybVNmjwgQba"
      },
      "source": [
        "# 実習1.8：学習済みのニューラルネットワークをファイルから読み込む"
      ]
    },
    {
      "cell_type": "code",
      "execution_count": 19,
      "metadata": {
        "colab": {
          "base_uri": "https://localhost:8080/"
        },
        "id": "VnPXlhJzO6MH",
        "outputId": "9a886709-6e60-4d3a-81cb-a9d4e778fb7d"
      },
      "outputs": [
        {
          "output_type": "stream",
          "name": "stdout",
          "text": [
            "Model: \"sequential\"\n",
            "_________________________________________________________________\n",
            " Layer (type)                Output Shape              Param #   \n",
            "=================================================================\n",
            " conv2d (Conv2D)             (None, 26, 26, 16)        160       \n",
            "                                                                 \n",
            " conv2d_1 (Conv2D)           (None, 24, 24, 32)        4640      \n",
            "                                                                 \n",
            " max_pooling2d (MaxPooling2D  (None, 12, 12, 32)       0         \n",
            " )                                                               \n",
            "                                                                 \n",
            " conv2d_2 (Conv2D)           (None, 10, 10, 64)        18496     \n",
            "                                                                 \n",
            " max_pooling2d_1 (MaxPooling  (None, 5, 5, 64)         0         \n",
            " 2D)                                                             \n",
            "                                                                 \n",
            " flatten (Flatten)           (None, 1600)              0         \n",
            "                                                                 \n",
            " dense (Dense)               (None, 128)               204928    \n",
            "                                                                 \n",
            " dense_1 (Dense)             (None, 10)                1290      \n",
            "                                                                 \n",
            "=================================================================\n",
            "Total params: 229,514\n",
            "Trainable params: 229,514\n",
            "Non-trainable params: 0\n",
            "_________________________________________________________________\n"
          ]
        }
      ],
      "source": [
        "#JSON形式からニューラルネットワークのモデルを生成するための関数をロード\n",
        "from tensorflow.keras.models import model_from_json\n",
        "\n",
        "#ニューラルネットワークの構造が書かれたファイルを開く\n",
        "#open(ファイルパス，モード)。'r'は読み取り専用でファイルを開く指示\n",
        "file=open('model.json','r')\n",
        "\n",
        "#ファイルを読み込む。ファイルはJSON形式\n",
        "#ファイルの内容からニューラルネットワークのモデルを生成\n",
        "model=model_from_json(file.read())\n",
        "\n",
        "#モデルのパラメータを読み込む\n",
        "model.load_weights('model.h5')\n",
        "\n",
        "#モデルを構造を表示する\n",
        "model.summary()"
      ]
    },
    {
      "cell_type": "markdown",
      "metadata": {
        "id": "9fnVM2KxplyP"
      },
      "source": [
        "# 実習1.9：数字を手書きする"
      ]
    },
    {
      "cell_type": "code",
      "execution_count": 24,
      "metadata": {
        "colab": {
          "base_uri": "https://localhost:8080/",
          "height": 282
        },
        "id": "eg0IB9JupqI4",
        "outputId": "1af41c39-36a7-4635-fe72-8370f373d4c9"
      },
      "outputs": [
        {
          "output_type": "display_data",
          "data": {
            "text/plain": [
              "<IPython.core.display.HTML object>"
            ],
            "text/html": [
              "\n",
              "<canvas width=256 height=256></canvas>\n",
              "<button>終了</button>\n",
              "<script>\n",
              "var canvas = document.querySelector('canvas')\n",
              "var ctx = canvas.getContext('2d')\n",
              "\n",
              "// 背景を黒で塗りつぶす\n",
              "ctx.filleStyle = '#000000';\n",
              "ctx.fillRect(0, 0, canvas.width, canvas.height)\n",
              "\n",
              "// 描画する線の幅と色\n",
              "ctx.lineWidth = 16\n",
              "ctx.strokeStyle = '#ffffff';\n",
              "\n",
              "var button = document.querySelector('button')\n",
              "var mouse = {x: 0, y: 0}\n",
              "canvas.addEventListener('mousemove', function(e) {\n",
              "  mouse.x = e.pageX - this.offsetLeft\n",
              "  mouse.y = e.pageY - this.offsetTop\n",
              "})\n",
              "canvas.onmousedown = ()=>{\n",
              "  ctx.beginPath()\n",
              "  ctx.moveTo(mouse.x, mouse.y)\n",
              "  canvas.addEventListener('mousemove', onPaint)\n",
              "}\n",
              "canvas.onmouseup = ()=>{\n",
              "  canvas.removeEventListener('mousemove', onPaint)\n",
              "}\n",
              "var onPaint = ()=>{\n",
              "  ctx.lineTo(mouse.x, mouse.y)\n",
              "  ctx.stroke()\n",
              "}\n",
              "var data = new Promise(resolve=>{\n",
              "  button.onclick = ()=>{\n",
              "    resolve(canvas.toDataURL('image/png'))\n",
              "  }\n",
              "})\n",
              "</script>\n"
            ]
          },
          "metadata": {}
        }
      ],
      "source": [
        "from IPython.display import HTML, Image\n",
        "from google.colab.output import eval_js\n",
        "from base64 import b64decode\n",
        "\n",
        "canvas_html = \"\"\"\n",
        "<canvas width=%d height=%d></canvas>\n",
        "<button>終了</button>\n",
        "<script>\n",
        "var canvas = document.querySelector('canvas')\n",
        "var ctx = canvas.getContext('2d')\n",
        "\n",
        "// 背景を黒で塗りつぶす\n",
        "ctx.filleStyle = '#000000';\n",
        "ctx.fillRect(0, 0, canvas.width, canvas.height)\n",
        "\n",
        "// 描画する線の幅と色\n",
        "ctx.lineWidth = %d\n",
        "ctx.strokeStyle = '#ffffff';\n",
        "\n",
        "var button = document.querySelector('button')\n",
        "var mouse = {x: 0, y: 0}\n",
        "canvas.addEventListener('mousemove', function(e) {\n",
        "  mouse.x = e.pageX - this.offsetLeft\n",
        "  mouse.y = e.pageY - this.offsetTop\n",
        "})\n",
        "canvas.onmousedown = ()=>{\n",
        "  ctx.beginPath()\n",
        "  ctx.moveTo(mouse.x, mouse.y)\n",
        "  canvas.addEventListener('mousemove', onPaint)\n",
        "}\n",
        "canvas.onmouseup = ()=>{\n",
        "  canvas.removeEventListener('mousemove', onPaint)\n",
        "}\n",
        "var onPaint = ()=>{\n",
        "  ctx.lineTo(mouse.x, mouse.y)\n",
        "  ctx.stroke()\n",
        "}\n",
        "var data = new Promise(resolve=>{\n",
        "  button.onclick = ()=>{\n",
        "    resolve(canvas.toDataURL('image/png'))\n",
        "  }\n",
        "})\n",
        "</script>\n",
        "\"\"\"\n",
        "\n",
        "def draw(filename='drawing.png', w=256, h=256, line_width=16):\n",
        "    display(HTML(canvas_html % (w, h, line_width)))\n",
        "    data = eval_js(\"data\")\n",
        "    binary = b64decode(data.split(',')[1])\n",
        "    with open(filename, 'wb') as f:\n",
        "        f.write(binary)\n",
        "    \n",
        "draw()"
      ]
    },
    {
      "cell_type": "markdown",
      "metadata": {
        "id": "l4DBD8TwgQba"
      },
      "source": [
        "# 実習1.10：手書き数字の画像を扱う"
      ]
    },
    {
      "cell_type": "code",
      "execution_count": 25,
      "metadata": {
        "colab": {
          "base_uri": "https://localhost:8080/",
          "height": 520
        },
        "id": "WCZEljdnQIqv",
        "outputId": "7dadb0a7-1723-4690-a37a-bbdb77269793"
      },
      "outputs": [
        {
          "output_type": "stream",
          "name": "stdout",
          "text": [
            "画像の高さ　= 256\n",
            "画像の幅　= 256\n",
            "画像をリサイズ\n",
            "画像の高さ　= 28\n",
            "画像の幅　= 28\n"
          ]
        },
        {
          "output_type": "display_data",
          "data": {
            "text/plain": [
              "<Figure size 640x480 with 1 Axes>"
            ],
            "image/png": "[encoded data removed]"
          },
          "metadata": {}
        }
      ],
      "source": [
        "import numpy as np\n",
        "#PILモジュールから画像を扱うためのクラスImageをロード\n",
        "from PIL import Image\n",
        "\n",
        "#画像を表示するモジュールmatplot.pyplotを別名pltとしてロード\n",
        "import matplotlib.pyplot as plt\n",
        "\n",
        "image=Image.open('drawing.png') #画像を読み込む\n",
        "image=image.convert('L') #グレースケール画像に変換\n",
        "print('画像の高さ　=',image.height)\n",
        "print('画像の幅　=',image.width)\n",
        "\n",
        "print('画像をリサイズ')\n",
        "#image.resize(幅，高さ):画像を引数で渡した幅と高さにリサイズする\n",
        "image=image.resize((28,28))\n",
        "print('画像の高さ　=',image.height)\n",
        "print('画像の幅　=',image.width)\n",
        "\n",
        "#画像を表示する\n",
        "plt.imshow(image,cmap='gray')\n",
        "plt.show()"
      ]
    },
    {
      "cell_type": "markdown",
      "metadata": {
        "id": "ifxu9VgpgQbb"
      },
      "source": [
        "# 実習1.11：画像からNumPy配列を生成する"
      ]
    },
    {
      "cell_type": "code",
      "execution_count": 26,
      "metadata": {
        "colab": {
          "base_uri": "https://localhost:8080/"
        },
        "id": "XH1hu7M1RFr2",
        "outputId": "0572dcd5-30cb-4863-ec4f-31548c189ffb"
      },
      "outputs": [
        {
          "output_type": "stream",
          "name": "stdout",
          "text": [
            "配列の形状　= (28, 28)\n",
            "画像の高さ　= 28\n",
            "画像の幅　= 28\n"
          ]
        }
      ],
      "source": [
        "#画像をNumpyのarray関数に渡して配列を生成\n",
        "image_array=np.array(image)\n",
        "\n",
        "#配列のインスタンスimage_arrayの属性shapeを参照して、配列の形状を取得\n",
        "print('配列の形状　=',image_array.shape)\n",
        "h=image_array.shape[0]\n",
        "w=image_array.shape[1]\n",
        "print('画像の高さ　=',h)\n",
        "print('画像の幅　=',w)"
      ]
    },
    {
      "cell_type": "markdown",
      "metadata": {
        "id": "rIbW2TX5gQbb"
      },
      "source": [
        "# 実習1.12：学習済みモデルで書かれた数字を推論する"
      ]
    },
    {
      "cell_type": "code",
      "execution_count": 27,
      "metadata": {
        "id": "I-nIV2vzUV-L",
        "colab": {
          "base_uri": "https://localhost:8080/"
        },
        "outputId": "a8f64db4-3874-4902-8538-b187cb1180ac"
      },
      "outputs": [
        {
          "output_type": "stream",
          "name": "stdout",
          "text": [
            "配列の形状= (1, 28, 28, 1)\n",
            "1/1 [==============================] - 0s 34ms/step\n",
            "予測確率 [0. 0. 0. 0. 0. 0. 0. 0. 1. 0.]\n",
            "あなたの描いた数字は 8 です\n"
          ]
        }
      ],
      "source": [
        "#ニューラルネットワークへの入力用に配列の形状を変更する。\n",
        "#画像を4次元配列（4階のテンソル）にするのは、TensorFlowの掟。\n",
        "image_array=image_array.reshape((1,h,w,1))\n",
        "print('配列の形状=',image_array.shape)\n",
        "\n",
        "#ネットワークモデルに画像から生成した配列を入力し、書かれた数字を推論。\n",
        "#0から9の10種類の数字それぞれについての確率が2次元配列として返される。\n",
        "pred=model.predict(image_array)\n",
        "\n",
        "print('予測確率',pred[0])\n",
        "\n",
        "print('あなたの描いた数字は',pred[0].argmax(),'です')"
      ]
    }
  ],
  "metadata": {
    "colab": {
      "provenance": []
    },
    "kernelspec": {
      "display_name": "Python 3 (ipykernel)",
      "language": "python",
      "name": "python3"
    },
    "language_info": {
      "codemirror_mode": {
        "name": "ipython",
        "version": 3
      },
      "file_extension": ".py",
      "mimetype": "text/x-python",
      "name": "python",
      "nbconvert_exporter": "python",
      "pygments_lexer": "ipython3",
      "version": "3.7.11"
    },
    "latex_envs": {
      "LaTeX_envs_menu_present": true,
      "autoclose": false,
      "autocomplete": true,
      "bibliofile": "biblio.bib",
      "cite_by": "apalike",
      "current_citInitial": 1,
      "eqLabelWithNumbers": true,
      "eqNumInitial": 1,
      "hotkeys": {
        "equation": "Ctrl-E",
        "itemize": "Ctrl-I"
      },
      "labels_anchors": false,
      "latex_user_defs": false,
      "report_style_numbering": false,
      "user_envs_cfg": false
    },
    "toc": {
      "base_numbering": 1,
      "nav_menu": {},
      "number_sections": false,
      "sideBar": true,
      "skip_h1_title": false,
      "title_cell": "Table of Contents",
      "title_sidebar": "Contents",
      "toc_cell": false,
      "toc_position": {},
      "toc_section_display": true,
      "toc_window_display": true
    },
    "varInspector": {
      "cols": {
        "lenName": 16,
        "lenType": 16,
        "lenVar": 40
      },
      "kernels_config": {
        "python": {
          "delete_cmd_postfix": "",
          "delete_cmd_prefix": "del ",
          "library": "var_list.py",
          "varRefreshCmd": "print(var_dic_list())"
        },
        "r": {
          "delete_cmd_postfix": ") ",
          "delete_cmd_prefix": "rm(",
          "library": "var_list.r",
          "varRefreshCmd": "cat(var_dic_list()) "
        }
      },
      "types_to_exclude": [
        "module",
        "function",
        "builtin_function_or_method",
        "instance",
        "_Feature"
      ],
      "window_display": false
    }
  },
  "nbformat": 4,
  "nbformat_minor": 0
}