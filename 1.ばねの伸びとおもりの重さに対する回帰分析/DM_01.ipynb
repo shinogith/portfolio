{
  "cells": [
    {
      "cell_type": "markdown",
      "metadata": {
        "id": "uKptEvjfcb5x"
      },
      "source": [
        "# グラフの文字で英語以外を使えるようにする"
      ]
    },
    {
      "cell_type": "code",
      "execution_count": null,
      "metadata": {
        "id": "GOFFIKEabfDg",
        "colab": {
          "base_uri": "https://localhost:8080/"
        },
        "outputId": "d74157b8-0844-44b2-845f-d0de5537ad05"
      },
      "outputs": [
        {
          "output_type": "stream",
          "name": "stdout",
          "text": [
            "Collecting japanize-matplotlib\n",
            "  Downloading japanize-matplotlib-1.1.3.tar.gz (4.1 MB)\n",
            "\u001b[2K     \u001b[90m━━━━━━━━━━━━━━━━━━━━━━━━━━━━━━━━━━━━━━━━\u001b[0m \u001b[32m4.1/4.1 MB\u001b[0m \u001b[31m19.7 MB/s\u001b[0m eta \u001b[36m0:00:00\u001b[0m\n",
            "\u001b[?25h  Preparing metadata (setup.py) ... \u001b[?25l\u001b[?25hdone\n",
            "Requirement already satisfied: matplotlib in /usr/local/lib/python3.10/dist-packages (from japanize-matplotlib) (3.7.1)\n",
            "Requirement already satisfied: contourpy>=1.0.1 in /usr/local/lib/python3.10/dist-packages (from matplotlib->japanize-matplotlib) (1.1.0)\n",
            "Requirement already satisfied: cycler>=0.10 in /usr/local/lib/python3.10/dist-packages (from matplotlib->japanize-matplotlib) (0.11.0)\n",
            "Requirement already satisfied: fonttools>=4.22.0 in /usr/local/lib/python3.10/dist-packages (from matplotlib->japanize-matplotlib) (4.42.1)\n",
            "Requirement already satisfied: kiwisolver>=1.0.1 in /usr/local/lib/python3.10/dist-packages (from matplotlib->japanize-matplotlib) (1.4.5)\n",
            "Requirement already satisfied: numpy>=1.20 in /usr/local/lib/python3.10/dist-packages (from matplotlib->japanize-matplotlib) (1.23.5)\n",
            "Requirement already satisfied: packaging>=20.0 in /usr/local/lib/python3.10/dist-packages (from matplotlib->japanize-matplotlib) (23.1)\n",
            "Requirement already satisfied: pillow>=6.2.0 in /usr/local/lib/python3.10/dist-packages (from matplotlib->japanize-matplotlib) (9.4.0)\n",
            "Requirement already satisfied: pyparsing>=2.3.1 in /usr/local/lib/python3.10/dist-packages (from matplotlib->japanize-matplotlib) (3.1.1)\n",
            "Requirement already satisfied: python-dateutil>=2.7 in /usr/local/lib/python3.10/dist-packages (from matplotlib->japanize-matplotlib) (2.8.2)\n",
            "Requirement already satisfied: six>=1.5 in /usr/local/lib/python3.10/dist-packages (from python-dateutil>=2.7->matplotlib->japanize-matplotlib) (1.16.0)\n",
            "Building wheels for collected packages: japanize-matplotlib\n",
            "  Building wheel for japanize-matplotlib (setup.py) ... \u001b[?25l\u001b[?25hdone\n",
            "  Created wheel for japanize-matplotlib: filename=japanize_matplotlib-1.1.3-py3-none-any.whl size=4120257 sha256=05fbb07f7e6205899d39fef9fe75cc747b04f8048e41a459b5bf06b189686c57\n",
            "  Stored in directory: /root/.cache/pip/wheels/61/7a/6b/df1f79be9c59862525070e157e62b08eab8ece27c1b68fbb94\n",
            "Successfully built japanize-matplotlib\n",
            "Installing collected packages: japanize-matplotlib\n",
            "Successfully installed japanize-matplotlib-1.1.3\n"
          ]
        }
      ],
      "source": [
        "!pip install japanize-matplotlib"
      ]
    },
    {
      "cell_type": "markdown",
      "metadata": {
        "id": "Xdfz5gIq9uLj"
      },
      "source": [
        "# 関数 save_fig：図保存用"
      ]
    },
    {
      "cell_type": "code",
      "execution_count": null,
      "metadata": {
        "id": "EvHkUx4Q9upY"
      },
      "outputs": [],
      "source": [
        "import os\n",
        "import numpy as np\n",
        "import matplotlib.pyplot as plt\n",
        "%matplotlib inline\n",
        "\n",
        "def save_fig(plt, file_prefix):\n",
        "    if file_prefix == '':\n",
        "        return\n",
        "\n",
        "    parent = os.path.dirname(os.path.abspath(file_prefix))\n",
        "    os.makedirs(parent, exist_ok=True)\n",
        "    plt.savefig(f'{file_prefix}.pdf', transparent=True, bbox_inches='tight', pad_inches = 0)\n",
        "    plt.savefig(f'{file_prefix}.png', transparent=True, dpi=300, bbox_inches='tight', pad_inches = 0)"
      ]
    },
    {
      "cell_type": "markdown",
      "metadata": {
        "id": "tan6DikdOuKX"
      },
      "source": [
        "# 実習1.1：回帰分析の対象とするデータをpandasで読み込む"
      ]
    },
    {
      "cell_type": "code",
      "execution_count": null,
      "metadata": {
        "id": "-79zhDknBpWA",
        "colab": {
          "base_uri": "https://localhost:8080/",
          "height": 488
        },
        "outputId": "143f1d84-6845-4cc3-852f-006da55a7bc3"
      },
      "outputs": [
        {
          "output_type": "execute_result",
          "data": {
            "text/plain": [
              "    ばねの伸び  おもりの重さ\n",
              "0     3.0    61.4\n",
              "1     5.0    51.5\n",
              "2     7.0    80.5\n",
              "3     9.0   123.1\n",
              "4    11.0   133.1\n",
              "5    13.0    93.6\n",
              "6    15.0   149.5\n",
              "7    17.0   144.9\n",
              "8    19.0   163.2\n",
              "9    21.0   190.9\n",
              "10   23.0   203.0\n",
              "11   25.0   246.6\n",
              "12   27.0   250.1\n",
              "13   29.0   254.7"
            ],
            "text/html": [
              "\n",
              "  <div id=\"df-d06c7e91-6b6d-496f-a46e-abeb6e4e1b9e\" class=\"colab-df-container\">\n",
              "    <div>\n",
              "<style scoped>\n",
              "    .dataframe tbody tr th:only-of-type {\n",
              "        vertical-align: middle;\n",
              "    }\n",
              "\n",
              "    .dataframe tbody tr th {\n",
              "        vertical-align: top;\n",
              "    }\n",
              "\n",
              "    .dataframe thead th {\n",
              "        text-align: right;\n",
              "    }\n",
              "</style>\n",
              "<table border=\"1\" class=\"dataframe\">\n",
              "  <thead>\n",
              "    <tr style=\"text-align: right;\">\n",
              "      <th></th>\n",
              "      <th>ばねの伸び</th>\n",
              "      <th>おもりの重さ</th>\n",
              "    </tr>\n",
              "  </thead>\n",
              "  <tbody>\n",
              "    <tr>\n",
              "      <th>0</th>\n",
              "      <td>3.0</td>\n",
              "      <td>61.4</td>\n",
              "    </tr>\n",
              "    <tr>\n",
              "      <th>1</th>\n",
              "      <td>5.0</td>\n",
              "      <td>51.5</td>\n",
              "    </tr>\n",
              "    <tr>\n",
              "      <th>2</th>\n",
              "      <td>7.0</td>\n",
              "      <td>80.5</td>\n",
              "    </tr>\n",
              "    <tr>\n",
              "      <th>3</th>\n",
              "      <td>9.0</td>\n",
              "      <td>123.1</td>\n",
              "    </tr>\n",
              "    <tr>\n",
              "      <th>4</th>\n",
              "      <td>11.0</td>\n",
              "      <td>133.1</td>\n",
              "    </tr>\n",
              "    <tr>\n",
              "      <th>5</th>\n",
              "      <td>13.0</td>\n",
              "      <td>93.6</td>\n",
              "    </tr>\n",
              "    <tr>\n",
              "      <th>6</th>\n",
              "      <td>15.0</td>\n",
              "      <td>149.5</td>\n",
              "    </tr>\n",
              "    <tr>\n",
              "      <th>7</th>\n",
              "      <td>17.0</td>\n",
              "      <td>144.9</td>\n",
              "    </tr>\n",
              "    <tr>\n",
              "      <th>8</th>\n",
              "      <td>19.0</td>\n",
              "      <td>163.2</td>\n",
              "    </tr>\n",
              "    <tr>\n",
              "      <th>9</th>\n",
              "      <td>21.0</td>\n",
              "      <td>190.9</td>\n",
              "    </tr>\n",
              "    <tr>\n",
              "      <th>10</th>\n",
              "      <td>23.0</td>\n",
              "      <td>203.0</td>\n",
              "    </tr>\n",
              "    <tr>\n",
              "      <th>11</th>\n",
              "      <td>25.0</td>\n",
              "      <td>246.6</td>\n",
              "    </tr>\n",
              "    <tr>\n",
              "      <th>12</th>\n",
              "      <td>27.0</td>\n",
              "      <td>250.1</td>\n",
              "    </tr>\n",
              "    <tr>\n",
              "      <th>13</th>\n",
              "      <td>29.0</td>\n",
              "      <td>254.7</td>\n",
              "    </tr>\n",
              "  </tbody>\n",
              "</table>\n",
              "</div>\n",
              "    <div class=\"colab-df-buttons\">\n",
              "\n",
              "  <div class=\"colab-df-container\">\n",
              "    <button class=\"colab-df-convert\" onclick=\"convertToInteractive('df-d06c7e91-6b6d-496f-a46e-abeb6e4e1b9e')\"\n",
              "            title=\"Convert this dataframe to an interactive table.\"\n",
              "            style=\"display:none;\">\n",
              "\n",
              "  <svg xmlns=\"http://www.w3.org/2000/svg\" height=\"24px\" viewBox=\"0 -960 960 960\">\n",
              "    <path d=\"M120-120v-720h720v720H120Zm60-500h600v-160H180v160Zm220 220h160v-160H400v160Zm0 220h160v-160H400v160ZM180-400h160v-160H180v160Zm440 0h160v-160H620v160ZM180-180h160v-160H180v160Zm440 0h160v-160H620v160Z\"/>\n",
              "  </svg>\n",
              "    </button>\n",
              "\n",
              "  <style>\n",
              "    .colab-df-container {\n",
              "      display:flex;\n",
              "      gap: 12px;\n",
              "    }\n",
              "\n",
              "    .colab-df-convert {\n",
              "      background-color: #E8F0FE;\n",
              "      border: none;\n",
              "      border-radius: 50%;\n",
              "      cursor: pointer;\n",
              "      display: none;\n",
              "      fill: #1967D2;\n",
              "      height: 32px;\n",
              "      padding: 0 0 0 0;\n",
              "      width: 32px;\n",
              "    }\n",
              "\n",
              "    .colab-df-convert:hover {\n",
              "      background-color: #E2EBFA;\n",
              "      box-shadow: 0px 1px 2px rgba(60, 64, 67, 0.3), 0px 1px 3px 1px rgba(60, 64, 67, 0.15);\n",
              "      fill: #174EA6;\n",
              "    }\n",
              "\n",
              "    .colab-df-buttons div {\n",
              "      margin-bottom: 4px;\n",
              "    }\n",
              "\n",
              "    [theme=dark] .colab-df-convert {\n",
              "      background-color: #3B4455;\n",
              "      fill: #D2E3FC;\n",
              "    }\n",
              "\n",
              "    [theme=dark] .colab-df-convert:hover {\n",
              "      background-color: #434B5C;\n",
              "      box-shadow: 0px 1px 3px 1px rgba(0, 0, 0, 0.15);\n",
              "      filter: drop-shadow(0px 1px 2px rgba(0, 0, 0, 0.3));\n",
              "      fill: #FFFFFF;\n",
              "    }\n",
              "  </style>\n",
              "\n",
              "    <script>\n",
              "      const buttonEl =\n",
              "        document.querySelector('#df-d06c7e91-6b6d-496f-a46e-abeb6e4e1b9e button.colab-df-convert');\n",
              "      buttonEl.style.display =\n",
              "        google.colab.kernel.accessAllowed ? 'block' : 'none';\n",
              "\n",
              "      async function convertToInteractive(key) {\n",
              "        const element = document.querySelector('#df-d06c7e91-6b6d-496f-a46e-abeb6e4e1b9e');\n",
              "        const dataTable =\n",
              "          await google.colab.kernel.invokeFunction('convertToInteractive',\n",
              "                                                    [key], {});\n",
              "        if (!dataTable) return;\n",
              "\n",
              "        const docLinkHtml = 'Like what you see? Visit the ' +\n",
              "          '<a target=\"_blank\" href=https://colab.research.google.com/notebooks/data_table.ipynb>data table notebook</a>'\n",
              "          + ' to learn more about interactive tables.';\n",
              "        element.innerHTML = '';\n",
              "        dataTable['output_type'] = 'display_data';\n",
              "        await google.colab.output.renderOutput(dataTable, element);\n",
              "        const docLink = document.createElement('div');\n",
              "        docLink.innerHTML = docLinkHtml;\n",
              "        element.appendChild(docLink);\n",
              "      }\n",
              "    </script>\n",
              "  </div>\n",
              "\n",
              "\n",
              "<div id=\"df-a15b17d9-941c-47be-a419-23cf6fb1fb57\">\n",
              "  <button class=\"colab-df-quickchart\" onclick=\"quickchart('df-a15b17d9-941c-47be-a419-23cf6fb1fb57')\"\n",
              "            title=\"Suggest charts.\"\n",
              "            style=\"display:none;\">\n",
              "\n",
              "<svg xmlns=\"http://www.w3.org/2000/svg\" height=\"24px\"viewBox=\"0 0 24 24\"\n",
              "     width=\"24px\">\n",
              "    <g>\n",
              "        <path d=\"M19 3H5c-1.1 0-2 .9-2 2v14c0 1.1.9 2 2 2h14c1.1 0 2-.9 2-2V5c0-1.1-.9-2-2-2zM9 17H7v-7h2v7zm4 0h-2V7h2v10zm4 0h-2v-4h2v4z\"/>\n",
              "    </g>\n",
              "</svg>\n",
              "  </button>\n",
              "\n",
              "<style>\n",
              "  .colab-df-quickchart {\n",
              "      --bg-color: #E8F0FE;\n",
              "      --fill-color: #1967D2;\n",
              "      --hover-bg-color: #E2EBFA;\n",
              "      --hover-fill-color: #174EA6;\n",
              "      --disabled-fill-color: #AAA;\n",
              "      --disabled-bg-color: #DDD;\n",
              "  }\n",
              "\n",
              "  [theme=dark] .colab-df-quickchart {\n",
              "      --bg-color: #3B4455;\n",
              "      --fill-color: #D2E3FC;\n",
              "      --hover-bg-color: #434B5C;\n",
              "      --hover-fill-color: #FFFFFF;\n",
              "      --disabled-bg-color: #3B4455;\n",
              "      --disabled-fill-color: #666;\n",
              "  }\n",
              "\n",
              "  .colab-df-quickchart {\n",
              "    background-color: var(--bg-color);\n",
              "    border: none;\n",
              "    border-radius: 50%;\n",
              "    cursor: pointer;\n",
              "    display: none;\n",
              "    fill: var(--fill-color);\n",
              "    height: 32px;\n",
              "    padding: 0;\n",
              "    width: 32px;\n",
              "  }\n",
              "\n",
              "  .colab-df-quickchart:hover {\n",
              "    background-color: var(--hover-bg-color);\n",
              "    box-shadow: 0 1px 2px rgba(60, 64, 67, 0.3), 0 1px 3px 1px rgba(60, 64, 67, 0.15);\n",
              "    fill: var(--button-hover-fill-color);\n",
              "  }\n",
              "\n",
              "  .colab-df-quickchart-complete:disabled,\n",
              "  .colab-df-quickchart-complete:disabled:hover {\n",
              "    background-color: var(--disabled-bg-color);\n",
              "    fill: var(--disabled-fill-color);\n",
              "    box-shadow: none;\n",
              "  }\n",
              "\n",
              "  .colab-df-spinner {\n",
              "    border: 2px solid var(--fill-color);\n",
              "    border-color: transparent;\n",
              "    border-bottom-color: var(--fill-color);\n",
              "    animation:\n",
              "      spin 1s steps(1) infinite;\n",
              "  }\n",
              "\n",
              "  @keyframes spin {\n",
              "    0% {\n",
              "      border-color: transparent;\n",
              "      border-bottom-color: var(--fill-color);\n",
              "      border-left-color: var(--fill-color);\n",
              "    }\n",
              "    20% {\n",
              "      border-color: transparent;\n",
              "      border-left-color: var(--fill-color);\n",
              "      border-top-color: var(--fill-color);\n",
              "    }\n",
              "    30% {\n",
              "      border-color: transparent;\n",
              "      border-left-color: var(--fill-color);\n",
              "      border-top-color: var(--fill-color);\n",
              "      border-right-color: var(--fill-color);\n",
              "    }\n",
              "    40% {\n",
              "      border-color: transparent;\n",
              "      border-right-color: var(--fill-color);\n",
              "      border-top-color: var(--fill-color);\n",
              "    }\n",
              "    60% {\n",
              "      border-color: transparent;\n",
              "      border-right-color: var(--fill-color);\n",
              "    }\n",
              "    80% {\n",
              "      border-color: transparent;\n",
              "      border-right-color: var(--fill-color);\n",
              "      border-bottom-color: var(--fill-color);\n",
              "    }\n",
              "    90% {\n",
              "      border-color: transparent;\n",
              "      border-bottom-color: var(--fill-color);\n",
              "    }\n",
              "  }\n",
              "</style>\n",
              "\n",
              "  <script>\n",
              "    async function quickchart(key) {\n",
              "      const quickchartButtonEl =\n",
              "        document.querySelector('#' + key + ' button');\n",
              "      quickchartButtonEl.disabled = true;  // To prevent multiple clicks.\n",
              "      quickchartButtonEl.classList.add('colab-df-spinner');\n",
              "      try {\n",
              "        const charts = await google.colab.kernel.invokeFunction(\n",
              "            'suggestCharts', [key], {});\n",
              "      } catch (error) {\n",
              "        console.error('Error during call to suggestCharts:', error);\n",
              "      }\n",
              "      quickchartButtonEl.classList.remove('colab-df-spinner');\n",
              "      quickchartButtonEl.classList.add('colab-df-quickchart-complete');\n",
              "    }\n",
              "    (() => {\n",
              "      let quickchartButtonEl =\n",
              "        document.querySelector('#df-a15b17d9-941c-47be-a419-23cf6fb1fb57 button');\n",
              "      quickchartButtonEl.style.display =\n",
              "        google.colab.kernel.accessAllowed ? 'block' : 'none';\n",
              "    })();\n",
              "  </script>\n",
              "</div>\n",
              "    </div>\n",
              "  </div>\n"
            ]
          },
          "metadata": {},
          "execution_count": 1
        }
      ],
      "source": [
        "import pandas as pd\n",
        "\n",
        "# CSV形式のデータをデータフレームに読み込む\n",
        "df=pd.read_csv('dm1.csv',        # ファイルパス\n",
        "               encoding='utf-8') # エンコーディングにUTF-8を指定\n",
        "\n",
        "# データフレームの中身を表示\n",
        "df"
      ]
    },
    {
      "cell_type": "markdown",
      "metadata": {
        "id": "P3uwlNtX5QnF"
      },
      "source": [
        "# 実習1.2：ばねの伸びの値を表示する"
      ]
    },
    {
      "cell_type": "code",
      "execution_count": null,
      "metadata": {
        "id": "PJSMkbfTb2Vz",
        "colab": {
          "base_uri": "https://localhost:8080/"
        },
        "outputId": "ddefc7d5-8afb-4700-ee2e-0b9f03bf344e"
      },
      "outputs": [
        {
          "output_type": "execute_result",
          "data": {
            "text/plain": [
              "0      3.0\n",
              "1      5.0\n",
              "2      7.0\n",
              "3      9.0\n",
              "4     11.0\n",
              "5     13.0\n",
              "6     15.0\n",
              "7     17.0\n",
              "8     19.0\n",
              "9     21.0\n",
              "10    23.0\n",
              "11    25.0\n",
              "12    27.0\n",
              "13    29.0\n",
              "Name: ばねの伸び, dtype: float64"
            ]
          },
          "metadata": {},
          "execution_count": 2
        }
      ],
      "source": [
        "# データフレームから列「ばねの伸び」を指定して、データを取り出す\n",
        "df['ばねの伸び']"
      ]
    },
    {
      "cell_type": "markdown",
      "metadata": {
        "id": "V0SEYZ8I6pvh"
      },
      "source": [
        "# 実習1.3：おもりの重さの値を表示する"
      ]
    },
    {
      "cell_type": "code",
      "execution_count": null,
      "metadata": {
        "id": "XZdw3z-u6tDC",
        "colab": {
          "base_uri": "https://localhost:8080/"
        },
        "outputId": "d4de70d4-5143-40c3-d476-3f31a175eefd"
      },
      "outputs": [
        {
          "output_type": "execute_result",
          "data": {
            "text/plain": [
              "0      61.4\n",
              "1      51.5\n",
              "2      80.5\n",
              "3     123.1\n",
              "4     133.1\n",
              "5      93.6\n",
              "6     149.5\n",
              "7     144.9\n",
              "8     163.2\n",
              "9     190.9\n",
              "10    203.0\n",
              "11    246.6\n",
              "12    250.1\n",
              "13    254.7\n",
              "Name: おもりの重さ, dtype: float64"
            ]
          },
          "metadata": {},
          "execution_count": 3
        }
      ],
      "source": [
        "# データフレームから列「おもりの重さ」を指定して、データを取り出す\n",
        "df['おもりの重さ']"
      ]
    },
    {
      "cell_type": "markdown",
      "metadata": {
        "id": "xZVQ8Pm8cXSd"
      },
      "source": [
        "# 実習1.4：Matplotlibによるグラフ表示"
      ]
    },
    {
      "cell_type": "code",
      "execution_count": null,
      "metadata": {
        "id": "7h1cV1wubGY9",
        "colab": {
          "base_uri": "https://localhost:8080/",
          "height": 545
        },
        "outputId": "8836bb58-0368-45ae-9918-ed60d89932fb"
      },
      "outputs": [
        {
          "output_type": "display_data",
          "data": {
            "text/plain": [
              "<Figure size 600x600 with 1 Axes>"
            ],
            "image/png": "[encoded data removed]"
          },
          "metadata": {}
        }
      ],
      "source": [
        "import matplotlib.pyplot as plt\n",
        "import japanize_matplotlib\n",
        "\n",
        "# グラフのサイズ指定\n",
        "plt.figure(figsize=(6, 6))\n",
        "\n",
        "x=df['ばねの伸び'] # ばねの伸び\n",
        "t=df['おもりの重さ'] # おもりの重さ\n",
        "\n",
        "# 横軸の値にx, 縦軸の値にtを使い、サイズ200のマーカーで散布図を作成\n",
        "plt.scatter(x, t, s=200)\n",
        "plt.xlabel('ばねの伸び', fontsize=14)   # 横軸のラベルとフォントサイズを指定\n",
        "plt.ylabel('おもりの重さ', fontsize=14) # 縦軸のラベルとフォントサイズを指定\n",
        "plt.xlim(0, ) # 横軸の表示範囲(最小値, 最大値)。省略するとプログラムにお任せになる\n",
        "plt.ylim(0, ) # 縦軸の表示範囲(最小値, 最大値)。省略するとプログラムにお任せになる\n",
        "plt.show()    # グラフの表示"
      ]
    },
    {
      "cell_type": "markdown",
      "metadata": {
        "id": "cRZH6io8mWPC"
      },
      "source": [
        "# 実習1.5：単回帰分析を行う"
      ]
    },
    {
      "cell_type": "code",
      "execution_count": null,
      "metadata": {
        "id": "rV9d8Ej7bxMC",
        "colab": {
          "base_uri": "https://localhost:8080/"
        },
        "outputId": "b35ca682-1064-40fc-98d3-b59413c8e026"
      },
      "outputs": [
        {
          "output_type": "stream",
          "name": "stdout",
          "text": [
            "w1(傾き): [[7.96142857]]\n",
            "w1の形状: (1, 1)\n",
            "w0(切片): [25.91]\n",
            "w0の形状: (1,)\n"
          ]
        }
      ],
      "source": [
        "from sklearn.linear_model import LinearRegression\n",
        "\n",
        "# データフレームから説明変数（ばねの伸び）の値を取り出す\n",
        "x=df['ばねの伸び']\n",
        "\n",
        "\n",
        "# NumPy配列に変換\n",
        "x=x.to_numpy()\n",
        "\n",
        "# 分析用に、配列を(データ数, 成分数)の形状に変形\n",
        "# 今回の形状は(13, 1)\n",
        "x=x.reshape(-1, 1)\n",
        "\n",
        "# データフレームから目的変数（おもりの重さ）の値を取り出す。\n",
        "# xと同様に、NumPy配列への変換と配列の形状変換を行う。\n",
        "t=df['おもりの重さ']\n",
        "t=t.to_numpy().reshape(-1, 1)\n",
        "\n",
        "# 単回帰分析クラスのインスタンス生成\n",
        "model1=LinearRegression()\n",
        "\n",
        "# 回帰の実行。パラメータ指定\n",
        "model1.fit(x, t)\n",
        "\n",
        "w1=model1.coef_      # model1が持つ傾きの値をw1に代入\n",
        "w0=model1.intercept_ # model1が持つ切片の値をw0に代入\n",
        "\n",
        "print('w1(傾き):', w1)\n",
        "print('w1の形状:', w1.shape)\n",
        "print('w0(切片):', w0)\n",
        "print('w0の形状:', w0.shape)"
      ]
    },
    {
      "cell_type": "markdown",
      "metadata": {
        "id": "NmcuvMqj2oZ6"
      },
      "source": [
        "# 実習1.6：推定したパラメータを使い、回帰直線を描画する"
      ]
    },
    {
      "cell_type": "code",
      "execution_count": null,
      "metadata": {
        "id": "evzZiDRxmsvE",
        "colab": {
          "base_uri": "https://localhost:8080/",
          "height": 545
        },
        "outputId": "3aaac09a-721d-410f-9d19-bb608f5cb77e"
      },
      "outputs": [
        {
          "output_type": "display_data",
          "data": {
            "text/plain": [
              "<Figure size 600x600 with 1 Axes>"
            ],
            "image/png": "[encoded data removed]"
          },
          "metadata": {}
        }
      ],
      "source": [
        "import matplotlib.pyplot as plt\n",
        "import japanize_matplotlib\n",
        "import numpy as np\n",
        "\n",
        "# 回帰直線を引くために説明変数の値を生成\n",
        "# 0以上30以下の範囲で等間隔に100点生成する。\n",
        "x2=np.linspace(0, 30, 100)\n",
        "\n",
        "# 配列を(データ数, 成分数)の形状に変形\n",
        "x2=x2.reshape(-1, 1)\n",
        "\n",
        "# 目的変数の値を計算\n",
        "y=model1.predict(x2)\n",
        "plt.figure(figsize=(6, 6))\n",
        "\n",
        "# 横軸の値にばねの伸び\n",
        "# 縦軸の値におもりの重さ\n",
        "# を使い、サイズ200のマーカーで散布図を作成\n",
        "plt.scatter(x, t, s=200)\n",
        "\n",
        "# 回帰直線を描画する\n",
        "# 横軸の値x2、縦軸の値y、線の種類は破線、線の名前は予測値、線の色は赤\n",
        "plt.plot(x2, y, linestyle='dashed', label='予測値', color='red')\n",
        "\n",
        "plt.xlabel('ばねの伸び', fontsize=14)\n",
        "plt.ylabel('おもりの重さ', fontsize=14)\n",
        "plt.xlim(0, )\n",
        "plt.ylim(0, )\n",
        "plt.legend(fontsize=14)\n",
        "plt.show()"
      ]
    },
    {
      "cell_type": "markdown",
      "metadata": {
        "id": "b4Vwk2pzpVpH"
      },
      "source": [
        "# 実習1.7：おもりの重さから、ばねの伸びを予測する単回帰分析"
      ]
    },
    {
      "cell_type": "code",
      "execution_count": null,
      "metadata": {
        "id": "btPybumAoWlj",
        "colab": {
          "base_uri": "https://localhost:8080/"
        },
        "outputId": "d366f766-3583-4deb-c037-65fd266bf258"
      },
      "outputs": [
        {
          "output_type": "stream",
          "name": "stdout",
          "text": [
            "w1(傾き): [[0.11796282]]\n",
            "w1の形状: (1, 1)\n",
            "w0(切片): [-2.08285767]\n",
            "w0の形状: (1,)\n"
          ]
        }
      ],
      "source": [
        "from sklearn.linear_model import LinearRegression\n",
        "\n",
        "# 単回帰分析クラスのインスタンス生成\n",
        "model2=LinearRegression()\n",
        "\n",
        "# 回帰の実行。パラメータ指定\n",
        "model2.fit(t, x)\n",
        "\n",
        "w1=model2.coef_      # model2が持つ傾きの値をw1に代入\n",
        "w0=model2.intercept_ # model2が持つ切片の値をw0に代入\n",
        "print('w1(傾き):', w1)\n",
        "print('w1の形状:', w1.shape)\n",
        "print('w0(切片):', w0)\n",
        "print('w0の形状:', w0.shape)"
      ]
    },
    {
      "cell_type": "markdown",
      "metadata": {
        "id": "D3PkAf72_KyB"
      },
      "source": [
        "# 実習1.8：推定したパラメータを使い、回帰直線を描画する"
      ]
    },
    {
      "cell_type": "code",
      "execution_count": null,
      "metadata": {
        "id": "dNR9OoqM_B7r",
        "colab": {
          "base_uri": "https://localhost:8080/",
          "height": 549
        },
        "outputId": "3aa0eaec-b8d7-4df8-c210-58842810096f"
      },
      "outputs": [
        {
          "output_type": "display_data",
          "data": {
            "text/plain": [
              "<Figure size 600x600 with 1 Axes>"
            ],
            "image/png": "[encoded data removed]"
          },
          "metadata": {}
        }
      ],
      "source": [
        "# 回帰直線を引くために説明変数の値を生成\n",
        "# 0以上300以下の範囲で等間隔に1000点生成する。\n",
        "x2=np.linspace(0, 300, 1000)\n",
        "\n",
        "# 配列を(データ数, 成分数)の形状に変形\n",
        "x2=x2.reshape(-1, 1)\n",
        "\n",
        "# 目的変数の値を計算\n",
        "y=model2.predict(x2)\n",
        "\n",
        "plt.figure(figsize=(6, 6))\n",
        "\n",
        "# 横軸の値にばねの伸び\n",
        "# 縦軸の値におもりの重さ\n",
        "# を使い、サイズ200のマーカーで散布図を作成\n",
        "plt.scatter(t, x, s=200)\n",
        "\n",
        "# 回帰直線を描画する\n",
        "plt.plot(x2, y, linestyle='dashed', label='予測値', color='red')\n",
        "plt.xlabel('おもりの重さ', fontsize=14)\n",
        "plt.ylabel('ばねの伸び', fontsize=14)\n",
        "plt.xlim(0, )\n",
        "plt.ylim(0, )\n",
        "plt.legend(fontsize=14)\n",
        "plt.show()"
      ]
    }
  ],
  "metadata": {
    "colab": {
      "provenance": []
    },
    "kernelspec": {
      "display_name": "Python 3",
      "language": "python",
      "name": "python3"
    },
    "language_info": {
      "codemirror_mode": {
        "name": "ipython",
        "version": 3
      },
      "file_extension": ".py",
      "mimetype": "text/x-python",
      "name": "python",
      "nbconvert_exporter": "python",
      "pygments_lexer": "ipython3",
      "version": "3.7.6"
    },
    "latex_envs": {
      "LaTeX_envs_menu_present": true,
      "autoclose": false,
      "autocomplete": true,
      "bibliofile": "biblio.bib",
      "cite_by": "apalike",
      "current_citInitial": 1,
      "eqLabelWithNumbers": true,
      "eqNumInitial": 1,
      "hotkeys": {
        "equation": "Ctrl-E",
        "itemize": "Ctrl-I"
      },
      "labels_anchors": false,
      "latex_user_defs": false,
      "report_style_numbering": false,
      "user_envs_cfg": false
    },
    "toc": {
      "base_numbering": 1,
      "nav_menu": {},
      "number_sections": false,
      "sideBar": true,
      "skip_h1_title": false,
      "title_cell": "Table of Contents",
      "title_sidebar": "Contents",
      "toc_cell": false,
      "toc_position": {},
      "toc_section_display": true,
      "toc_window_display": false
    },
    "varInspector": {
      "cols": {
        "lenName": 16,
        "lenType": 16,
        "lenVar": 40
      },
      "kernels_config": {
        "python": {
          "delete_cmd_postfix": "",
          "delete_cmd_prefix": "del ",
          "library": "var_list.py",
          "varRefreshCmd": "print(var_dic_list())"
        },
        "r": {
          "delete_cmd_postfix": ") ",
          "delete_cmd_prefix": "rm(",
          "library": "var_list.r",
          "varRefreshCmd": "cat(var_dic_list()) "
        }
      },
      "types_to_exclude": [
        "module",
        "function",
        "builtin_function_or_method",
        "instance",
        "_Feature"
      ],
      "window_display": false
    }
  },
  "nbformat": 4,
  "nbformat_minor": 0
}