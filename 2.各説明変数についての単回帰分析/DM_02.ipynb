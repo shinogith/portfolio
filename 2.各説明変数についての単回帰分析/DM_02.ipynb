{
  "cells": [
    {
      "cell_type": "markdown",
      "metadata": {
        "id": "wmt4LyPRYwpr"
      },
      "source": [
        "# グラフの文字で英語以外を使えるようにする"
      ]
    },
    {
      "cell_type": "code",
      "execution_count": 10,
      "metadata": {
        "colab": {
          "base_uri": "https://localhost:8080/"
        },
        "id": "ORoO4RpaYx4t",
        "outputId": "5d4bb490-d8ad-4d5d-b3f1-28a7750c1da0"
      },
      "outputs": [
        {
          "output_type": "stream",
          "name": "stdout",
          "text": [
            "Requirement already satisfied: japanize-matplotlib in /usr/local/lib/python3.10/dist-packages (1.1.3)\n",
            "Requirement already satisfied: matplotlib in /usr/local/lib/python3.10/dist-packages (from japanize-matplotlib) (3.7.1)\n",
            "Requirement already satisfied: contourpy>=1.0.1 in /usr/local/lib/python3.10/dist-packages (from matplotlib->japanize-matplotlib) (1.1.1)\n",
            "Requirement already satisfied: cycler>=0.10 in /usr/local/lib/python3.10/dist-packages (from matplotlib->japanize-matplotlib) (0.12.0)\n",
            "Requirement already satisfied: fonttools>=4.22.0 in /usr/local/lib/python3.10/dist-packages (from matplotlib->japanize-matplotlib) (4.43.0)\n",
            "Requirement already satisfied: kiwisolver>=1.0.1 in /usr/local/lib/python3.10/dist-packages (from matplotlib->japanize-matplotlib) (1.4.5)\n",
            "Requirement already satisfied: numpy>=1.20 in /usr/local/lib/python3.10/dist-packages (from matplotlib->japanize-matplotlib) (1.23.5)\n",
            "Requirement already satisfied: packaging>=20.0 in /usr/local/lib/python3.10/dist-packages (from matplotlib->japanize-matplotlib) (23.1)\n",
            "Requirement already satisfied: pillow>=6.2.0 in /usr/local/lib/python3.10/dist-packages (from matplotlib->japanize-matplotlib) (9.4.0)\n",
            "Requirement already satisfied: pyparsing>=2.3.1 in /usr/local/lib/python3.10/dist-packages (from matplotlib->japanize-matplotlib) (3.1.1)\n",
            "Requirement already satisfied: python-dateutil>=2.7 in /usr/local/lib/python3.10/dist-packages (from matplotlib->japanize-matplotlib) (2.8.2)\n",
            "Requirement already satisfied: six>=1.5 in /usr/local/lib/python3.10/dist-packages (from python-dateutil>=2.7->matplotlib->japanize-matplotlib) (1.16.0)\n"
          ]
        }
      ],
      "source": [
        "!pip install japanize-matplotlib"
      ]
    },
    {
      "cell_type": "markdown",
      "metadata": {
        "id": "43LViSxLYX36"
      },
      "source": [
        "# 関数 save_fig：図の保存"
      ]
    },
    {
      "cell_type": "code",
      "execution_count": 11,
      "metadata": {
        "id": "2GgSA_dAYX39"
      },
      "outputs": [],
      "source": [
        "import os\n",
        "import numpy as np\n",
        "import matplotlib.pyplot as plt\n",
        "%matplotlib inline\n",
        "\n",
        "import japanize_matplotlib\n",
        "\n",
        "def save_fig(plt, file_prefix, bbox_inches='tight'):\n",
        "    if file_prefix == '':\n",
        "        return\n",
        "\n",
        "    parent = os.path.dirname(os.path.abspath(file_prefix))\n",
        "    os.makedirs(parent, exist_ok=True)\n",
        "    plt.savefig(f'{file_prefix}.pdf', transparent=True, bbox_inches=bbox_inches, pad_inches = 0)\n",
        "    plt.savefig(f'{file_prefix}.png', transparent=True, dpi=300, bbox_inches=bbox_inches, pad_inches = 0)"
      ]
    },
    {
      "cell_type": "markdown",
      "metadata": {
        "id": "6ezBMLCAYX3_"
      },
      "source": [
        "# 実習2.1：データセットの読み込み"
      ]
    },
    {
      "cell_type": "code",
      "execution_count": 12,
      "metadata": {
        "colab": {
          "base_uri": "https://localhost:8080/",
          "height": 423
        },
        "id": "cpv0clo7YX4A",
        "outputId": "b3c274c6-064e-418e-d08c-23ad0991b3a9"
      },
      "outputs": [
        {
          "output_type": "execute_result",
          "data": {
            "text/plain": [
              "        CRIM    ZN  INDUS  CHAS    NOX     RM   AGE     DIS  RAD  TAX  \\\n",
              "0    0.00632  18.0   2.31     0  0.538  6.575  65.2  4.0900    1  296   \n",
              "1    0.02731   0.0   7.07     0  0.469  6.421  78.9  4.9671    2  242   \n",
              "2    0.02729   0.0   7.07     0  0.469  7.185  61.1  4.9671    2  242   \n",
              "3    0.03237   0.0   2.18     0  0.458  6.998  45.8  6.0622    3  222   \n",
              "4    0.06905   0.0   2.18     0  0.458  7.147  54.2  6.0622    3  222   \n",
              "..       ...   ...    ...   ...    ...    ...   ...     ...  ...  ...   \n",
              "501  0.06263   0.0  11.93     0  0.573  6.593  69.1  2.4786    1  273   \n",
              "502  0.04527   0.0  11.93     0  0.573  6.120  76.7  2.2875    1  273   \n",
              "503  0.06076   0.0  11.93     0  0.573  6.976  91.0  2.1675    1  273   \n",
              "504  0.10959   0.0  11.93     0  0.573  6.794  89.3  2.3889    1  273   \n",
              "505  0.04741   0.0  11.93     0  0.573  6.030  80.8  2.5050    1  273   \n",
              "\n",
              "     PTRATIO  LSTAT  PRICE  \n",
              "0       15.3   4.98   24.0  \n",
              "1       17.8   9.14   21.6  \n",
              "2       17.8   4.03   34.7  \n",
              "3       18.7   2.94   33.4  \n",
              "4       18.7   5.33   36.2  \n",
              "..       ...    ...    ...  \n",
              "501     21.0   9.67   22.4  \n",
              "502     21.0   9.08   20.6  \n",
              "503     21.0   5.64   23.9  \n",
              "504     21.0   6.48   22.0  \n",
              "505     21.0   7.88   11.9  \n",
              "\n",
              "[506 rows x 13 columns]"
            ],
            "text/html": [
              "\n",
              "  <div id=\"df-48f716b0-d8c3-481d-8a7c-361b0e59b54f\" class=\"colab-df-container\">\n",
              "    <div>\n",
              "<style scoped>\n",
              "    .dataframe tbody tr th:only-of-type {\n",
              "        vertical-align: middle;\n",
              "    }\n",
              "\n",
              "    .dataframe tbody tr th {\n",
              "        vertical-align: top;\n",
              "    }\n",
              "\n",
              "    .dataframe thead th {\n",
              "        text-align: right;\n",
              "    }\n",
              "</style>\n",
              "<table border=\"1\" class=\"dataframe\">\n",
              "  <thead>\n",
              "    <tr style=\"text-align: right;\">\n",
              "      <th></th>\n",
              "      <th>CRIM</th>\n",
              "      <th>ZN</th>\n",
              "      <th>INDUS</th>\n",
              "      <th>CHAS</th>\n",
              "      <th>NOX</th>\n",
              "      <th>RM</th>\n",
              "      <th>AGE</th>\n",
              "      <th>DIS</th>\n",
              "      <th>RAD</th>\n",
              "      <th>TAX</th>\n",
              "      <th>PTRATIO</th>\n",
              "      <th>LSTAT</th>\n",
              "      <th>PRICE</th>\n",
              "    </tr>\n",
              "  </thead>\n",
              "  <tbody>\n",
              "    <tr>\n",
              "      <th>0</th>\n",
              "      <td>0.00632</td>\n",
              "      <td>18.0</td>\n",
              "      <td>2.31</td>\n",
              "      <td>0</td>\n",
              "      <td>0.538</td>\n",
              "      <td>6.575</td>\n",
              "      <td>65.2</td>\n",
              "      <td>4.0900</td>\n",
              "      <td>1</td>\n",
              "      <td>296</td>\n",
              "      <td>15.3</td>\n",
              "      <td>4.98</td>\n",
              "      <td>24.0</td>\n",
              "    </tr>\n",
              "    <tr>\n",
              "      <th>1</th>\n",
              "      <td>0.02731</td>\n",
              "      <td>0.0</td>\n",
              "      <td>7.07</td>\n",
              "      <td>0</td>\n",
              "      <td>0.469</td>\n",
              "      <td>6.421</td>\n",
              "      <td>78.9</td>\n",
              "      <td>4.9671</td>\n",
              "      <td>2</td>\n",
              "      <td>242</td>\n",
              "      <td>17.8</td>\n",
              "      <td>9.14</td>\n",
              "      <td>21.6</td>\n",
              "    </tr>\n",
              "    <tr>\n",
              "      <th>2</th>\n",
              "      <td>0.02729</td>\n",
              "      <td>0.0</td>\n",
              "      <td>7.07</td>\n",
              "      <td>0</td>\n",
              "      <td>0.469</td>\n",
              "      <td>7.185</td>\n",
              "      <td>61.1</td>\n",
              "      <td>4.9671</td>\n",
              "      <td>2</td>\n",
              "      <td>242</td>\n",
              "      <td>17.8</td>\n",
              "      <td>4.03</td>\n",
              "      <td>34.7</td>\n",
              "    </tr>\n",
              "    <tr>\n",
              "      <th>3</th>\n",
              "      <td>0.03237</td>\n",
              "      <td>0.0</td>\n",
              "      <td>2.18</td>\n",
              "      <td>0</td>\n",
              "      <td>0.458</td>\n",
              "      <td>6.998</td>\n",
              "      <td>45.8</td>\n",
              "      <td>6.0622</td>\n",
              "      <td>3</td>\n",
              "      <td>222</td>\n",
              "      <td>18.7</td>\n",
              "      <td>2.94</td>\n",
              "      <td>33.4</td>\n",
              "    </tr>\n",
              "    <tr>\n",
              "      <th>4</th>\n",
              "      <td>0.06905</td>\n",
              "      <td>0.0</td>\n",
              "      <td>2.18</td>\n",
              "      <td>0</td>\n",
              "      <td>0.458</td>\n",
              "      <td>7.147</td>\n",
              "      <td>54.2</td>\n",
              "      <td>6.0622</td>\n",
              "      <td>3</td>\n",
              "      <td>222</td>\n",
              "      <td>18.7</td>\n",
              "      <td>5.33</td>\n",
              "      <td>36.2</td>\n",
              "    </tr>\n",
              "    <tr>\n",
              "      <th>...</th>\n",
              "      <td>...</td>\n",
              "      <td>...</td>\n",
              "      <td>...</td>\n",
              "      <td>...</td>\n",
              "      <td>...</td>\n",
              "      <td>...</td>\n",
              "      <td>...</td>\n",
              "      <td>...</td>\n",
              "      <td>...</td>\n",
              "      <td>...</td>\n",
              "      <td>...</td>\n",
              "      <td>...</td>\n",
              "      <td>...</td>\n",
              "    </tr>\n",
              "    <tr>\n",
              "      <th>501</th>\n",
              "      <td>0.06263</td>\n",
              "      <td>0.0</td>\n",
              "      <td>11.93</td>\n",
              "      <td>0</td>\n",
              "      <td>0.573</td>\n",
              "      <td>6.593</td>\n",
              "      <td>69.1</td>\n",
              "      <td>2.4786</td>\n",
              "      <td>1</td>\n",
              "      <td>273</td>\n",
              "      <td>21.0</td>\n",
              "      <td>9.67</td>\n",
              "      <td>22.4</td>\n",
              "    </tr>\n",
              "    <tr>\n",
              "      <th>502</th>\n",
              "      <td>0.04527</td>\n",
              "      <td>0.0</td>\n",
              "      <td>11.93</td>\n",
              "      <td>0</td>\n",
              "      <td>0.573</td>\n",
              "      <td>6.120</td>\n",
              "      <td>76.7</td>\n",
              "      <td>2.2875</td>\n",
              "      <td>1</td>\n",
              "      <td>273</td>\n",
              "      <td>21.0</td>\n",
              "      <td>9.08</td>\n",
              "      <td>20.6</td>\n",
              "    </tr>\n",
              "    <tr>\n",
              "      <th>503</th>\n",
              "      <td>0.06076</td>\n",
              "      <td>0.0</td>\n",
              "      <td>11.93</td>\n",
              "      <td>0</td>\n",
              "      <td>0.573</td>\n",
              "      <td>6.976</td>\n",
              "      <td>91.0</td>\n",
              "      <td>2.1675</td>\n",
              "      <td>1</td>\n",
              "      <td>273</td>\n",
              "      <td>21.0</td>\n",
              "      <td>5.64</td>\n",
              "      <td>23.9</td>\n",
              "    </tr>\n",
              "    <tr>\n",
              "      <th>504</th>\n",
              "      <td>0.10959</td>\n",
              "      <td>0.0</td>\n",
              "      <td>11.93</td>\n",
              "      <td>0</td>\n",
              "      <td>0.573</td>\n",
              "      <td>6.794</td>\n",
              "      <td>89.3</td>\n",
              "      <td>2.3889</td>\n",
              "      <td>1</td>\n",
              "      <td>273</td>\n",
              "      <td>21.0</td>\n",
              "      <td>6.48</td>\n",
              "      <td>22.0</td>\n",
              "    </tr>\n",
              "    <tr>\n",
              "      <th>505</th>\n",
              "      <td>0.04741</td>\n",
              "      <td>0.0</td>\n",
              "      <td>11.93</td>\n",
              "      <td>0</td>\n",
              "      <td>0.573</td>\n",
              "      <td>6.030</td>\n",
              "      <td>80.8</td>\n",
              "      <td>2.5050</td>\n",
              "      <td>1</td>\n",
              "      <td>273</td>\n",
              "      <td>21.0</td>\n",
              "      <td>7.88</td>\n",
              "      <td>11.9</td>\n",
              "    </tr>\n",
              "  </tbody>\n",
              "</table>\n",
              "<p>506 rows × 13 columns</p>\n",
              "</div>\n",
              "    <div class=\"colab-df-buttons\">\n",
              "\n",
              "  <div class=\"colab-df-container\">\n",
              "    <button class=\"colab-df-convert\" onclick=\"convertToInteractive('df-48f716b0-d8c3-481d-8a7c-361b0e59b54f')\"\n",
              "            title=\"Convert this dataframe to an interactive table.\"\n",
              "            style=\"display:none;\">\n",
              "\n",
              "  <svg xmlns=\"http://www.w3.org/2000/svg\" height=\"24px\" viewBox=\"0 -960 960 960\">\n",
              "    <path d=\"M120-120v-720h720v720H120Zm60-500h600v-160H180v160Zm220 220h160v-160H400v160Zm0 220h160v-160H400v160ZM180-400h160v-160H180v160Zm440 0h160v-160H620v160ZM180-180h160v-160H180v160Zm440 0h160v-160H620v160Z\"/>\n",
              "  </svg>\n",
              "    </button>\n",
              "\n",
              "  <style>\n",
              "    .colab-df-container {\n",
              "      display:flex;\n",
              "      gap: 12px;\n",
              "    }\n",
              "\n",
              "    .colab-df-convert {\n",
              "      background-color: #E8F0FE;\n",
              "      border: none;\n",
              "      border-radius: 50%;\n",
              "      cursor: pointer;\n",
              "      display: none;\n",
              "      fill: #1967D2;\n",
              "      height: 32px;\n",
              "      padding: 0 0 0 0;\n",
              "      width: 32px;\n",
              "    }\n",
              "\n",
              "    .colab-df-convert:hover {\n",
              "      background-color: #E2EBFA;\n",
              "      box-shadow: 0px 1px 2px rgba(60, 64, 67, 0.3), 0px 1px 3px 1px rgba(60, 64, 67, 0.15);\n",
              "      fill: #174EA6;\n",
              "    }\n",
              "\n",
              "    .colab-df-buttons div {\n",
              "      margin-bottom: 4px;\n",
              "    }\n",
              "\n",
              "    [theme=dark] .colab-df-convert {\n",
              "      background-color: #3B4455;\n",
              "      fill: #D2E3FC;\n",
              "    }\n",
              "\n",
              "    [theme=dark] .colab-df-convert:hover {\n",
              "      background-color: #434B5C;\n",
              "      box-shadow: 0px 1px 3px 1px rgba(0, 0, 0, 0.15);\n",
              "      filter: drop-shadow(0px 1px 2px rgba(0, 0, 0, 0.3));\n",
              "      fill: #FFFFFF;\n",
              "    }\n",
              "  </style>\n",
              "\n",
              "    <script>\n",
              "      const buttonEl =\n",
              "        document.querySelector('#df-48f716b0-d8c3-481d-8a7c-361b0e59b54f button.colab-df-convert');\n",
              "      buttonEl.style.display =\n",
              "        google.colab.kernel.accessAllowed ? 'block' : 'none';\n",
              "\n",
              "      async function convertToInteractive(key) {\n",
              "        const element = document.querySelector('#df-48f716b0-d8c3-481d-8a7c-361b0e59b54f');\n",
              "        const dataTable =\n",
              "          await google.colab.kernel.invokeFunction('convertToInteractive',\n",
              "                                                    [key], {});\n",
              "        if (!dataTable) return;\n",
              "\n",
              "        const docLinkHtml = 'Like what you see? Visit the ' +\n",
              "          '<a target=\"_blank\" href=https://colab.research.google.com/notebooks/data_table.ipynb>data table notebook</a>'\n",
              "          + ' to learn more about interactive tables.';\n",
              "        element.innerHTML = '';\n",
              "        dataTable['output_type'] = 'display_data';\n",
              "        await google.colab.output.renderOutput(dataTable, element);\n",
              "        const docLink = document.createElement('div');\n",
              "        docLink.innerHTML = docLinkHtml;\n",
              "        element.appendChild(docLink);\n",
              "      }\n",
              "    </script>\n",
              "  </div>\n",
              "\n",
              "\n",
              "<div id=\"df-79c78946-88f3-4f3b-a9ee-b3be94107727\">\n",
              "  <button class=\"colab-df-quickchart\" onclick=\"quickchart('df-79c78946-88f3-4f3b-a9ee-b3be94107727')\"\n",
              "            title=\"Suggest charts.\"\n",
              "            style=\"display:none;\">\n",
              "\n",
              "<svg xmlns=\"http://www.w3.org/2000/svg\" height=\"24px\"viewBox=\"0 0 24 24\"\n",
              "     width=\"24px\">\n",
              "    <g>\n",
              "        <path d=\"M19 3H5c-1.1 0-2 .9-2 2v14c0 1.1.9 2 2 2h14c1.1 0 2-.9 2-2V5c0-1.1-.9-2-2-2zM9 17H7v-7h2v7zm4 0h-2V7h2v10zm4 0h-2v-4h2v4z\"/>\n",
              "    </g>\n",
              "</svg>\n",
              "  </button>\n",
              "\n",
              "<style>\n",
              "  .colab-df-quickchart {\n",
              "      --bg-color: #E8F0FE;\n",
              "      --fill-color: #1967D2;\n",
              "      --hover-bg-color: #E2EBFA;\n",
              "      --hover-fill-color: #174EA6;\n",
              "      --disabled-fill-color: #AAA;\n",
              "      --disabled-bg-color: #DDD;\n",
              "  }\n",
              "\n",
              "  [theme=dark] .colab-df-quickchart {\n",
              "      --bg-color: #3B4455;\n",
              "      --fill-color: #D2E3FC;\n",
              "      --hover-bg-color: #434B5C;\n",
              "      --hover-fill-color: #FFFFFF;\n",
              "      --disabled-bg-color: #3B4455;\n",
              "      --disabled-fill-color: #666;\n",
              "  }\n",
              "\n",
              "  .colab-df-quickchart {\n",
              "    background-color: var(--bg-color);\n",
              "    border: none;\n",
              "    border-radius: 50%;\n",
              "    cursor: pointer;\n",
              "    display: none;\n",
              "    fill: var(--fill-color);\n",
              "    height: 32px;\n",
              "    padding: 0;\n",
              "    width: 32px;\n",
              "  }\n",
              "\n",
              "  .colab-df-quickchart:hover {\n",
              "    background-color: var(--hover-bg-color);\n",
              "    box-shadow: 0 1px 2px rgba(60, 64, 67, 0.3), 0 1px 3px 1px rgba(60, 64, 67, 0.15);\n",
              "    fill: var(--button-hover-fill-color);\n",
              "  }\n",
              "\n",
              "  .colab-df-quickchart-complete:disabled,\n",
              "  .colab-df-quickchart-complete:disabled:hover {\n",
              "    background-color: var(--disabled-bg-color);\n",
              "    fill: var(--disabled-fill-color);\n",
              "    box-shadow: none;\n",
              "  }\n",
              "\n",
              "  .colab-df-spinner {\n",
              "    border: 2px solid var(--fill-color);\n",
              "    border-color: transparent;\n",
              "    border-bottom-color: var(--fill-color);\n",
              "    animation:\n",
              "      spin 1s steps(1) infinite;\n",
              "  }\n",
              "\n",
              "  @keyframes spin {\n",
              "    0% {\n",
              "      border-color: transparent;\n",
              "      border-bottom-color: var(--fill-color);\n",
              "      border-left-color: var(--fill-color);\n",
              "    }\n",
              "    20% {\n",
              "      border-color: transparent;\n",
              "      border-left-color: var(--fill-color);\n",
              "      border-top-color: var(--fill-color);\n",
              "    }\n",
              "    30% {\n",
              "      border-color: transparent;\n",
              "      border-left-color: var(--fill-color);\n",
              "      border-top-color: var(--fill-color);\n",
              "      border-right-color: var(--fill-color);\n",
              "    }\n",
              "    40% {\n",
              "      border-color: transparent;\n",
              "      border-right-color: var(--fill-color);\n",
              "      border-top-color: var(--fill-color);\n",
              "    }\n",
              "    60% {\n",
              "      border-color: transparent;\n",
              "      border-right-color: var(--fill-color);\n",
              "    }\n",
              "    80% {\n",
              "      border-color: transparent;\n",
              "      border-right-color: var(--fill-color);\n",
              "      border-bottom-color: var(--fill-color);\n",
              "    }\n",
              "    90% {\n",
              "      border-color: transparent;\n",
              "      border-bottom-color: var(--fill-color);\n",
              "    }\n",
              "  }\n",
              "</style>\n",
              "\n",
              "  <script>\n",
              "    async function quickchart(key) {\n",
              "      const quickchartButtonEl =\n",
              "        document.querySelector('#' + key + ' button');\n",
              "      quickchartButtonEl.disabled = true;  // To prevent multiple clicks.\n",
              "      quickchartButtonEl.classList.add('colab-df-spinner');\n",
              "      try {\n",
              "        const charts = await google.colab.kernel.invokeFunction(\n",
              "            'suggestCharts', [key], {});\n",
              "      } catch (error) {\n",
              "        console.error('Error during call to suggestCharts:', error);\n",
              "      }\n",
              "      quickchartButtonEl.classList.remove('colab-df-spinner');\n",
              "      quickchartButtonEl.classList.add('colab-df-quickchart-complete');\n",
              "    }\n",
              "    (() => {\n",
              "      let quickchartButtonEl =\n",
              "        document.querySelector('#df-79c78946-88f3-4f3b-a9ee-b3be94107727 button');\n",
              "      quickchartButtonEl.style.display =\n",
              "        google.colab.kernel.accessAllowed ? 'block' : 'none';\n",
              "    })();\n",
              "  </script>\n",
              "</div>\n",
              "    </div>\n",
              "  </div>\n"
            ]
          },
          "metadata": {},
          "execution_count": 12
        }
      ],
      "source": [
        "import pandas as pd\n",
        "\n",
        "# ボストン住宅価格データセットをファイルdm2.csvから、変数bostonへ読み込む\n",
        "boston = pd.read_csv('dm2.csv')\n",
        "\n",
        "# データフレームの中身を表示\n",
        "boston"
      ]
    },
    {
      "cell_type": "markdown",
      "metadata": {
        "id": "TrALFNFGYX4D"
      },
      "source": [
        "# 実習2.2：犯罪率と住宅価格の関係を分析する"
      ]
    },
    {
      "cell_type": "code",
      "execution_count": 13,
      "metadata": {
        "colab": {
          "base_uri": "https://localhost:8080/"
        },
        "id": "4jKeTp4DYX4E",
        "outputId": "85f21436-cc8f-4684-8b4e-3275dfd64ab6"
      },
      "outputs": [
        {
          "output_type": "stream",
          "name": "stdout",
          "text": [
            "w1(傾き): [[-0.41519028]]\n",
            "w1の形状: (1, 1)\n",
            "w0(切片): [24.03310617]\n",
            "w0の形状: (1,)\n",
            "MSE: 71.69073588196659\n"
          ]
        }
      ],
      "source": [
        "import numpy as np\n",
        "from sklearn.linear_model import LinearRegression\n",
        "from sklearn.metrics import mean_squared_error\n",
        "\n",
        "# 説明変数。データフレームから名前CRIMの列を取り出し、変数xに代入\n",
        "x = boston['CRIM']\n",
        "# 分析用に、配列を(データ数, 成分数)の形状に変形\n",
        "x = x.to_numpy().reshape(-1, 1)\n",
        "\n",
        "# 目的変数。データフレームから名前PRICEの列を取り出し、変数y_trueに代入\n",
        "y_true = boston['PRICE']\n",
        "# 分析用に、配列を(データ数, 成分数)の形状に変形\n",
        "y_true = y_true.to_numpy().reshape(-1, 1)\n",
        "\n",
        "# 単回帰分析クラスのインスタンス生成\n",
        "model1=LinearRegression()\n",
        "\n",
        "# 回帰の実行。パラメータ推定。説明変数x、目的変数y_true\n",
        "model1.fit(x, y_true)\n",
        "\n",
        "w1=model1.coef_      # model1が持つ傾きの値をw1に代入\n",
        "w0=model1.intercept_ # model1が持つ切片の値をw0に代入\n",
        "print('w1(傾き):', w1)\n",
        "print('w1の形状:', w1.shape)\n",
        "print('w0(切片):', w0)\n",
        "print('w0の形状:', w0.shape)\n",
        "\n",
        "# 説明変数に対する予測値を計算\n",
        "y_pred = model1.predict(x)\n",
        "\n",
        "# 目的変数に対する予測値の\n",
        "# 平均二乗誤差(mean squared error)を計算する\n",
        "mse=mean_squared_error(y_true, y_pred)\n",
        "print('MSE:', mse)"
      ]
    },
    {
      "cell_type": "markdown",
      "metadata": {
        "id": "VmaVFxxjYX4E"
      },
      "source": [
        "# 実習2.3：犯罪率と住宅価格の関係、回帰直線を描画する"
      ]
    },
    {
      "cell_type": "code",
      "execution_count": 14,
      "metadata": {
        "colab": {
          "base_uri": "https://localhost:8080/",
          "height": 546
        },
        "id": "aBa8q4WKYX4F",
        "outputId": "980b2d0e-36ba-41cf-aa50-5710d06cea0e"
      },
      "outputs": [
        {
          "output_type": "display_data",
          "data": {
            "text/plain": [
              "<Figure size 600x600 with 1 Axes>"
            ],
            "image/png": "[encoded data removed]"
          },
          "metadata": {}
        }
      ],
      "source": [
        "import matplotlib.pyplot as plt\n",
        "import japanize_matplotlib\n",
        "import numpy as np\n",
        "\n",
        "# 回帰直線を引くために説明変数の値を生成\n",
        "# 0以上100以下の範囲で等間隔に100点生成する。\n",
        "x2=np.linspace(0, 100, 1000)\n",
        "\n",
        "# 配列を(データ数, 成分数)の形状に変形\n",
        "x2=x2.reshape(-1, 1)\n",
        "\n",
        "# 目的変数の値を計算\n",
        "y_pred=model1.predict(x2)\n",
        "\n",
        "# 図のサイズを指定\n",
        "plt.figure(figsize=(6, 6))\n",
        "\n",
        "# 横軸の値に説明変数、縦軸に目的変数を指定し、\n",
        "# サイズ200のマーカーで散布図を作成\n",
        "plt.scatter(x, y_true, s=20)\n",
        "\n",
        "# 回帰直線を描画する\n",
        "# 横軸の値x2、縦軸の値y、線の種類は破線、線の名前は予測値、線の色は赤\n",
        "plt.plot(x2, y_pred, linestyle='dashed', label='予測値', color='red')\n",
        "\n",
        "plt.xlabel('犯罪率(人口単位)', fontsize=14)\n",
        "plt.ylabel('住宅価格(1000ドル)', fontsize=14)\n",
        "plt.xlim(0, )\n",
        "plt.ylim(0, )\n",
        "plt.legend(fontsize=14)\n",
        "plt.show()"
      ]
    },
    {
      "cell_type": "markdown",
      "metadata": {
        "id": "uC4yk-6YYX4H"
      },
      "source": [
        "# 実習2.4：部屋数と住宅価格の関係を分析する"
      ]
    },
    {
      "cell_type": "code",
      "execution_count": 15,
      "metadata": {
        "colab": {
          "base_uri": "https://localhost:8080/"
        },
        "id": "8BYj4PnYYX4H",
        "outputId": "a7bd2c3b-dc1d-41a9-8580-2597ec087397"
      },
      "outputs": [
        {
          "output_type": "stream",
          "name": "stdout",
          "text": [
            "w1(傾き): [[9.10210898]]\n",
            "w1の形状: (1, 1)\n",
            "w0(切片): [-34.67062078]\n",
            "w0の形状: (1,)\n",
            "MSE: 43.60055177116956\n"
          ]
        }
      ],
      "source": [
        "import numpy as np\n",
        "from sklearn.linear_model import LinearRegression\n",
        "\n",
        "# 説明変数。データフレームから名前RMの列を取り出し、変数xに代入\n",
        "x = boston['RM']\n",
        "# 分析用に、配列を(データ数, 成分数)の形状に変形\n",
        "x = x.to_numpy().reshape(-1, 1)\n",
        "\n",
        "# 目的変数。データフレームから名前PRICEの列を取り出し、変数y_trueに代入\n",
        "y_true = boston['PRICE']\n",
        "# 分析用に、配列を(データ数, 成分数)の形状に変形\n",
        "y_true = y_true.to_numpy().reshape(-1, 1)\n",
        "\n",
        "# 単回帰分析クラスのインスタンス生成\n",
        "model2=LinearRegression()\n",
        "\n",
        "# 回帰の実行。パラメータ推定。説明変数x、目的変数y_true\n",
        "model2.fit(x, y_true)\n",
        "\n",
        "w1=model2.coef_      # model2が持つ傾きの値をw1に代入\n",
        "w0=model2.intercept_ # model2が持つ切片の値をw0に代入\n",
        "print('w1(傾き):', w1)\n",
        "print('w1の形状:', w1.shape)\n",
        "print('w0(切片):', w0)\n",
        "print('w0の形状:', w0.shape)\n",
        "\n",
        "# 説明変数に対する予測値を計算\n",
        "y_pred = model2.predict(x)\n",
        "\n",
        "# 目的変数に対する予測値の\n",
        "# 平均二乗誤差(mean squared error)を計算する\n",
        "mse=mean_squared_error(y_true, y_pred)\n",
        "print('MSE:', mse)"
      ]
    },
    {
      "cell_type": "markdown",
      "metadata": {
        "id": "L9SDMfKpYX4J"
      },
      "source": [
        "# 実習2.5：部屋数と住宅価格の関係、回帰直線を描画する"
      ]
    },
    {
      "cell_type": "code",
      "execution_count": 16,
      "metadata": {
        "colab": {
          "base_uri": "https://localhost:8080/",
          "height": 545
        },
        "id": "ajbH5n5aYX4K",
        "outputId": "32e19c77-0a82-4197-9325-f8e4132289e5"
      },
      "outputs": [
        {
          "output_type": "display_data",
          "data": {
            "text/plain": [
              "<Figure size 600x600 with 1 Axes>"
            ],
            "image/png": "[encoded data removed]"
          },
          "metadata": {}
        }
      ],
      "source": [
        "import matplotlib.pyplot as plt\n",
        "import japanize_matplotlib\n",
        "import numpy as np\n",
        "\n",
        "# 回帰直線を引くために説明変数の値を生成\n",
        "# 0以上10以下の範囲で等間隔に100点生成する。\n",
        "x2=np.linspace(0, 10, 100)\n",
        "\n",
        "# 配列を(データ数, 成分数)の形状に変形\n",
        "x2=x2.reshape(-1, 1)\n",
        "\n",
        "# 目的変数の値を計算\n",
        "y_pred=model2.predict(x2)\n",
        "\n",
        "# 図のサイズを指定\n",
        "plt.figure(figsize=(6, 6))\n",
        "\n",
        "# 横軸の値に説明変数、縦軸に目的変数を指定し、\n",
        "# サイズ200のマーカーで散布図を作成\n",
        "plt.scatter(x, y_true, s=20)\n",
        "\n",
        "# 回帰直線を描画する\n",
        "# 横軸の値x2、縦軸の値y、線の種類は破線、線の名前は予測値、線の色は赤\n",
        "plt.plot(x2, y_pred, linestyle='dashed', label='予測値', color='red')\n",
        "\n",
        "plt.xlabel('平均部屋数', fontsize=14)\n",
        "plt.ylabel('住宅価格(1000ドル)', fontsize=14)\n",
        "plt.xlim(0, )\n",
        "plt.ylim(0, )\n",
        "plt.legend(fontsize=14)\n",
        "plt.show()"
      ]
    },
    {
      "cell_type": "markdown",
      "metadata": {
        "id": "askaYNHnmYtk"
      },
      "source": [
        "# 実習2.6：築年数と住宅価格の関係を分析する"
      ]
    },
    {
      "cell_type": "code",
      "execution_count": 19,
      "metadata": {
        "colab": {
          "base_uri": "https://localhost:8080/"
        },
        "id": "i_1DcYHBkYHi",
        "outputId": "bf311ffa-8daa-4c5d-a43a-eb42174196e2"
      },
      "outputs": [
        {
          "output_type": "stream",
          "name": "stdout",
          "text": [
            "w1(傾き): [[-0.12316272]]\n",
            "w1の形状: (1, 1)\n",
            "w0(切片): [30.97867776]\n",
            "w0の形状: (1,)\n",
            "MSE: 72.42398092899337\n"
          ]
        }
      ],
      "source": [
        "import numpy as np\n",
        "from sklearn.linear_model import LinearRegression\n",
        "\n",
        "# 説明変数。データフレームから名前AGEの列を取り出し、変数xに代入\n",
        "x = boston['AGE']\n",
        "# 分析用に、配列を(データ数, 成分数)の形状に変形\n",
        "x = x.to_numpy().reshape(-1, 1)\n",
        "\n",
        "# 目的変数。データフレームから名前PRICEの列を取り出し、変数y_trueに代入\n",
        "y_true = boston['PRICE']\n",
        "# 分析用に、配列を(データ数, 成分数)の形状に変形\n",
        "y_true = y_true.to_numpy().reshape(-1, 1)\n",
        "\n",
        "# 単回帰分析クラスのインスタンス生成\n",
        "model3=LinearRegression()\n",
        "\n",
        "# 回帰の実行。パラメータ推定。説明変数x、目的変数y_true\n",
        "model3.fit(x, y_true)\n",
        "\n",
        "w1=model3.coef_      # model3が持つ傾きの値をw1に代入\n",
        "w0=model3.intercept_ # model3が持つ切片の値をw0に代入\n",
        "print('w1(傾き):', w1)\n",
        "print('w1の形状:', w1.shape)\n",
        "print('w0(切片):', w0)\n",
        "print('w0の形状:', w0.shape)\n",
        "\n",
        "# 説明変数に対する予測値を計算\n",
        "y_pred = model3.predict(x)\n",
        "\n",
        "# 目的変数に対する予測値の\n",
        "# 平均二乗誤差(mean squared error)を計算する\n",
        "mse=mean_squared_error(y_true, y_pred)\n",
        "print('MSE:', mse)"
      ]
    },
    {
      "cell_type": "markdown",
      "metadata": {
        "id": "dbYRsI-Wmfrz"
      },
      "source": [
        "# 実習2.7：築年数と住宅価格の関係、回帰直線を描画する"
      ]
    },
    {
      "cell_type": "code",
      "execution_count": 20,
      "metadata": {
        "colab": {
          "base_uri": "https://localhost:8080/",
          "height": 545
        },
        "id": "qpmhGBMYkeOS",
        "outputId": "4a4126e3-8dcc-41be-89a0-5cbd21b07d6e"
      },
      "outputs": [
        {
          "output_type": "display_data",
          "data": {
            "text/plain": [
              "<Figure size 600x600 with 1 Axes>"
            ],
            "image/png": "[encoded data removed]"
          },
          "metadata": {}
        }
      ],
      "source": [
        "import matplotlib.pyplot as plt\n",
        "import japanize_matplotlib\n",
        "import numpy as np\n",
        "\n",
        "# 回帰直線を引くために説明変数の値を生成\n",
        "# 0以上100以下の範囲で等間隔に100点生成する。\n",
        "x2=np.linspace(0, 100, 100)\n",
        "\n",
        "# 配列を(データ数, 成分数)の形状に変形\n",
        "x2=x2.reshape(-1, 1)\n",
        "\n",
        "# 目的変数の値を計算\n",
        "y_pred=model3.predict(x2)\n",
        "\n",
        "# 図のサイズを指定\n",
        "plt.figure(figsize=(6, 6))\n",
        "\n",
        "# 横軸の値に説明変数、縦軸に目的変数を指定し、\n",
        "# サイズ200のマーカーで散布図を作成\n",
        "plt.scatter(x, y_true, s=20)\n",
        "\n",
        "# 回帰直線を描画する\n",
        "# 横軸の値x2、縦軸の値y、線の種類は破線、線の名前は予測値、線の色は赤\n",
        "plt.plot(x2, y_pred, linestyle='dashed', label='予測値', color='red')\n",
        "\n",
        "plt.xlabel('築年数', fontsize=14)\n",
        "plt.ylabel('住宅価格(1000ドル)', fontsize=14)\n",
        "plt.xlim(0, )\n",
        "plt.ylim(0, )\n",
        "plt.legend(fontsize=14)\n",
        "plt.show()"
      ]
    }
  ],
  "metadata": {
    "colab": {
      "provenance": []
    },
    "kernelspec": {
      "display_name": "Python 3 (ipykernel)",
      "language": "python",
      "name": "python3"
    },
    "language_info": {
      "codemirror_mode": {
        "name": "ipython",
        "version": 3
      },
      "file_extension": ".py",
      "mimetype": "text/x-python",
      "name": "python",
      "nbconvert_exporter": "python",
      "pygments_lexer": "ipython3",
      "version": "3.7.11"
    },
    "latex_envs": {
      "LaTeX_envs_menu_present": true,
      "autoclose": false,
      "autocomplete": true,
      "bibliofile": "biblio.bib",
      "cite_by": "apalike",
      "current_citInitial": 1,
      "eqLabelWithNumbers": true,
      "eqNumInitial": 1,
      "hotkeys": {
        "equation": "Ctrl-E",
        "itemize": "Ctrl-I"
      },
      "labels_anchors": false,
      "latex_user_defs": false,
      "report_style_numbering": false,
      "user_envs_cfg": false
    },
    "toc": {
      "base_numbering": 1,
      "nav_menu": {},
      "number_sections": false,
      "sideBar": true,
      "skip_h1_title": false,
      "title_cell": "Table of Contents",
      "title_sidebar": "Contents",
      "toc_cell": false,
      "toc_position": {},
      "toc_section_display": true,
      "toc_window_display": false
    },
    "varInspector": {
      "cols": {
        "lenName": 16,
        "lenType": 16,
        "lenVar": 40
      },
      "kernels_config": {
        "python": {
          "delete_cmd_postfix": "",
          "delete_cmd_prefix": "del ",
          "library": "var_list.py",
          "varRefreshCmd": "print(var_dic_list())"
        },
        "r": {
          "delete_cmd_postfix": ") ",
          "delete_cmd_prefix": "rm(",
          "library": "var_list.r",
          "varRefreshCmd": "cat(var_dic_list()) "
        }
      },
      "types_to_exclude": [
        "module",
        "function",
        "builtin_function_or_method",
        "instance",
        "_Feature"
      ],
      "window_display": false
    }
  },
  "nbformat": 4,
  "nbformat_minor": 0
}